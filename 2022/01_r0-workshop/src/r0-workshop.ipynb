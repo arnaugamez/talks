{
 "cells": [
  {
   "cell_type": "markdown",
   "id": "b98d7fc8-0130-4c10-9131-f0958b81cbf4",
   "metadata": {},
   "source": [
    "# MBA obfuscation"
   ]
  },
  {
   "cell_type": "code",
   "execution_count": 1,
   "id": "660b2b27-c5c8-4708-8238-47af72a5f775",
   "metadata": {},
   "outputs": [],
   "source": [
    "# Original expression\n",
    "# ---\n",
    "# (x | y) + (x ^ y)\n",
    "\n",
    "# MBA rewrite rules\n",
    "# ---\n",
    "# x | y -> x + (~x & y)\n",
    "# x ^ y -> x + y - 2*(x & y)\n",
    "# x + y -> (x | y) + (~x | y) - ~x"
   ]
  },
  {
   "cell_type": "code",
   "execution_count": 2,
   "id": "2e7f124b-ef78-4da1-96c4-ca381ecd1af3",
   "metadata": {},
   "outputs": [
    {
     "name": "stdout",
     "output_type": "stream",
     "text": [
      "proved\n",
      "proved\n",
      "proved\n"
     ]
    }
   ],
   "source": [
    "\"\"\"\n",
    "Prove the semantic equivalence of the operators\n",
    "and their rewritten (more complex) form.\n",
    "In other words, prove the correctness of the\n",
    "MBA rewrite rules.\n",
    "\"\"\"\n",
    "from z3 import *\n",
    "x, y = BitVecs(\"x y\", 64)\n",
    "\n",
    "# OR\n",
    "prove(x | y == x + (~x & y))\n",
    "\n",
    "# XOR\n",
    "prove(x ^ y == x + y - 2*(x & y))\n",
    "\n",
    "# ADD\n",
    "prove(x + y == (x | y) + (~x | y) - ~x)"
   ]
  },
  {
   "cell_type": "code",
   "execution_count": 3,
   "id": "b1e9adbd-7a21-4f53-bc98-c5d18f0856ed",
   "metadata": {},
   "outputs": [
    {
     "name": "stdout",
     "output_type": "stream",
     "text": [
      "MBA REWRITE OR\n",
      "---\n",
      "L + (~L & R)\n",
      "\n",
      "MBA REWRITE XOR\n",
      "---\n",
      "L + R - 2*(L & R)\n",
      "\n",
      "MBA REWRITE ADD\n",
      "---\n",
      "(L | R) + (~L | R) - ~L\n",
      "\n"
     ]
    }
   ],
   "source": [
    "\"\"\"\n",
    "Replace 'x' and 'y' by 'L' and 'R' in rewrite expressions.\n",
    "\n",
    "This eases the task of rewriting later, and helps visualize\n",
    "the fact that we can apply rewrite rules not only to single\n",
    "variables, but also to whole (Left and Right) (sub)expressions.\n",
    "\"\"\"\n",
    "mba_rewrite_or = \"x + (~x & y)\".replace('x', 'L').replace('y', 'R')\n",
    "mba_rewrite_xor = \"x + y - 2*(x & y)\".replace('x', 'L').replace('y', 'R')\n",
    "mba_rewrite_add = \"(x | y) + (~x | y) - ~x\".replace('x', 'L').replace('y', 'R')\n",
    "\n",
    "print(f\"MBA REWRITE OR\\n---\\n{mba_rewrite_or}\\n\")\n",
    "print(f\"MBA REWRITE XOR\\n---\\n{mba_rewrite_xor}\\n\")\n",
    "print(f\"MBA REWRITE ADD\\n---\\n{mba_rewrite_add}\\n\")"
   ]
  },
  {
   "cell_type": "code",
   "execution_count": 4,
   "id": "8173f4e2-72eb-4ad7-9f06-19e65c34c300",
   "metadata": {},
   "outputs": [
    {
     "name": "stdout",
     "output_type": "stream",
     "text": [
      "Expression(\n",
      "    body=BinOp(\n",
      "        left=BinOp(\n",
      "            left=Name(id='x', ctx=Load()),\n",
      "            op=BitOr(),\n",
      "            right=Name(id='y', ctx=Load())),\n",
      "        op=Add(),\n",
      "        right=BinOp(\n",
      "            left=Name(id='x', ctx=Load()),\n",
      "            op=BitXor(),\n",
      "            right=Name(id='y', ctx=Load()))))\n"
     ]
    }
   ],
   "source": [
    "\"\"\"\n",
    "Generate AST representation of the non-obfuscated (simple)\n",
    "expression we will deal with.\n",
    "\"\"\"\n",
    "\n",
    "import ast\n",
    "import astunparse\n",
    "\n",
    "simp = \"(x | y) + (x ^ y)\"\n",
    "expr = ast.parse(simp, mode=\"eval\")\n",
    "\n",
    "print(ast.dump(expr, indent=4))"
   ]
  },
  {
   "cell_type": "code",
   "execution_count": 5,
   "id": "9d1ed397-9d83-43d9-8280-dc5d0ae85c3b",
   "metadata": {},
   "outputs": [],
   "source": [
    "\"\"\"\n",
    "Extract binary operations (i.e. operations with two operands)\n",
    "from the AST representation of the expression, from bottom to top.\n",
    "\"\"\"\n",
    "def bottomUpBFS(node):\n",
    "    q = []\n",
    "    q.append(node)\n",
    "    \n",
    "    bin_ops = []\n",
    "    \n",
    "    while q:\n",
    "        cur = q.pop(0)\n",
    "        \n",
    "        if hasattr(cur, 'left'):\n",
    "            q.append(cur.left)\n",
    "            \n",
    "        if hasattr(cur, 'right'):\n",
    "            q.append(cur.right)\n",
    "            \n",
    "        if isinstance(cur, ast.BinOp):\n",
    "            bin_ops.append(cur)\n",
    "            \n",
    "    return bin_ops"
   ]
  },
  {
   "cell_type": "code",
   "execution_count": 6,
   "id": "665737eb-fb44-4862-9250-8de13b487c45",
   "metadata": {},
   "outputs": [],
   "source": [
    "\"\"\"\n",
    "Apply MBA rewrite rules to obfuscate an expression.\n",
    "\n",
    "Rewrite rules are applied to the whole (sub)expressions\n",
    "that conform Left and Right operands for the\n",
    "binary operations covered (OR, XOR and ADD).\n",
    "\"\"\"\n",
    "def rewriteMBA(root):\n",
    "    bin_ops = bottomUpBFS(root)\n",
    "    \n",
    "    while bin_ops:\n",
    "        cur = bin_ops.pop()\n",
    "        new = None\n",
    "        \n",
    "        L = astunparse.unparse(cur.left)[:-1]\n",
    "        R = astunparse.unparse(cur.right)[:-1]\n",
    "        \n",
    "        if isinstance(cur.op, ast.BitOr):\n",
    "            # print (\"OR rewrite\")\n",
    "            new = ast.parse(mba_rewrite_or.replace('L', L).replace('R', R), mode=\"eval\").body\n",
    "            \n",
    "        if isinstance(cur.op, ast.BitXor):\n",
    "            # print (\"XOR rewrite\")\n",
    "            new = ast.parse(mba_rewrite_xor.replace('L', L).replace('R', R), mode=\"eval\").body\n",
    "            \n",
    "        if isinstance(cur.op, ast.Add):\n",
    "            # print (\"ADD rewrite\")\n",
    "            new = ast.parse(mba_rewrite_add.replace('L', L).replace('R', R), mode=\"eval\").body\n",
    "            \n",
    "        if new:\n",
    "            cur.op = new.op\n",
    "            cur.left = new.left\n",
    "            cur.right = new.right\n",
    "            \n",
    "        # print(astunparse.unparse(expr))"
   ]
  },
  {
   "cell_type": "code",
   "execution_count": 7,
   "id": "5322968a-ffb4-457e-a89a-4222918b3970",
   "metadata": {},
   "outputs": [
    {
     "name": "stdout",
     "output_type": "stream",
     "text": [
      "((((x + ((~ x) & y)) | ((x + y) - (2 * (x & y)))) + ((~ (x + ((~ x) & y))) | ((x + y) - (2 * (x & y))))) - (~ (x + ((~ x) & y))))\n",
      "\n"
     ]
    }
   ],
   "source": [
    "\"\"\"\n",
    "Apply rewrite rules (1st iteration)\n",
    "\"\"\"\n",
    "rewriteMBA(expr.body)\n",
    "print(astunparse.unparse(expr))"
   ]
  },
  {
   "cell_type": "code",
   "execution_count": 8,
   "id": "a86dd1e7-7d13-4ecc-8c38-c636499d358b",
   "metadata": {},
   "outputs": [
    {
     "name": "stdout",
     "output_type": "stream",
     "text": [
      "proved\n"
     ]
    }
   ],
   "source": [
    "\"\"\"\n",
    "Prove the semantic equivalence of the original expression\n",
    "and the obfuscated one derived from rewrite process\n",
    "\"\"\"\n",
    "x, y = BitVecs(\"x y\", 64)\n",
    "\n",
    "simp_z3 = (x | y) + (x ^ y)\n",
    "obf2_z3 = ((((x + ((~ x) & y)) | ((x + y) - (2 * (x & y)))) + ((~ (x + ((~ x) & y))) | ((x + y) - (2 * (x & y))))) - (~ (x + ((~ x) & y))))\n",
    "\n",
    "# Takes a few seconds\n",
    "prove(simp_z3 == obf2_z3)"
   ]
  },
  {
   "cell_type": "code",
   "execution_count": 9,
   "id": "d2c300b2-d8e2-44e5-82a2-9df6b2f5af88",
   "metadata": {},
   "outputs": [
    {
     "name": "stdout",
     "output_type": "stream",
     "text": [
      "((((((((x | ((~ x) & y)) + ((~ x) | ((~ x) & y))) - (~ x)) + ((~ (((x | ((~ x) & y)) + ((~ x) | ((~ x) & y))) - (~ x))) & ((((x | y) + ((~ x) | y)) - (~ x)) - (2 * (x & y))))) | ((~ (x + ((~ x) & y))) + ((~ (~ (x + ((~ x) & y)))) & ((((x | y) + ((~ x) | y)) - (~ x)) - (2 * (x & y)))))) + ((~ ((((x | ((~ x) & y)) + ((~ x) | ((~ x) & y))) - (~ x)) + ((~ (((x | ((~ x) & y)) + ((~ x) | ((~ x) & y))) - (~ x))) & ((((x | y) + ((~ x) | y)) - (~ x)) - (2 * (x & y)))))) | ((~ (x + ((~ x) & y))) + ((~ (~ (x + ((~ x) & y)))) & ((((x | y) + ((~ x) | y)) - (~ x)) - (2 * (x & y))))))) - (~ ((((x | ((~ x) & y)) + ((~ x) | ((~ x) & y))) - (~ x)) + ((~ (((x | ((~ x) & y)) + ((~ x) | ((~ x) & y))) - (~ x))) & ((((x | y) + ((~ x) | y)) - (~ x)) - (2 * (x & y))))))) - (~ (x + ((~ x) & y))))\n",
      "\n"
     ]
    }
   ],
   "source": [
    "\"\"\"\n",
    "Apply rewrite rules (2nd iteration)\n",
    "\"\"\"\n",
    "rewriteMBA(expr.body)\n",
    "print(astunparse.unparse(expr))"
   ]
  },
  {
   "cell_type": "code",
   "execution_count": 10,
   "id": "654664d4-2de0-4126-84da-6ed04cb95000",
   "metadata": {},
   "outputs": [],
   "source": [
    "x, y = BitVecs(\"x y\", 64)\n",
    "\n",
    "simp_z3 = (x | y) + (x ^ y)\n",
    "obf3_z3 = ((((((((x | ((~ x) & y)) + ((~ x) | ((~ x) & y))) - (~ x)) + ((~ (((x | ((~ x) & y)) + ((~ x) | ((~ x) & y))) - (~ x))) & ((((x | y) + ((~ x) | y)) - (~ x)) - (2 * (x & y))))) | ((~ (x + ((~ x) & y))) + ((~ (~ (x + ((~ x) & y)))) & ((((x | y) + ((~ x) | y)) - (~ x)) - (2 * (x & y)))))) + ((~ ((((x | ((~ x) & y)) + ((~ x) | ((~ x) & y))) - (~ x)) + ((~ (((x | ((~ x) & y)) + ((~ x) | ((~ x) & y))) - (~ x))) & ((((x | y) + ((~ x) | y)) - (~ x)) - (2 * (x & y)))))) | ((~ (x + ((~ x) & y))) + ((~ (~ (x + ((~ x) & y)))) & ((((x | y) + ((~ x) | y)) - (~ x)) - (2 * (x & y))))))) - (~ ((((x | ((~ x) & y)) + ((~ x) | ((~ x) & y))) - (~ x)) + ((~ (((x | ((~ x) & y)) + ((~ x) | ((~ x) & y))) - (~ x))) & ((((x | y) + ((~ x) | y)) - (~ x)) - (2 * (x & y))))))) - (~ (x + ((~ x) & y))))\n",
    "\n",
    "# Takes quite some minutes\n",
    "# prove(simp_z3 == obf3_z3)"
   ]
  },
  {
   "cell_type": "code",
   "execution_count": 11,
   "id": "9eb2db21-13c4-456e-9401-adcae9e61d32",
   "metadata": {},
   "outputs": [
    {
     "name": "stdout",
     "output_type": "stream",
     "text": [
      "((((((((((((((x + ((~ x) & ((~ x) & y))) | ((~ x) + ((~ (~ x)) & ((~ x) & y)))) + ((~ (x + ((~ x) & ((~ x) & y)))) | ((~ x) + ((~ (~ x)) & ((~ x) & y))))) - (~ (x + ((~ x) & ((~ x) & y))))) - (~ x)) | ((~ (((x | ((~ x) & y)) + ((~ x) | ((~ x) & y))) - (~ x))) & ((((((x + ((~ x) & y)) | ((~ x) + ((~ (~ x)) & y))) + ((~ (x + ((~ x) & y))) | ((~ x) + ((~ (~ x)) & y)))) - (~ (x + ((~ x) & y)))) - (~ x)) - (2 * (x & y))))) + ((~ (((((x + ((~ x) & ((~ x) & y))) | ((~ x) + ((~ (~ x)) & ((~ x) & y)))) + ((~ (x + ((~ x) & ((~ x) & y)))) | ((~ x) + ((~ (~ x)) & ((~ x) & y))))) - (~ (x + ((~ x) & ((~ x) & y))))) - (~ x))) | ((~ (((x | ((~ x) & y)) + ((~ x) | ((~ x) & y))) - (~ x))) & ((((((x + ((~ x) & y)) | ((~ x) + ((~ (~ x)) & y))) + ((~ (x + ((~ x) & y))) | ((~ x) + ((~ (~ x)) & y)))) - (~ (x + ((~ x) & y)))) - (~ x)) - (2 * (x & y)))))) - (~ (((((x + ((~ x) & ((~ x) & y))) | ((~ x) + ((~ (~ x)) & ((~ x) & y)))) + ((~ (x + ((~ x) & ((~ x) & y)))) | ((~ x) + ((~ (~ x)) & ((~ x) & y))))) - (~ (x + ((~ x) & ((~ x) & y))))) - (~ x)))) + ((~ ((((((((x + ((~ x) & ((~ x) & y))) | ((~ x) + ((~ (~ x)) & ((~ x) & y)))) + ((~ (x + ((~ x) & ((~ x) & y)))) | ((~ x) + ((~ (~ x)) & ((~ x) & y))))) - (~ (x + ((~ x) & ((~ x) & y))))) - (~ x)) | ((~ (((x | ((~ x) & y)) + ((~ x) | ((~ x) & y))) - (~ x))) & ((((((x + ((~ x) & y)) | ((~ x) + ((~ (~ x)) & y))) + ((~ (x + ((~ x) & y))) | ((~ x) + ((~ (~ x)) & y)))) - (~ (x + ((~ x) & y)))) - (~ x)) - (2 * (x & y))))) + ((~ (((((x + ((~ x) & ((~ x) & y))) | ((~ x) + ((~ (~ x)) & ((~ x) & y)))) + ((~ (x + ((~ x) & ((~ x) & y)))) | ((~ x) + ((~ (~ x)) & ((~ x) & y))))) - (~ (x + ((~ x) & ((~ x) & y))))) - (~ x))) | ((~ (((x | ((~ x) & y)) + ((~ x) | ((~ x) & y))) - (~ x))) & ((((((x + ((~ x) & y)) | ((~ x) + ((~ (~ x)) & y))) + ((~ (x + ((~ x) & y))) | ((~ x) + ((~ (~ x)) & y)))) - (~ (x + ((~ x) & y)))) - (~ x)) - (2 * (x & y)))))) - (~ (((((x + ((~ x) & ((~ x) & y))) | ((~ x) + ((~ (~ x)) & ((~ x) & y)))) + ((~ (x + ((~ x) & ((~ x) & y)))) | ((~ x) + ((~ (~ x)) & ((~ x) & y))))) - (~ (x + ((~ x) & ((~ x) & y))))) - (~ x))))) & ((((~ (x + ((~ x) & y))) | ((~ (~ (x + ((~ x) & y)))) & ((((((x + ((~ x) & y)) | ((~ x) + ((~ (~ x)) & y))) + ((~ (x + ((~ x) & y))) | ((~ x) + ((~ (~ x)) & y)))) - (~ (x + ((~ x) & y)))) - (~ x)) - (2 * (x & y))))) + ((~ (~ (x + ((~ x) & y)))) | ((~ (~ (x + ((~ x) & y)))) & ((((((x + ((~ x) & y)) | ((~ x) + ((~ (~ x)) & y))) + ((~ (x + ((~ x) & y))) | ((~ x) + ((~ (~ x)) & y)))) - (~ (x + ((~ x) & y)))) - (~ x)) - (2 * (x & y)))))) - (~ (~ (x + ((~ x) & y))))))) | ((~ ((((x | ((~ x) & y)) + ((~ x) | ((~ x) & y))) - (~ x)) + ((~ (((x | ((~ x) & y)) + ((~ x) | ((~ x) & y))) - (~ x))) & ((((x | y) + ((~ x) | y)) - (~ x)) - (2 * (x & y)))))) + ((~ (~ ((((x | ((~ x) & y)) + ((~ x) | ((~ x) & y))) - (~ x)) + ((~ (((x | ((~ x) & y)) + ((~ x) | ((~ x) & y))) - (~ x))) & ((((x | y) + ((~ x) | y)) - (~ x)) - (2 * (x & y))))))) & ((((~ (x + ((~ x) & y))) | ((~ (~ (x + ((~ x) & y)))) & ((((((x + ((~ x) & y)) | ((~ x) + ((~ (~ x)) & y))) + ((~ (x + ((~ x) & y))) | ((~ x) + ((~ (~ x)) & y)))) - (~ (x + ((~ x) & y)))) - (~ x)) - (2 * (x & y))))) + ((~ (~ (x + ((~ x) & y)))) | ((~ (~ (x + ((~ x) & y)))) & ((((((x + ((~ x) & y)) | ((~ x) + ((~ (~ x)) & y))) + ((~ (x + ((~ x) & y))) | ((~ x) + ((~ (~ x)) & y)))) - (~ (x + ((~ x) & y)))) - (~ x)) - (2 * (x & y)))))) - (~ (~ (x + ((~ x) & y)))))))) + ((~ (((((((((x + ((~ x) & ((~ x) & y))) | ((~ x) + ((~ (~ x)) & ((~ x) & y)))) + ((~ (x + ((~ x) & ((~ x) & y)))) | ((~ x) + ((~ (~ x)) & ((~ x) & y))))) - (~ (x + ((~ x) & ((~ x) & y))))) - (~ x)) | ((~ (((x | ((~ x) & y)) + ((~ x) | ((~ x) & y))) - (~ x))) & ((((((x + ((~ x) & y)) | ((~ x) + ((~ (~ x)) & y))) + ((~ (x + ((~ x) & y))) | ((~ x) + ((~ (~ x)) & y)))) - (~ (x + ((~ x) & y)))) - (~ x)) - (2 * (x & y))))) + ((~ (((((x + ((~ x) & ((~ x) & y))) | ((~ x) + ((~ (~ x)) & ((~ x) & y)))) + ((~ (x + ((~ x) & ((~ x) & y)))) | ((~ x) + ((~ (~ x)) & ((~ x) & y))))) - (~ (x + ((~ x) & ((~ x) & y))))) - (~ x))) | ((~ (((x | ((~ x) & y)) + ((~ x) | ((~ x) & y))) - (~ x))) & ((((((x + ((~ x) & y)) | ((~ x) + ((~ (~ x)) & y))) + ((~ (x + ((~ x) & y))) | ((~ x) + ((~ (~ x)) & y)))) - (~ (x + ((~ x) & y)))) - (~ x)) - (2 * (x & y)))))) - (~ (((((x + ((~ x) & ((~ x) & y))) | ((~ x) + ((~ (~ x)) & ((~ x) & y)))) + ((~ (x + ((~ x) & ((~ x) & y)))) | ((~ x) + ((~ (~ x)) & ((~ x) & y))))) - (~ (x + ((~ x) & ((~ x) & y))))) - (~ x)))) + ((~ ((((((((x + ((~ x) & ((~ x) & y))) | ((~ x) + ((~ (~ x)) & ((~ x) & y)))) + ((~ (x + ((~ x) & ((~ x) & y)))) | ((~ x) + ((~ (~ x)) & ((~ x) & y))))) - (~ (x + ((~ x) & ((~ x) & y))))) - (~ x)) | ((~ (((x | ((~ x) & y)) + ((~ x) | ((~ x) & y))) - (~ x))) & ((((((x + ((~ x) & y)) | ((~ x) + ((~ (~ x)) & y))) + ((~ (x + ((~ x) & y))) | ((~ x) + ((~ (~ x)) & y)))) - (~ (x + ((~ x) & y)))) - (~ x)) - (2 * (x & y))))) + ((~ (((((x + ((~ x) & ((~ x) & y))) | ((~ x) + ((~ (~ x)) & ((~ x) & y)))) + ((~ (x + ((~ x) & ((~ x) & y)))) | ((~ x) + ((~ (~ x)) & ((~ x) & y))))) - (~ (x + ((~ x) & ((~ x) & y))))) - (~ x))) | ((~ (((x | ((~ x) & y)) + ((~ x) | ((~ x) & y))) - (~ x))) & ((((((x + ((~ x) & y)) | ((~ x) + ((~ (~ x)) & y))) + ((~ (x + ((~ x) & y))) | ((~ x) + ((~ (~ x)) & y)))) - (~ (x + ((~ x) & y)))) - (~ x)) - (2 * (x & y)))))) - (~ (((((x + ((~ x) & ((~ x) & y))) | ((~ x) + ((~ (~ x)) & ((~ x) & y)))) + ((~ (x + ((~ x) & ((~ x) & y)))) | ((~ x) + ((~ (~ x)) & ((~ x) & y))))) - (~ (x + ((~ x) & ((~ x) & y))))) - (~ x))))) & ((((~ (x + ((~ x) & y))) | ((~ (~ (x + ((~ x) & y)))) & ((((((x + ((~ x) & y)) | ((~ x) + ((~ (~ x)) & y))) + ((~ (x + ((~ x) & y))) | ((~ x) + ((~ (~ x)) & y)))) - (~ (x + ((~ x) & y)))) - (~ x)) - (2 * (x & y))))) + ((~ (~ (x + ((~ x) & y)))) | ((~ (~ (x + ((~ x) & y)))) & ((((((x + ((~ x) & y)) | ((~ x) + ((~ (~ x)) & y))) + ((~ (x + ((~ x) & y))) | ((~ x) + ((~ (~ x)) & y)))) - (~ (x + ((~ x) & y)))) - (~ x)) - (2 * (x & y)))))) - (~ (~ (x + ((~ x) & y)))))))) | ((~ ((((x | ((~ x) & y)) + ((~ x) | ((~ x) & y))) - (~ x)) + ((~ (((x | ((~ x) & y)) + ((~ x) | ((~ x) & y))) - (~ x))) & ((((x | y) + ((~ x) | y)) - (~ x)) - (2 * (x & y)))))) + ((~ (~ ((((x | ((~ x) & y)) + ((~ x) | ((~ x) & y))) - (~ x)) + ((~ (((x | ((~ x) & y)) + ((~ x) | ((~ x) & y))) - (~ x))) & ((((x | y) + ((~ x) | y)) - (~ x)) - (2 * (x & y))))))) & ((((~ (x + ((~ x) & y))) | ((~ (~ (x + ((~ x) & y)))) & ((((((x + ((~ x) & y)) | ((~ x) + ((~ (~ x)) & y))) + ((~ (x + ((~ x) & y))) | ((~ x) + ((~ (~ x)) & y)))) - (~ (x + ((~ x) & y)))) - (~ x)) - (2 * (x & y))))) + ((~ (~ (x + ((~ x) & y)))) | ((~ (~ (x + ((~ x) & y)))) & ((((((x + ((~ x) & y)) | ((~ x) + ((~ (~ x)) & y))) + ((~ (x + ((~ x) & y))) | ((~ x) + ((~ (~ x)) & y)))) - (~ (x + ((~ x) & y)))) - (~ x)) - (2 * (x & y)))))) - (~ (~ (x + ((~ x) & y))))))))) - (~ (((((((((x + ((~ x) & ((~ x) & y))) | ((~ x) + ((~ (~ x)) & ((~ x) & y)))) + ((~ (x + ((~ x) & ((~ x) & y)))) | ((~ x) + ((~ (~ x)) & ((~ x) & y))))) - (~ (x + ((~ x) & ((~ x) & y))))) - (~ x)) | ((~ (((x | ((~ x) & y)) + ((~ x) | ((~ x) & y))) - (~ x))) & ((((((x + ((~ x) & y)) | ((~ x) + ((~ (~ x)) & y))) + ((~ (x + ((~ x) & y))) | ((~ x) + ((~ (~ x)) & y)))) - (~ (x + ((~ x) & y)))) - (~ x)) - (2 * (x & y))))) + ((~ (((((x + ((~ x) & ((~ x) & y))) | ((~ x) + ((~ (~ x)) & ((~ x) & y)))) + ((~ (x + ((~ x) & ((~ x) & y)))) | ((~ x) + ((~ (~ x)) & ((~ x) & y))))) - (~ (x + ((~ x) & ((~ x) & y))))) - (~ x))) | ((~ (((x | ((~ x) & y)) + ((~ x) | ((~ x) & y))) - (~ x))) & ((((((x + ((~ x) & y)) | ((~ x) + ((~ (~ x)) & y))) + ((~ (x + ((~ x) & y))) | ((~ x) + ((~ (~ x)) & y)))) - (~ (x + ((~ x) & y)))) - (~ x)) - (2 * (x & y)))))) - (~ (((((x + ((~ x) & ((~ x) & y))) | ((~ x) + ((~ (~ x)) & ((~ x) & y)))) + ((~ (x + ((~ x) & ((~ x) & y)))) | ((~ x) + ((~ (~ x)) & ((~ x) & y))))) - (~ (x + ((~ x) & ((~ x) & y))))) - (~ x)))) + ((~ ((((((((x + ((~ x) & ((~ x) & y))) | ((~ x) + ((~ (~ x)) & ((~ x) & y)))) + ((~ (x + ((~ x) & ((~ x) & y)))) | ((~ x) + ((~ (~ x)) & ((~ x) & y))))) - (~ (x + ((~ x) & ((~ x) & y))))) - (~ x)) | ((~ (((x | ((~ x) & y)) + ((~ x) | ((~ x) & y))) - (~ x))) & ((((((x + ((~ x) & y)) | ((~ x) + ((~ (~ x)) & y))) + ((~ (x + ((~ x) & y))) | ((~ x) + ((~ (~ x)) & y)))) - (~ (x + ((~ x) & y)))) - (~ x)) - (2 * (x & y))))) + ((~ (((((x + ((~ x) & ((~ x) & y))) | ((~ x) + ((~ (~ x)) & ((~ x) & y)))) + ((~ (x + ((~ x) & ((~ x) & y)))) | ((~ x) + ((~ (~ x)) & ((~ x) & y))))) - (~ (x + ((~ x) & ((~ x) & y))))) - (~ x))) | ((~ (((x | ((~ x) & y)) + ((~ x) | ((~ x) & y))) - (~ x))) & ((((((x + ((~ x) & y)) | ((~ x) + ((~ (~ x)) & y))) + ((~ (x + ((~ x) & y))) | ((~ x) + ((~ (~ x)) & y)))) - (~ (x + ((~ x) & y)))) - (~ x)) - (2 * (x & y)))))) - (~ (((((x + ((~ x) & ((~ x) & y))) | ((~ x) + ((~ (~ x)) & ((~ x) & y)))) + ((~ (x + ((~ x) & ((~ x) & y)))) | ((~ x) + ((~ (~ x)) & ((~ x) & y))))) - (~ (x + ((~ x) & ((~ x) & y))))) - (~ x))))) & ((((~ (x + ((~ x) & y))) | ((~ (~ (x + ((~ x) & y)))) & ((((((x + ((~ x) & y)) | ((~ x) + ((~ (~ x)) & y))) + ((~ (x + ((~ x) & y))) | ((~ x) + ((~ (~ x)) & y)))) - (~ (x + ((~ x) & y)))) - (~ x)) - (2 * (x & y))))) + ((~ (~ (x + ((~ x) & y)))) | ((~ (~ (x + ((~ x) & y)))) & ((((((x + ((~ x) & y)) | ((~ x) + ((~ (~ x)) & y))) + ((~ (x + ((~ x) & y))) | ((~ x) + ((~ (~ x)) & y)))) - (~ (x + ((~ x) & y)))) - (~ x)) - (2 * (x & y)))))) - (~ (~ (x + ((~ x) & y))))))))) - (~ ((((x | ((~ x) & y)) + ((~ x) | ((~ x) & y))) - (~ x)) + ((~ (((x | ((~ x) & y)) + ((~ x) | ((~ x) & y))) - (~ x))) & ((((x | y) + ((~ x) | y)) - (~ x)) - (2 * (x & y))))))) - (~ (x + ((~ x) & y))))\n",
      "\n"
     ]
    }
   ],
   "source": [
    "\"\"\"\n",
    "Apply rewrite rules (3rd iteration)\n",
    "\"\"\"\n",
    "rewriteMBA(expr.body)\n",
    "print(astunparse.unparse(expr))"
   ]
  },
  {
   "cell_type": "code",
   "execution_count": 12,
   "id": "019cb0d2-7c94-4562-af33-fc9d9667fde1",
   "metadata": {},
   "outputs": [],
   "source": [
    "x, y = BitVecs(\"x y\", 64)\n",
    "\n",
    "simp_z3 = (x | y) + (x ^ y)\n",
    "obf4_z3 = ((((((((((((((x + ((~ x) & ((~ x) & y))) | ((~ x) + ((~ (~ x)) & ((~ x) & y)))) + ((~ (x + ((~ x) & ((~ x) & y)))) | ((~ x) + ((~ (~ x)) & ((~ x) & y))))) - (~ (x + ((~ x) & ((~ x) & y))))) - (~ x)) | ((~ (((x | ((~ x) & y)) + ((~ x) | ((~ x) & y))) - (~ x))) & ((((((x + ((~ x) & y)) | ((~ x) + ((~ (~ x)) & y))) + ((~ (x + ((~ x) & y))) | ((~ x) + ((~ (~ x)) & y)))) - (~ (x + ((~ x) & y)))) - (~ x)) - (2 * (x & y))))) + ((~ (((((x + ((~ x) & ((~ x) & y))) | ((~ x) + ((~ (~ x)) & ((~ x) & y)))) + ((~ (x + ((~ x) & ((~ x) & y)))) | ((~ x) + ((~ (~ x)) & ((~ x) & y))))) - (~ (x + ((~ x) & ((~ x) & y))))) - (~ x))) | ((~ (((x | ((~ x) & y)) + ((~ x) | ((~ x) & y))) - (~ x))) & ((((((x + ((~ x) & y)) | ((~ x) + ((~ (~ x)) & y))) + ((~ (x + ((~ x) & y))) | ((~ x) + ((~ (~ x)) & y)))) - (~ (x + ((~ x) & y)))) - (~ x)) - (2 * (x & y)))))) - (~ (((((x + ((~ x) & ((~ x) & y))) | ((~ x) + ((~ (~ x)) & ((~ x) & y)))) + ((~ (x + ((~ x) & ((~ x) & y)))) | ((~ x) + ((~ (~ x)) & ((~ x) & y))))) - (~ (x + ((~ x) & ((~ x) & y))))) - (~ x)))) + ((~ ((((((((x + ((~ x) & ((~ x) & y))) | ((~ x) + ((~ (~ x)) & ((~ x) & y)))) + ((~ (x + ((~ x) & ((~ x) & y)))) | ((~ x) + ((~ (~ x)) & ((~ x) & y))))) - (~ (x + ((~ x) & ((~ x) & y))))) - (~ x)) | ((~ (((x | ((~ x) & y)) + ((~ x) | ((~ x) & y))) - (~ x))) & ((((((x + ((~ x) & y)) | ((~ x) + ((~ (~ x)) & y))) + ((~ (x + ((~ x) & y))) | ((~ x) + ((~ (~ x)) & y)))) - (~ (x + ((~ x) & y)))) - (~ x)) - (2 * (x & y))))) + ((~ (((((x + ((~ x) & ((~ x) & y))) | ((~ x) + ((~ (~ x)) & ((~ x) & y)))) + ((~ (x + ((~ x) & ((~ x) & y)))) | ((~ x) + ((~ (~ x)) & ((~ x) & y))))) - (~ (x + ((~ x) & ((~ x) & y))))) - (~ x))) | ((~ (((x | ((~ x) & y)) + ((~ x) | ((~ x) & y))) - (~ x))) & ((((((x + ((~ x) & y)) | ((~ x) + ((~ (~ x)) & y))) + ((~ (x + ((~ x) & y))) | ((~ x) + ((~ (~ x)) & y)))) - (~ (x + ((~ x) & y)))) - (~ x)) - (2 * (x & y)))))) - (~ (((((x + ((~ x) & ((~ x) & y))) | ((~ x) + ((~ (~ x)) & ((~ x) & y)))) + ((~ (x + ((~ x) & ((~ x) & y)))) | ((~ x) + ((~ (~ x)) & ((~ x) & y))))) - (~ (x + ((~ x) & ((~ x) & y))))) - (~ x))))) & ((((~ (x + ((~ x) & y))) | ((~ (~ (x + ((~ x) & y)))) & ((((((x + ((~ x) & y)) | ((~ x) + ((~ (~ x)) & y))) + ((~ (x + ((~ x) & y))) | ((~ x) + ((~ (~ x)) & y)))) - (~ (x + ((~ x) & y)))) - (~ x)) - (2 * (x & y))))) + ((~ (~ (x + ((~ x) & y)))) | ((~ (~ (x + ((~ x) & y)))) & ((((((x + ((~ x) & y)) | ((~ x) + ((~ (~ x)) & y))) + ((~ (x + ((~ x) & y))) | ((~ x) + ((~ (~ x)) & y)))) - (~ (x + ((~ x) & y)))) - (~ x)) - (2 * (x & y)))))) - (~ (~ (x + ((~ x) & y))))))) | ((~ ((((x | ((~ x) & y)) + ((~ x) | ((~ x) & y))) - (~ x)) + ((~ (((x | ((~ x) & y)) + ((~ x) | ((~ x) & y))) - (~ x))) & ((((x | y) + ((~ x) | y)) - (~ x)) - (2 * (x & y)))))) + ((~ (~ ((((x | ((~ x) & y)) + ((~ x) | ((~ x) & y))) - (~ x)) + ((~ (((x | ((~ x) & y)) + ((~ x) | ((~ x) & y))) - (~ x))) & ((((x | y) + ((~ x) | y)) - (~ x)) - (2 * (x & y))))))) & ((((~ (x + ((~ x) & y))) | ((~ (~ (x + ((~ x) & y)))) & ((((((x + ((~ x) & y)) | ((~ x) + ((~ (~ x)) & y))) + ((~ (x + ((~ x) & y))) | ((~ x) + ((~ (~ x)) & y)))) - (~ (x + ((~ x) & y)))) - (~ x)) - (2 * (x & y))))) + ((~ (~ (x + ((~ x) & y)))) | ((~ (~ (x + ((~ x) & y)))) & ((((((x + ((~ x) & y)) | ((~ x) + ((~ (~ x)) & y))) + ((~ (x + ((~ x) & y))) | ((~ x) + ((~ (~ x)) & y)))) - (~ (x + ((~ x) & y)))) - (~ x)) - (2 * (x & y)))))) - (~ (~ (x + ((~ x) & y)))))))) + ((~ (((((((((x + ((~ x) & ((~ x) & y))) | ((~ x) + ((~ (~ x)) & ((~ x) & y)))) + ((~ (x + ((~ x) & ((~ x) & y)))) | ((~ x) + ((~ (~ x)) & ((~ x) & y))))) - (~ (x + ((~ x) & ((~ x) & y))))) - (~ x)) | ((~ (((x | ((~ x) & y)) + ((~ x) | ((~ x) & y))) - (~ x))) & ((((((x + ((~ x) & y)) | ((~ x) + ((~ (~ x)) & y))) + ((~ (x + ((~ x) & y))) | ((~ x) + ((~ (~ x)) & y)))) - (~ (x + ((~ x) & y)))) - (~ x)) - (2 * (x & y))))) + ((~ (((((x + ((~ x) & ((~ x) & y))) | ((~ x) + ((~ (~ x)) & ((~ x) & y)))) + ((~ (x + ((~ x) & ((~ x) & y)))) | ((~ x) + ((~ (~ x)) & ((~ x) & y))))) - (~ (x + ((~ x) & ((~ x) & y))))) - (~ x))) | ((~ (((x | ((~ x) & y)) + ((~ x) | ((~ x) & y))) - (~ x))) & ((((((x + ((~ x) & y)) | ((~ x) + ((~ (~ x)) & y))) + ((~ (x + ((~ x) & y))) | ((~ x) + ((~ (~ x)) & y)))) - (~ (x + ((~ x) & y)))) - (~ x)) - (2 * (x & y)))))) - (~ (((((x + ((~ x) & ((~ x) & y))) | ((~ x) + ((~ (~ x)) & ((~ x) & y)))) + ((~ (x + ((~ x) & ((~ x) & y)))) | ((~ x) + ((~ (~ x)) & ((~ x) & y))))) - (~ (x + ((~ x) & ((~ x) & y))))) - (~ x)))) + ((~ ((((((((x + ((~ x) & ((~ x) & y))) | ((~ x) + ((~ (~ x)) & ((~ x) & y)))) + ((~ (x + ((~ x) & ((~ x) & y)))) | ((~ x) + ((~ (~ x)) & ((~ x) & y))))) - (~ (x + ((~ x) & ((~ x) & y))))) - (~ x)) | ((~ (((x | ((~ x) & y)) + ((~ x) | ((~ x) & y))) - (~ x))) & ((((((x + ((~ x) & y)) | ((~ x) + ((~ (~ x)) & y))) + ((~ (x + ((~ x) & y))) | ((~ x) + ((~ (~ x)) & y)))) - (~ (x + ((~ x) & y)))) - (~ x)) - (2 * (x & y))))) + ((~ (((((x + ((~ x) & ((~ x) & y))) | ((~ x) + ((~ (~ x)) & ((~ x) & y)))) + ((~ (x + ((~ x) & ((~ x) & y)))) | ((~ x) + ((~ (~ x)) & ((~ x) & y))))) - (~ (x + ((~ x) & ((~ x) & y))))) - (~ x))) | ((~ (((x | ((~ x) & y)) + ((~ x) | ((~ x) & y))) - (~ x))) & ((((((x + ((~ x) & y)) | ((~ x) + ((~ (~ x)) & y))) + ((~ (x + ((~ x) & y))) | ((~ x) + ((~ (~ x)) & y)))) - (~ (x + ((~ x) & y)))) - (~ x)) - (2 * (x & y)))))) - (~ (((((x + ((~ x) & ((~ x) & y))) | ((~ x) + ((~ (~ x)) & ((~ x) & y)))) + ((~ (x + ((~ x) & ((~ x) & y)))) | ((~ x) + ((~ (~ x)) & ((~ x) & y))))) - (~ (x + ((~ x) & ((~ x) & y))))) - (~ x))))) & ((((~ (x + ((~ x) & y))) | ((~ (~ (x + ((~ x) & y)))) & ((((((x + ((~ x) & y)) | ((~ x) + ((~ (~ x)) & y))) + ((~ (x + ((~ x) & y))) | ((~ x) + ((~ (~ x)) & y)))) - (~ (x + ((~ x) & y)))) - (~ x)) - (2 * (x & y))))) + ((~ (~ (x + ((~ x) & y)))) | ((~ (~ (x + ((~ x) & y)))) & ((((((x + ((~ x) & y)) | ((~ x) + ((~ (~ x)) & y))) + ((~ (x + ((~ x) & y))) | ((~ x) + ((~ (~ x)) & y)))) - (~ (x + ((~ x) & y)))) - (~ x)) - (2 * (x & y)))))) - (~ (~ (x + ((~ x) & y)))))))) | ((~ ((((x | ((~ x) & y)) + ((~ x) | ((~ x) & y))) - (~ x)) + ((~ (((x | ((~ x) & y)) + ((~ x) | ((~ x) & y))) - (~ x))) & ((((x | y) + ((~ x) | y)) - (~ x)) - (2 * (x & y)))))) + ((~ (~ ((((x | ((~ x) & y)) + ((~ x) | ((~ x) & y))) - (~ x)) + ((~ (((x | ((~ x) & y)) + ((~ x) | ((~ x) & y))) - (~ x))) & ((((x | y) + ((~ x) | y)) - (~ x)) - (2 * (x & y))))))) & ((((~ (x + ((~ x) & y))) | ((~ (~ (x + ((~ x) & y)))) & ((((((x + ((~ x) & y)) | ((~ x) + ((~ (~ x)) & y))) + ((~ (x + ((~ x) & y))) | ((~ x) + ((~ (~ x)) & y)))) - (~ (x + ((~ x) & y)))) - (~ x)) - (2 * (x & y))))) + ((~ (~ (x + ((~ x) & y)))) | ((~ (~ (x + ((~ x) & y)))) & ((((((x + ((~ x) & y)) | ((~ x) + ((~ (~ x)) & y))) + ((~ (x + ((~ x) & y))) | ((~ x) + ((~ (~ x)) & y)))) - (~ (x + ((~ x) & y)))) - (~ x)) - (2 * (x & y)))))) - (~ (~ (x + ((~ x) & y))))))))) - (~ (((((((((x + ((~ x) & ((~ x) & y))) | ((~ x) + ((~ (~ x)) & ((~ x) & y)))) + ((~ (x + ((~ x) & ((~ x) & y)))) | ((~ x) + ((~ (~ x)) & ((~ x) & y))))) - (~ (x + ((~ x) & ((~ x) & y))))) - (~ x)) | ((~ (((x | ((~ x) & y)) + ((~ x) | ((~ x) & y))) - (~ x))) & ((((((x + ((~ x) & y)) | ((~ x) + ((~ (~ x)) & y))) + ((~ (x + ((~ x) & y))) | ((~ x) + ((~ (~ x)) & y)))) - (~ (x + ((~ x) & y)))) - (~ x)) - (2 * (x & y))))) + ((~ (((((x + ((~ x) & ((~ x) & y))) | ((~ x) + ((~ (~ x)) & ((~ x) & y)))) + ((~ (x + ((~ x) & ((~ x) & y)))) | ((~ x) + ((~ (~ x)) & ((~ x) & y))))) - (~ (x + ((~ x) & ((~ x) & y))))) - (~ x))) | ((~ (((x | ((~ x) & y)) + ((~ x) | ((~ x) & y))) - (~ x))) & ((((((x + ((~ x) & y)) | ((~ x) + ((~ (~ x)) & y))) + ((~ (x + ((~ x) & y))) | ((~ x) + ((~ (~ x)) & y)))) - (~ (x + ((~ x) & y)))) - (~ x)) - (2 * (x & y)))))) - (~ (((((x + ((~ x) & ((~ x) & y))) | ((~ x) + ((~ (~ x)) & ((~ x) & y)))) + ((~ (x + ((~ x) & ((~ x) & y)))) | ((~ x) + ((~ (~ x)) & ((~ x) & y))))) - (~ (x + ((~ x) & ((~ x) & y))))) - (~ x)))) + ((~ ((((((((x + ((~ x) & ((~ x) & y))) | ((~ x) + ((~ (~ x)) & ((~ x) & y)))) + ((~ (x + ((~ x) & ((~ x) & y)))) | ((~ x) + ((~ (~ x)) & ((~ x) & y))))) - (~ (x + ((~ x) & ((~ x) & y))))) - (~ x)) | ((~ (((x | ((~ x) & y)) + ((~ x) | ((~ x) & y))) - (~ x))) & ((((((x + ((~ x) & y)) | ((~ x) + ((~ (~ x)) & y))) + ((~ (x + ((~ x) & y))) | ((~ x) + ((~ (~ x)) & y)))) - (~ (x + ((~ x) & y)))) - (~ x)) - (2 * (x & y))))) + ((~ (((((x + ((~ x) & ((~ x) & y))) | ((~ x) + ((~ (~ x)) & ((~ x) & y)))) + ((~ (x + ((~ x) & ((~ x) & y)))) | ((~ x) + ((~ (~ x)) & ((~ x) & y))))) - (~ (x + ((~ x) & ((~ x) & y))))) - (~ x))) | ((~ (((x | ((~ x) & y)) + ((~ x) | ((~ x) & y))) - (~ x))) & ((((((x + ((~ x) & y)) | ((~ x) + ((~ (~ x)) & y))) + ((~ (x + ((~ x) & y))) | ((~ x) + ((~ (~ x)) & y)))) - (~ (x + ((~ x) & y)))) - (~ x)) - (2 * (x & y)))))) - (~ (((((x + ((~ x) & ((~ x) & y))) | ((~ x) + ((~ (~ x)) & ((~ x) & y)))) + ((~ (x + ((~ x) & ((~ x) & y)))) | ((~ x) + ((~ (~ x)) & ((~ x) & y))))) - (~ (x + ((~ x) & ((~ x) & y))))) - (~ x))))) & ((((~ (x + ((~ x) & y))) | ((~ (~ (x + ((~ x) & y)))) & ((((((x + ((~ x) & y)) | ((~ x) + ((~ (~ x)) & y))) + ((~ (x + ((~ x) & y))) | ((~ x) + ((~ (~ x)) & y)))) - (~ (x + ((~ x) & y)))) - (~ x)) - (2 * (x & y))))) + ((~ (~ (x + ((~ x) & y)))) | ((~ (~ (x + ((~ x) & y)))) & ((((((x + ((~ x) & y)) | ((~ x) + ((~ (~ x)) & y))) + ((~ (x + ((~ x) & y))) | ((~ x) + ((~ (~ x)) & y)))) - (~ (x + ((~ x) & y)))) - (~ x)) - (2 * (x & y)))))) - (~ (~ (x + ((~ x) & y))))))))) - (~ ((((x | ((~ x) & y)) + ((~ x) | ((~ x) & y))) - (~ x)) + ((~ (((x | ((~ x) & y)) + ((~ x) | ((~ x) & y))) - (~ x))) & ((((x | y) + ((~ x) | y)) - (~ x)) - (2 * (x & y))))))) - (~ (x + ((~ x) & y))))\n",
    "\n",
    "# I don't think it will ever terminate :S\n",
    "# prove(simp_z3 == obf3_z3)"
   ]
  },
  {
   "cell_type": "markdown",
   "id": "3aed4575-584e-4af3-ba1e-d3fabb0decd4",
   "metadata": {},
   "source": [
    "# Symbolic execution"
   ]
  },
  {
   "cell_type": "code",
   "execution_count": 13,
   "id": "67647ee0-eb29-4bdf-8eea-b3d07e6033d1",
   "metadata": {},
   "outputs": [],
   "source": [
    "\"\"\"\n",
    "Adapted from ./../msynth/scripts/symbolic_simplification.py\n",
    "\n",
    "Extract the symbolic expression for RAX register in a given\n",
    "basic block at start_addr.\n",
    "\"\"\"\n",
    "from miasm.analysis.binary import Container\n",
    "from miasm.analysis.machine import Machine\n",
    "from miasm.core.locationdb import LocationDB\n",
    "from miasm.ir.symbexec import SymbolicExecutionEngine\n",
    "\n",
    "def getRaxExpr(file_path, start_addr):\n",
    "    # symbol table\n",
    "    loc_db = LocationDB()\n",
    "\n",
    "    # open the binary for analysis\n",
    "    container = Container.from_stream(open(file_path, 'rb'), loc_db)\n",
    "\n",
    "    # cpu abstraction\n",
    "    machine = Machine(container.arch)\n",
    "\n",
    "    # init disassemble engine\n",
    "    mdis = machine.dis_engine(container.bin_stream, loc_db=loc_db)\n",
    "\n",
    "    # initialize intermediate representation\n",
    "    lifter = machine.lifter_model_call(mdis.loc_db)\n",
    "\n",
    "    # disassemble the function at address\n",
    "    asm_block = mdis.dis_block(start_addr)\n",
    "\n",
    "    # lift to Miasm IR\n",
    "    ira_cfg = lifter.new_ircfg()\n",
    "    lifter.add_asmblock_to_ircfg(asm_block, ira_cfg)\n",
    "\n",
    "    # init symbolic execution engine\n",
    "    sb = SymbolicExecutionEngine(lifter)\n",
    "\n",
    "    # symbolically execute basic block\n",
    "    sb.run_block_at(ira_cfg, start_addr)\n",
    "    \n",
    "    # return the expression of rax (return value)\n",
    "    return sb.eval_exprid(lifter.arch.regs.RAX)"
   ]
  },
  {
   "cell_type": "code",
   "execution_count": 14,
   "id": "ace0290e-79f0-42e8-bd36-5c9d374b0a72",
   "metadata": {},
   "outputs": [
    {
     "name": "stdout",
     "output_type": "stream",
     "text": [
      "RAX from scramble1\n",
      "---\n",
      "(RDI ^ RSI) + (RDI | RSI)\n"
     ]
    }
   ],
   "source": [
    "\"\"\"\n",
    "Extract symbolic expression for RAX, with respect to the\n",
    "input variables (registers RDI and RSI) of the scramble\n",
    "function in scramble1\n",
    "\"\"\"\n",
    "file_path = \"./scramble1\"\n",
    "addr = 0x1149\n",
    "\n",
    "rax_scramble1 = getRaxExpr(file_path, addr)\n",
    "print(\"RAX from scramble1\\n---\")\n",
    "print(rax_scramble1)"
   ]
  },
  {
   "cell_type": "code",
   "execution_count": 15,
   "id": "23a2796b-88f6-474a-aee4-a2918a4fee5f",
   "metadata": {},
   "outputs": [
    {
     "name": "stdout",
     "output_type": "stream",
     "text": [
      "RAX from scramble2\n",
      "---\n",
      "RDI + (RSI & (RDI ^ 0xFFFFFFFFFFFFFFFF)) + ((RDI + RSI + (RDI & RSI) * 0xFFFFFFFFFFFFFFFE) | (RDI + (RSI & (RDI ^ 0xFFFFFFFFFFFFFFFF)))) + ((RDI + RSI + (RDI & RSI) * 0xFFFFFFFFFFFFFFFE) | ((RDI + (RSI & (RDI ^ 0xFFFFFFFFFFFFFFFF))) ^ 0xFFFFFFFFFFFFFFFF)) + 0x1\n"
     ]
    }
   ],
   "source": [
    "\"\"\"\n",
    "Extract symbolic expression for RAX, with respect to the\n",
    "input variables (registers RDI and RSI) of the scramble\n",
    "function in scramble2\n",
    "\"\"\"\n",
    "file_path = \"./scramble2\"\n",
    "addr = 0x1149\n",
    "\n",
    "rax_scramble2 = getRaxExpr(file_path, addr)\n",
    "print(\"RAX from scramble2\\n---\")\n",
    "print(rax_scramble2)"
   ]
  },
  {
   "cell_type": "code",
   "execution_count": 16,
   "id": "ebc529a3-3228-4c07-a625-82dabf0487df",
   "metadata": {},
   "outputs": [
    {
     "name": "stdout",
     "output_type": "stream",
     "text": [
      "RAX from scramble3\n",
      "---\n",
      "((RDI + (RDI & RSI) * 0xFFFFFFFFFFFFFFFE + (RDI | RSI) + (RSI | (RDI ^ 0xFFFFFFFFFFFFFFFF)) + 0x1) & ((RDI + (RSI & (RDI ^ 0xFFFFFFFFFFFFFFFF))) ^ 0xFFFFFFFFFFFFFFFF)) + RDI * 0x2 + (RSI & (RDI ^ 0xFFFFFFFFFFFFFFFF)) * 0x2 + ((RDI + (RSI & (RDI ^ 0xFFFFFFFFFFFFFFFF)) + ((RDI + (RDI & RSI) * 0xFFFFFFFFFFFFFFFE + (RDI | RSI) + (RSI | (RDI ^ 0xFFFFFFFFFFFFFFFF)) + 0x1) & ((RDI + (RSI & (RDI ^ 0xFFFFFFFFFFFFFFFF))) ^ 0xFFFFFFFFFFFFFFFF))) | (((RDI + (RSI & (RDI ^ 0xFFFFFFFFFFFFFFFF))) & (RDI + (RDI & RSI) * 0xFFFFFFFFFFFFFFFE + (RDI | RSI) + (RSI | (RDI ^ 0xFFFFFFFFFFFFFFFF)) + 0x1)) + -RDI + -(RSI & (RDI ^ 0xFFFFFFFFFFFFFFFF)) + 0xFFFFFFFFFFFFFFFF)) + ((((RDI + (RSI & (RDI ^ 0xFFFFFFFFFFFFFFFF))) & (RDI + (RDI & RSI) * 0xFFFFFFFFFFFFFFFE + (RDI | RSI) + (RSI | (RDI ^ 0xFFFFFFFFFFFFFFFF)) + 0x1)) + -RDI + -(RSI & (RDI ^ 0xFFFFFFFFFFFFFFFF)) + 0xFFFFFFFFFFFFFFFF) | ((RDI + (RSI & (RDI ^ 0xFFFFFFFFFFFFFFFF)) + ((RDI + (RDI & RSI) * 0xFFFFFFFFFFFFFFFE + (RDI | RSI) + (RSI | (RDI ^ 0xFFFFFFFFFFFFFFFF)) + 0x1) & ((RDI + (RSI & (RDI ^ 0xFFFFFFFFFFFFFFFF))) ^ 0xFFFFFFFFFFFFFFFF))) ^ 0xFFFFFFFFFFFFFFFF)) + 0x2\n"
     ]
    }
   ],
   "source": [
    "\"\"\"\n",
    "Extract symbolic expression for RAX, with respect to the\n",
    "input variables (registers RDI and RSI) of the scramble\n",
    "function in scramble3\n",
    "\"\"\"\n",
    "file_path = \"./scramble3\"\n",
    "addr = 0x1149\n",
    "\n",
    "rax_scramble3 = getRaxExpr(file_path, addr)\n",
    "print(\"RAX from scramble3\\n---\")\n",
    "print(rax_scramble3)"
   ]
  },
  {
   "cell_type": "code",
   "execution_count": 17,
   "id": "54ee7b14-3a2d-4a9c-913f-d1c835bc3f1b",
   "metadata": {},
   "outputs": [
    {
     "name": "stdout",
     "output_type": "stream",
     "text": [
      "RAX from scramble4\n",
      "---\n",
      "((RDI + (RDI & RSI) * 0xFFFFFFFFFFFFFFFE + (RDI | RSI) + (RSI | (RDI ^ 0xFFFFFFFFFFFFFFFF)) + 0x1) & ((RDI + (RSI & (RDI ^ 0xFFFFFFFFFFFFFFFF))) ^ 0xFFFFFFFFFFFFFFFF)) + ((RDI * 0xFFFFFFFFFFFFFFFE + -(RSI & (RDI ^ 0xFFFFFFFFFFFFFFFF)) + -((((RSI & (RDI ^ 0xFFFFFFFFFFFFFFFF)) + RDI * 0x2 + (RDI & RSI) * 0xFFFFFFFFFFFFFFFE + ((RDI + (RSI & (RDI ^ 0xFFFFFFFFFFFFFFFF))) | ((RDI & RSI) + -RDI + 0xFFFFFFFFFFFFFFFF)) + (((RDI & RSI) + -RDI + 0xFFFFFFFFFFFFFFFF) | ((RDI + (RSI & (RDI ^ 0xFFFFFFFFFFFFFFFF))) ^ 0xFFFFFFFFFFFFFFFF)) + 0x2) & ((RDI + (RSI & (RDI ^ 0xFFFFFFFFFFFFFFFF))) ^ 0xFFFFFFFFFFFFFFFF)) | ((RSI & (RDI ^ 0xFFFFFFFFFFFFFFFF)) + RDI * 0x2 + ((RDI + (RSI & (RDI ^ 0xFFFFFFFFFFFFFFFF))) | ((RDI & RSI & (RDI ^ 0xFFFFFFFFFFFFFFFF)) + -RDI + 0xFFFFFFFFFFFFFFFF)) + (((RDI & RSI & (RDI ^ 0xFFFFFFFFFFFFFFFF)) + -RDI + 0xFFFFFFFFFFFFFFFF) | ((RDI + (RSI & (RDI ^ 0xFFFFFFFFFFFFFFFF))) ^ 0xFFFFFFFFFFFFFFFF)) + 0x2)) + -((((RSI & (RDI ^ 0xFFFFFFFFFFFFFFFF)) + RDI * 0x2 + (RDI & RSI) * 0xFFFFFFFFFFFFFFFE + ((RDI + (RSI & (RDI ^ 0xFFFFFFFFFFFFFFFF))) | ((RDI & RSI) + -RDI + 0xFFFFFFFFFFFFFFFF)) + (((RDI & RSI) + -RDI + 0xFFFFFFFFFFFFFFFF) | ((RDI + (RSI & (RDI ^ 0xFFFFFFFFFFFFFFFF))) ^ 0xFFFFFFFFFFFFFFFF)) + 0x2) & ((RDI + (RSI & (RDI ^ 0xFFFFFFFFFFFFFFFF))) ^ 0xFFFFFFFFFFFFFFFF)) | (RDI * 0xFFFFFFFFFFFFFFFE + -(RSI & (RDI ^ 0xFFFFFFFFFFFFFFFF)) + -((RDI + (RSI & (RDI ^ 0xFFFFFFFFFFFFFFFF))) | ((RDI & RSI & (RDI ^ 0xFFFFFFFFFFFFFFFF)) + -RDI + 0xFFFFFFFFFFFFFFFF)) + -(((RDI & RSI & (RDI ^ 0xFFFFFFFFFFFFFFFF)) + -RDI + 0xFFFFFFFFFFFFFFFF) | ((RDI + (RSI & (RDI ^ 0xFFFFFFFFFFFFFFFF))) ^ 0xFFFFFFFFFFFFFFFF)) + 0xFFFFFFFFFFFFFFFD)) + -((RDI + (RSI & (RDI ^ 0xFFFFFFFFFFFFFFFF))) | ((RDI & RSI & (RDI ^ 0xFFFFFFFFFFFFFFFF)) + -RDI + 0xFFFFFFFFFFFFFFFF)) + -(((RDI & RSI & (RDI ^ 0xFFFFFFFFFFFFFFFF)) + -RDI + 0xFFFFFFFFFFFFFFFF) | ((RDI + (RSI & (RDI ^ 0xFFFFFFFFFFFFFFFF))) ^ 0xFFFFFFFFFFFFFFFF)) + 0xFFFFFFFFFFFFFFFC) & (((RSI & (RDI ^ 0xFFFFFFFFFFFFFFFF)) + RDI * 0x2 + (RDI & RSI) * 0xFFFFFFFFFFFFFFFE + ((RDI + (RSI & (RDI ^ 0xFFFFFFFFFFFFFFFF))) | ((RDI & RSI) + -RDI + 0xFFFFFFFFFFFFFFFF)) + (((RDI & RSI) + -RDI + 0xFFFFFFFFFFFFFFFF) | ((RDI + (RSI & (RDI ^ 0xFFFFFFFFFFFFFFFF))) ^ 0xFFFFFFFFFFFFFFFF)) + 0x2) | ((RDI + (RSI & (RDI ^ 0xFFFFFFFFFFFFFFFF))) ^ 0xFFFFFFFFFFFFFFFF))) + RDI * 0x4 + (RSI & (RDI ^ 0xFFFFFFFFFFFFFFFF)) * 0x3 + ((((RSI & (RDI ^ 0xFFFFFFFFFFFFFFFF)) + RDI * 0x2 + (RDI & RSI) * 0xFFFFFFFFFFFFFFFE + ((RDI + (RSI & (RDI ^ 0xFFFFFFFFFFFFFFFF))) | ((RDI & RSI) + -RDI + 0xFFFFFFFFFFFFFFFF)) + (((RDI & RSI) + -RDI + 0xFFFFFFFFFFFFFFFF) | ((RDI + (RSI & (RDI ^ 0xFFFFFFFFFFFFFFFF))) ^ 0xFFFFFFFFFFFFFFFF)) + 0x2) & ((RDI + (RSI & (RDI ^ 0xFFFFFFFFFFFFFFFF))) ^ 0xFFFFFFFFFFFFFFFF)) | ((RSI & (RDI ^ 0xFFFFFFFFFFFFFFFF)) + RDI * 0x2 + ((RDI + (RSI & (RDI ^ 0xFFFFFFFFFFFFFFFF))) | ((RDI & RSI & (RDI ^ 0xFFFFFFFFFFFFFFFF)) + -RDI + 0xFFFFFFFFFFFFFFFF)) + (((RDI & RSI & (RDI ^ 0xFFFFFFFFFFFFFFFF)) + -RDI + 0xFFFFFFFFFFFFFFFF) | ((RDI + (RSI & (RDI ^ 0xFFFFFFFFFFFFFFFF))) ^ 0xFFFFFFFFFFFFFFFF)) + 0x2)) + ((((RSI & (RDI ^ 0xFFFFFFFFFFFFFFFF)) + RDI * 0x2 + (RDI & RSI) * 0xFFFFFFFFFFFFFFFE + ((RDI + (RSI & (RDI ^ 0xFFFFFFFFFFFFFFFF))) | ((RDI & RSI) + -RDI + 0xFFFFFFFFFFFFFFFF)) + (((RDI & RSI) + -RDI + 0xFFFFFFFFFFFFFFFF) | ((RDI + (RSI & (RDI ^ 0xFFFFFFFFFFFFFFFF))) ^ 0xFFFFFFFFFFFFFFFF)) + 0x2) & ((RDI + (RSI & (RDI ^ 0xFFFFFFFFFFFFFFFF))) ^ 0xFFFFFFFFFFFFFFFF)) | (RDI * 0xFFFFFFFFFFFFFFFE + -(RSI & (RDI ^ 0xFFFFFFFFFFFFFFFF)) + -((RDI + (RSI & (RDI ^ 0xFFFFFFFFFFFFFFFF))) | ((RDI & RSI & (RDI ^ 0xFFFFFFFFFFFFFFFF)) + -RDI + 0xFFFFFFFFFFFFFFFF)) + -(((RDI & RSI & (RDI ^ 0xFFFFFFFFFFFFFFFF)) + -RDI + 0xFFFFFFFFFFFFFFFF) | ((RDI + (RSI & (RDI ^ 0xFFFFFFFFFFFFFFFF))) ^ 0xFFFFFFFFFFFFFFFF)) + 0xFFFFFFFFFFFFFFFD)) + ((RDI + (RSI & (RDI ^ 0xFFFFFFFFFFFFFFFF))) | ((RDI & RSI & (RDI ^ 0xFFFFFFFFFFFFFFFF)) + -RDI + 0xFFFFFFFFFFFFFFFF)) + (((RDI & RSI & (RDI ^ 0xFFFFFFFFFFFFFFFF)) + -RDI + 0xFFFFFFFFFFFFFFFF) | ((RDI + (RSI & (RDI ^ 0xFFFFFFFFFFFFFFFF))) ^ 0xFFFFFFFFFFFFFFFF)) + (((RSI & (RDI ^ 0xFFFFFFFFFFFFFFFF)) + ((RDI * 0xFFFFFFFFFFFFFFFE + -(RSI & (RDI ^ 0xFFFFFFFFFFFFFFFF)) + -((((RSI & (RDI ^ 0xFFFFFFFFFFFFFFFF)) + RDI * 0x2 + (RDI & RSI) * 0xFFFFFFFFFFFFFFFE + ((RDI + (RSI & (RDI ^ 0xFFFFFFFFFFFFFFFF))) | ((RDI & RSI) + -RDI + 0xFFFFFFFFFFFFFFFF)) + (((RDI & RSI) + -RDI + 0xFFFFFFFFFFFFFFFF) | ((RDI + (RSI & (RDI ^ 0xFFFFFFFFFFFFFFFF))) ^ 0xFFFFFFFFFFFFFFFF)) + 0x2) & ((RDI + (RSI & (RDI ^ 0xFFFFFFFFFFFFFFFF))) ^ 0xFFFFFFFFFFFFFFFF)) | ((RSI & (RDI ^ 0xFFFFFFFFFFFFFFFF)) + RDI * 0x2 + ((RDI + (RSI & (RDI ^ 0xFFFFFFFFFFFFFFFF))) | ((RDI & RSI & (RDI ^ 0xFFFFFFFFFFFFFFFF)) + -RDI + 0xFFFFFFFFFFFFFFFF)) + (((RDI & RSI & (RDI ^ 0xFFFFFFFFFFFFFFFF)) + -RDI + 0xFFFFFFFFFFFFFFFF) | ((RDI + (RSI & (RDI ^ 0xFFFFFFFFFFFFFFFF))) ^ 0xFFFFFFFFFFFFFFFF)) + 0x2)) + -((((RSI & (RDI ^ 0xFFFFFFFFFFFFFFFF)) + RDI * 0x2 + (RDI & RSI) * 0xFFFFFFFFFFFFFFFE + ((RDI + (RSI & (RDI ^ 0xFFFFFFFFFFFFFFFF))) | ((RDI & RSI) + -RDI + 0xFFFFFFFFFFFFFFFF)) + (((RDI & RSI) + -RDI + 0xFFFFFFFFFFFFFFFF) | ((RDI + (RSI & (RDI ^ 0xFFFFFFFFFFFFFFFF))) ^ 0xFFFFFFFFFFFFFFFF)) + 0x2) & ((RDI + (RSI & (RDI ^ 0xFFFFFFFFFFFFFFFF))) ^ 0xFFFFFFFFFFFFFFFF)) | (RDI * 0xFFFFFFFFFFFFFFFE + -(RSI & (RDI ^ 0xFFFFFFFFFFFFFFFF)) + -((RDI + (RSI & (RDI ^ 0xFFFFFFFFFFFFFFFF))) | ((RDI & RSI & (RDI ^ 0xFFFFFFFFFFFFFFFF)) + -RDI + 0xFFFFFFFFFFFFFFFF)) + -(((RDI & RSI & (RDI ^ 0xFFFFFFFFFFFFFFFF)) + -RDI + 0xFFFFFFFFFFFFFFFF) | ((RDI + (RSI & (RDI ^ 0xFFFFFFFFFFFFFFFF))) ^ 0xFFFFFFFFFFFFFFFF)) + 0xFFFFFFFFFFFFFFFD)) + -((RDI + (RSI & (RDI ^ 0xFFFFFFFFFFFFFFFF))) | ((RDI & RSI & (RDI ^ 0xFFFFFFFFFFFFFFFF)) + -RDI + 0xFFFFFFFFFFFFFFFF)) + -(((RDI & RSI & (RDI ^ 0xFFFFFFFFFFFFFFFF)) + -RDI + 0xFFFFFFFFFFFFFFFF) | ((RDI + (RSI & (RDI ^ 0xFFFFFFFFFFFFFFFF))) ^ 0xFFFFFFFFFFFFFFFF)) + 0xFFFFFFFFFFFFFFFC) & (((RSI & (RDI ^ 0xFFFFFFFFFFFFFFFF)) + RDI * 0x2 + (RDI & RSI) * 0xFFFFFFFFFFFFFFFE + ((RDI + (RSI & (RDI ^ 0xFFFFFFFFFFFFFFFF))) | ((RDI & RSI) + -RDI + 0xFFFFFFFFFFFFFFFF)) + (((RDI & RSI) + -RDI + 0xFFFFFFFFFFFFFFFF) | ((RDI + (RSI & (RDI ^ 0xFFFFFFFFFFFFFFFF))) ^ 0xFFFFFFFFFFFFFFFF)) + 0x2) | ((RDI + (RSI & (RDI ^ 0xFFFFFFFFFFFFFFFF))) ^ 0xFFFFFFFFFFFFFFFF))) + RDI * 0x2 + ((((RSI & (RDI ^ 0xFFFFFFFFFFFFFFFF)) + RDI * 0x2 + (RDI & RSI) * 0xFFFFFFFFFFFFFFFE + ((RDI + (RSI & (RDI ^ 0xFFFFFFFFFFFFFFFF))) | ((RDI & RSI) + -RDI + 0xFFFFFFFFFFFFFFFF)) + (((RDI & RSI) + -RDI + 0xFFFFFFFFFFFFFFFF) | ((RDI + (RSI & (RDI ^ 0xFFFFFFFFFFFFFFFF))) ^ 0xFFFFFFFFFFFFFFFF)) + 0x2) & ((RDI + (RSI & (RDI ^ 0xFFFFFFFFFFFFFFFF))) ^ 0xFFFFFFFFFFFFFFFF)) | ((RSI & (RDI ^ 0xFFFFFFFFFFFFFFFF)) + RDI * 0x2 + ((RDI + (RSI & (RDI ^ 0xFFFFFFFFFFFFFFFF))) | ((RDI & RSI & (RDI ^ 0xFFFFFFFFFFFFFFFF)) + -RDI + 0xFFFFFFFFFFFFFFFF)) + (((RDI & RSI & (RDI ^ 0xFFFFFFFFFFFFFFFF)) + -RDI + 0xFFFFFFFFFFFFFFFF) | ((RDI + (RSI & (RDI ^ 0xFFFFFFFFFFFFFFFF))) ^ 0xFFFFFFFFFFFFFFFF)) + 0x2)) + ((((RSI & (RDI ^ 0xFFFFFFFFFFFFFFFF)) + RDI * 0x2 + (RDI & RSI) * 0xFFFFFFFFFFFFFFFE + ((RDI + (RSI & (RDI ^ 0xFFFFFFFFFFFFFFFF))) | ((RDI & RSI) + -RDI + 0xFFFFFFFFFFFFFFFF)) + (((RDI & RSI) + -RDI + 0xFFFFFFFFFFFFFFFF) | ((RDI + (RSI & (RDI ^ 0xFFFFFFFFFFFFFFFF))) ^ 0xFFFFFFFFFFFFFFFF)) + 0x2) & ((RDI + (RSI & (RDI ^ 0xFFFFFFFFFFFFFFFF))) ^ 0xFFFFFFFFFFFFFFFF)) | (RDI * 0xFFFFFFFFFFFFFFFE + -(RSI & (RDI ^ 0xFFFFFFFFFFFFFFFF)) + -((RDI + (RSI & (RDI ^ 0xFFFFFFFFFFFFFFFF))) | ((RDI & RSI & (RDI ^ 0xFFFFFFFFFFFFFFFF)) + -RDI + 0xFFFFFFFFFFFFFFFF)) + -(((RDI & RSI & (RDI ^ 0xFFFFFFFFFFFFFFFF)) + -RDI + 0xFFFFFFFFFFFFFFFF) | ((RDI + (RSI & (RDI ^ 0xFFFFFFFFFFFFFFFF))) ^ 0xFFFFFFFFFFFFFFFF)) + 0xFFFFFFFFFFFFFFFD)) + ((RDI + (RSI & (RDI ^ 0xFFFFFFFFFFFFFFFF))) | ((RDI & RSI & (RDI ^ 0xFFFFFFFFFFFFFFFF)) + -RDI + 0xFFFFFFFFFFFFFFFF)) + (((RDI & RSI & (RDI ^ 0xFFFFFFFFFFFFFFFF)) + -RDI + 0xFFFFFFFFFFFFFFFF) | ((RDI + (RSI & (RDI ^ 0xFFFFFFFFFFFFFFFF))) ^ 0xFFFFFFFFFFFFFFFF)) + 0x3) | (((RDI + (RSI & (RDI ^ 0xFFFFFFFFFFFFFFFF)) + ((RDI + (RDI & RSI) * 0xFFFFFFFFFFFFFFFE + (RDI | RSI) + (RSI | (RDI ^ 0xFFFFFFFFFFFFFFFF)) + 0x1) & ((RDI + (RSI & (RDI ^ 0xFFFFFFFFFFFFFFFF))) ^ 0xFFFFFFFFFFFFFFFF))) & (((RSI & (RDI ^ 0xFFFFFFFFFFFFFFFF)) + RDI * 0x2 + (RDI & RSI) * 0xFFFFFFFFFFFFFFFE + ((RDI + (RSI & (RDI ^ 0xFFFFFFFFFFFFFFFF))) | ((RDI & RSI) + -RDI + 0xFFFFFFFFFFFFFFFF)) + (((RDI & RSI) + -RDI + 0xFFFFFFFFFFFFFFFF) | ((RDI + (RSI & (RDI ^ 0xFFFFFFFFFFFFFFFF))) ^ 0xFFFFFFFFFFFFFFFF)) + 0x2) | ((RDI + (RSI & (RDI ^ 0xFFFFFFFFFFFFFFFF))) ^ 0xFFFFFFFFFFFFFFFF))) + -RDI + -(RSI & (RDI ^ 0xFFFFFFFFFFFFFFFF)) + -((RDI + (RDI & RSI) * 0xFFFFFFFFFFFFFFFE + (RDI | RSI) + (RSI | (RDI ^ 0xFFFFFFFFFFFFFFFF)) + 0x1) & ((RDI + (RSI & (RDI ^ 0xFFFFFFFFFFFFFFFF))) ^ 0xFFFFFFFFFFFFFFFF)) + 0xFFFFFFFFFFFFFFFF)) + ((((RDI + (RSI & (RDI ^ 0xFFFFFFFFFFFFFFFF)) + ((RDI + (RDI & RSI) * 0xFFFFFFFFFFFFFFFE + (RDI | RSI) + (RSI | (RDI ^ 0xFFFFFFFFFFFFFFFF)) + 0x1) & ((RDI + (RSI & (RDI ^ 0xFFFFFFFFFFFFFFFF))) ^ 0xFFFFFFFFFFFFFFFF))) & (((RSI & (RDI ^ 0xFFFFFFFFFFFFFFFF)) + RDI * 0x2 + (RDI & RSI) * 0xFFFFFFFFFFFFFFFE + ((RDI + (RSI & (RDI ^ 0xFFFFFFFFFFFFFFFF))) | ((RDI & RSI) + -RDI + 0xFFFFFFFFFFFFFFFF)) + (((RDI & RSI) + -RDI + 0xFFFFFFFFFFFFFFFF) | ((RDI + (RSI & (RDI ^ 0xFFFFFFFFFFFFFFFF))) ^ 0xFFFFFFFFFFFFFFFF)) + 0x2) | ((RDI + (RSI & (RDI ^ 0xFFFFFFFFFFFFFFFF))) ^ 0xFFFFFFFFFFFFFFFF))) + -RDI + -(RSI & (RDI ^ 0xFFFFFFFFFFFFFFFF)) + -((RDI + (RDI & RSI) * 0xFFFFFFFFFFFFFFFE + (RDI | RSI) + (RSI | (RDI ^ 0xFFFFFFFFFFFFFFFF)) + 0x1) & ((RDI + (RSI & (RDI ^ 0xFFFFFFFFFFFFFFFF))) ^ 0xFFFFFFFFFFFFFFFF)) + 0xFFFFFFFFFFFFFFFF) | (RDI * 0xFFFFFFFFFFFFFFFE + -(RSI & (RDI ^ 0xFFFFFFFFFFFFFFFF)) + -((RDI * 0xFFFFFFFFFFFFFFFE + -(RSI & (RDI ^ 0xFFFFFFFFFFFFFFFF)) + -((((RSI & (RDI ^ 0xFFFFFFFFFFFFFFFF)) + RDI * 0x2 + (RDI & RSI) * 0xFFFFFFFFFFFFFFFE + ((RDI + (RSI & (RDI ^ 0xFFFFFFFFFFFFFFFF))) | ((RDI & RSI) + -RDI + 0xFFFFFFFFFFFFFFFF)) + (((RDI & RSI) + -RDI + 0xFFFFFFFFFFFFFFFF) | ((RDI + (RSI & (RDI ^ 0xFFFFFFFFFFFFFFFF))) ^ 0xFFFFFFFFFFFFFFFF)) + 0x2) & ((RDI + (RSI & (RDI ^ 0xFFFFFFFFFFFFFFFF))) ^ 0xFFFFFFFFFFFFFFFF)) | ((RSI & (RDI ^ 0xFFFFFFFFFFFFFFFF)) + RDI * 0x2 + ((RDI + (RSI & (RDI ^ 0xFFFFFFFFFFFFFFFF))) | ((RDI & RSI & (RDI ^ 0xFFFFFFFFFFFFFFFF)) + -RDI + 0xFFFFFFFFFFFFFFFF)) + (((RDI & RSI & (RDI ^ 0xFFFFFFFFFFFFFFFF)) + -RDI + 0xFFFFFFFFFFFFFFFF) | ((RDI + (RSI & (RDI ^ 0xFFFFFFFFFFFFFFFF))) ^ 0xFFFFFFFFFFFFFFFF)) + 0x2)) + -((((RSI & (RDI ^ 0xFFFFFFFFFFFFFFFF)) + RDI * 0x2 + (RDI & RSI) * 0xFFFFFFFFFFFFFFFE + ((RDI + (RSI & (RDI ^ 0xFFFFFFFFFFFFFFFF))) | ((RDI & RSI) + -RDI + 0xFFFFFFFFFFFFFFFF)) + (((RDI & RSI) + -RDI + 0xFFFFFFFFFFFFFFFF) | ((RDI + (RSI & (RDI ^ 0xFFFFFFFFFFFFFFFF))) ^ 0xFFFFFFFFFFFFFFFF)) + 0x2) & ((RDI + (RSI & (RDI ^ 0xFFFFFFFFFFFFFFFF))) ^ 0xFFFFFFFFFFFFFFFF)) | (RDI * 0xFFFFFFFFFFFFFFFE + -(RSI & (RDI ^ 0xFFFFFFFFFFFFFFFF)) + -((RDI + (RSI & (RDI ^ 0xFFFFFFFFFFFFFFFF))) | ((RDI & RSI & (RDI ^ 0xFFFFFFFFFFFFFFFF)) + -RDI + 0xFFFFFFFFFFFFFFFF)) + -(((RDI & RSI & (RDI ^ 0xFFFFFFFFFFFFFFFF)) + -RDI + 0xFFFFFFFFFFFFFFFF) | ((RDI + (RSI & (RDI ^ 0xFFFFFFFFFFFFFFFF))) ^ 0xFFFFFFFFFFFFFFFF)) + 0xFFFFFFFFFFFFFFFD)) + -((RDI + (RSI & (RDI ^ 0xFFFFFFFFFFFFFFFF))) | ((RDI & RSI & (RDI ^ 0xFFFFFFFFFFFFFFFF)) + -RDI + 0xFFFFFFFFFFFFFFFF)) + -(((RDI & RSI & (RDI ^ 0xFFFFFFFFFFFFFFFF)) + -RDI + 0xFFFFFFFFFFFFFFFF) | ((RDI + (RSI & (RDI ^ 0xFFFFFFFFFFFFFFFF))) ^ 0xFFFFFFFFFFFFFFFF)) + 0xFFFFFFFFFFFFFFFC) & (((RSI & (RDI ^ 0xFFFFFFFFFFFFFFFF)) + RDI * 0x2 + (RDI & RSI) * 0xFFFFFFFFFFFFFFFE + ((RDI + (RSI & (RDI ^ 0xFFFFFFFFFFFFFFFF))) | ((RDI & RSI) + -RDI + 0xFFFFFFFFFFFFFFFF)) + (((RDI & RSI) + -RDI + 0xFFFFFFFFFFFFFFFF) | ((RDI + (RSI & (RDI ^ 0xFFFFFFFFFFFFFFFF))) ^ 0xFFFFFFFFFFFFFFFF)) + 0x2) | ((RDI + (RSI & (RDI ^ 0xFFFFFFFFFFFFFFFF))) ^ 0xFFFFFFFFFFFFFFFF))) + -((((RSI & (RDI ^ 0xFFFFFFFFFFFFFFFF)) + RDI * 0x2 + (RDI & RSI) * 0xFFFFFFFFFFFFFFFE + ((RDI + (RSI & (RDI ^ 0xFFFFFFFFFFFFFFFF))) | ((RDI & RSI) + -RDI + 0xFFFFFFFFFFFFFFFF)) + (((RDI & RSI) + -RDI + 0xFFFFFFFFFFFFFFFF) | ((RDI + (RSI & (RDI ^ 0xFFFFFFFFFFFFFFFF))) ^ 0xFFFFFFFFFFFFFFFF)) + 0x2) & ((RDI + (RSI & (RDI ^ 0xFFFFFFFFFFFFFFFF))) ^ 0xFFFFFFFFFFFFFFFF)) | ((RSI & (RDI ^ 0xFFFFFFFFFFFFFFFF)) + RDI * 0x2 + ((RDI + (RSI & (RDI ^ 0xFFFFFFFFFFFFFFFF))) | ((RDI & RSI & (RDI ^ 0xFFFFFFFFFFFFFFFF)) + -RDI + 0xFFFFFFFFFFFFFFFF)) + (((RDI & RSI & (RDI ^ 0xFFFFFFFFFFFFFFFF)) + -RDI + 0xFFFFFFFFFFFFFFFF) | ((RDI + (RSI & (RDI ^ 0xFFFFFFFFFFFFFFFF))) ^ 0xFFFFFFFFFFFFFFFF)) + 0x2)) + -((((RSI & (RDI ^ 0xFFFFFFFFFFFFFFFF)) + RDI * 0x2 + (RDI & RSI) * 0xFFFFFFFFFFFFFFFE + ((RDI + (RSI & (RDI ^ 0xFFFFFFFFFFFFFFFF))) | ((RDI & RSI) + -RDI + 0xFFFFFFFFFFFFFFFF)) + (((RDI & RSI) + -RDI + 0xFFFFFFFFFFFFFFFF) | ((RDI + (RSI & (RDI ^ 0xFFFFFFFFFFFFFFFF))) ^ 0xFFFFFFFFFFFFFFFF)) + 0x2) & ((RDI + (RSI & (RDI ^ 0xFFFFFFFFFFFFFFFF))) ^ 0xFFFFFFFFFFFFFFFF)) | (RDI * 0xFFFFFFFFFFFFFFFE + -(RSI & (RDI ^ 0xFFFFFFFFFFFFFFFF)) + -((RDI + (RSI & (RDI ^ 0xFFFFFFFFFFFFFFFF))) | ((RDI & RSI & (RDI ^ 0xFFFFFFFFFFFFFFFF)) + -RDI + 0xFFFFFFFFFFFFFFFF)) + -(((RDI & RSI & (RDI ^ 0xFFFFFFFFFFFFFFFF)) + -RDI + 0xFFFFFFFFFFFFFFFF) | ((RDI + (RSI & (RDI ^ 0xFFFFFFFFFFFFFFFF))) ^ 0xFFFFFFFFFFFFFFFF)) + 0xFFFFFFFFFFFFFFFD)) + -((RDI + (RSI & (RDI ^ 0xFFFFFFFFFFFFFFFF))) | ((RDI & RSI & (RDI ^ 0xFFFFFFFFFFFFFFFF)) + -RDI + 0xFFFFFFFFFFFFFFFF)) + -(((RDI & RSI & (RDI ^ 0xFFFFFFFFFFFFFFFF)) + -RDI + 0xFFFFFFFFFFFFFFFF) | ((RDI + (RSI & (RDI ^ 0xFFFFFFFFFFFFFFFF))) ^ 0xFFFFFFFFFFFFFFFF)) + 0xFFFFFFFFFFFFFFFC)) + 0x6\n"
     ]
    }
   ],
   "source": [
    "\"\"\"\n",
    "Extract symbolic expression for RAX, with respect to the\n",
    "input variables (registers RDI and RSI) of the scramble\n",
    "function in scramble4\n",
    "\"\"\"\n",
    "file_path = \"./scramble4\"\n",
    "addr = 0x1149\n",
    "\n",
    "rax_scramble4 = getRaxExpr(file_path, addr)\n",
    "print(\"RAX from scramble4\\n---\")\n",
    "print(rax_scramble4)"
   ]
  },
  {
   "cell_type": "code",
   "execution_count": 18,
   "id": "c9a35c95-561b-4ddf-9d56-77f68f89a613",
   "metadata": {},
   "outputs": [],
   "source": [
    "\"\"\"\n",
    "Load miasm translator to convert miasm expressions into\n",
    "z3 expressions\n",
    "\"\"\"\n",
    "from miasm.ir.translators.z3_ir import TranslatorZ3\n",
    "translator = TranslatorZ3()"
   ]
  },
  {
   "cell_type": "code",
   "execution_count": 19,
   "id": "2581478c-3a4d-4a70-b4c6-46a945425ea4",
   "metadata": {},
   "outputs": [
    {
     "name": "stdout",
     "output_type": "stream",
     "text": [
      "Original RAX scramble1:\n",
      "---\n",
      "(RDI ^ RSI) + (RDI | RSI)\n",
      "\n",
      "SMT simplified RAX scramble1:\n",
      "---\n",
      "(RDI ^ RSI) + (RDI | RSI)\n",
      "\n"
     ]
    }
   ],
   "source": [
    "\"\"\"\n",
    "Compare RAX expression from symbolic execution with\n",
    "simplified expression through basic z3's SMT simplification\n",
    "of the scramble function in scramble1\n",
    "\"\"\"\n",
    "print(f\"Original RAX scramble1:\\n---\\n{rax_scramble1}\\n\")\n",
    "\n",
    "rax_scramble1_z3 = translator.from_expr(rax_scramble1)\n",
    "print(f\"SMT simplified RAX scramble1:\\n---\\n{simplify(rax_scramble1_z3)}\\n\")"
   ]
  },
  {
   "cell_type": "code",
   "execution_count": 20,
   "id": "0bad8dcb-3554-465c-b9c7-a7f3fd84b6ec",
   "metadata": {},
   "outputs": [
    {
     "name": "stdout",
     "output_type": "stream",
     "text": [
      "Original RAX scramble2:\n",
      "---\n",
      "RDI + (RSI & (RDI ^ 0xFFFFFFFFFFFFFFFF)) + ((RDI + RSI + (RDI & RSI) * 0xFFFFFFFFFFFFFFFE) | (RDI + (RSI & (RDI ^ 0xFFFFFFFFFFFFFFFF)))) + ((RDI + RSI + (RDI & RSI) * 0xFFFFFFFFFFFFFFFE) | ((RDI + (RSI & (RDI ^ 0xFFFFFFFFFFFFFFFF))) ^ 0xFFFFFFFFFFFFFFFF)) + 0x1\n",
      "\n",
      "SMT simplified RAX scramble2:\n",
      "---\n",
      "1 +\n",
      "RDI +\n",
      "~(~RSI | RDI) +\n",
      "(RDI + RSI + 18446744073709551614*~(~RDI | ~RSI) |\n",
      " RDI + ~(~RSI | RDI)) +\n",
      "(RDI + RSI + 18446744073709551614*~(~RDI | ~RSI) |\n",
      " ~(RDI + ~(~RSI | RDI)))\n",
      "\n"
     ]
    }
   ],
   "source": [
    "\"\"\"\n",
    "Compare RAX expression from symbolic execution with\n",
    "simplified expression through basic z3's SMT simplification\n",
    "of the scramble function in scramble2\n",
    "\"\"\"\n",
    "print(f\"Original RAX scramble2:\\n---\\n{rax_scramble2}\\n\")\n",
    "\n",
    "rax_scramble2_z3 = translator.from_expr(rax_scramble2)\n",
    "print(f\"SMT simplified RAX scramble2:\\n---\\n{simplify(rax_scramble2_z3)}\\n\")"
   ]
  },
  {
   "cell_type": "code",
   "execution_count": 21,
   "id": "fc95926a-0c05-4c73-aad0-a4142fe05d9a",
   "metadata": {},
   "outputs": [
    {
     "name": "stdout",
     "output_type": "stream",
     "text": [
      "Original RAX scramble3:\n",
      "---\n",
      "((RDI + (RDI & RSI) * 0xFFFFFFFFFFFFFFFE + (RDI | RSI) + (RSI | (RDI ^ 0xFFFFFFFFFFFFFFFF)) + 0x1) & ((RDI + (RSI & (RDI ^ 0xFFFFFFFFFFFFFFFF))) ^ 0xFFFFFFFFFFFFFFFF)) + RDI * 0x2 + (RSI & (RDI ^ 0xFFFFFFFFFFFFFFFF)) * 0x2 + ((RDI + (RSI & (RDI ^ 0xFFFFFFFFFFFFFFFF)) + ((RDI + (RDI & RSI) * 0xFFFFFFFFFFFFFFFE + (RDI | RSI) + (RSI | (RDI ^ 0xFFFFFFFFFFFFFFFF)) + 0x1) & ((RDI + (RSI & (RDI ^ 0xFFFFFFFFFFFFFFFF))) ^ 0xFFFFFFFFFFFFFFFF))) | (((RDI + (RSI & (RDI ^ 0xFFFFFFFFFFFFFFFF))) & (RDI + (RDI & RSI) * 0xFFFFFFFFFFFFFFFE + (RDI | RSI) + (RSI | (RDI ^ 0xFFFFFFFFFFFFFFFF)) + 0x1)) + -RDI + -(RSI & (RDI ^ 0xFFFFFFFFFFFFFFFF)) + 0xFFFFFFFFFFFFFFFF)) + ((((RDI + (RSI & (RDI ^ 0xFFFFFFFFFFFFFFFF))) & (RDI + (RDI & RSI) * 0xFFFFFFFFFFFFFFFE + (RDI | RSI) + (RSI | (RDI ^ 0xFFFFFFFFFFFFFFFF)) + 0x1)) + -RDI + -(RSI & (RDI ^ 0xFFFFFFFFFFFFFFFF)) + 0xFFFFFFFFFFFFFFFF) | ((RDI + (RSI & (RDI ^ 0xFFFFFFFFFFFFFFFF)) + ((RDI + (RDI & RSI) * 0xFFFFFFFFFFFFFFFE + (RDI | RSI) + (RSI | (RDI ^ 0xFFFFFFFFFFFFFFFF)) + 0x1) & ((RDI + (RSI & (RDI ^ 0xFFFFFFFFFFFFFFFF))) ^ 0xFFFFFFFFFFFFFFFF))) ^ 0xFFFFFFFFFFFFFFFF)) + 0x2\n",
      "\n",
      "SMT simplified RAX scramble3:\n",
      "---\n",
      "2 +\n",
      "~(~(1 +\n",
      "    RDI +\n",
      "    18446744073709551614*~(~RDI | ~RSI) +\n",
      "    (RDI | RSI) +\n",
      "    (RSI | ~RDI)) |\n",
      "  RDI + ~(~RSI | RDI)) +\n",
      "2*RDI +\n",
      "2*~(~RSI | RDI) +\n",
      "(RDI +\n",
      " ~(~RSI | RDI) +\n",
      " ~(~(1 +\n",
      "     RDI +\n",
      "     18446744073709551614*~(~RDI | ~RSI) +\n",
      "     (RDI | RSI) +\n",
      "     (RSI | ~RDI)) |\n",
      "   RDI + ~(~RSI | RDI)) |\n",
      " 18446744073709551615 +\n",
      " ~(~(RDI + ~(~RSI | RDI)) |\n",
      "   ~(1 +\n",
      "     RDI +\n",
      "     18446744073709551614*~(~RDI | ~RSI) +\n",
      "     (RDI | RSI) +\n",
      "     (RSI | ~RDI))) +\n",
      " 18446744073709551615*RDI +\n",
      " 18446744073709551615*~(~RSI | RDI)) +\n",
      "(18446744073709551615 +\n",
      " ~(~(RDI + ~(~RSI | RDI)) |\n",
      "   ~(1 +\n",
      "     RDI +\n",
      "     18446744073709551614*~(~RDI | ~RSI) +\n",
      "     (RDI | RSI) +\n",
      "     (RSI | ~RDI))) +\n",
      " 18446744073709551615*RDI +\n",
      " 18446744073709551615*~(~RSI | RDI) |\n",
      " ~(RDI +\n",
      "   ~(~RSI | RDI) +\n",
      "   ~(~(1 +\n",
      "       RDI +\n",
      "       18446744073709551614*~(~RDI | ~RSI) +\n",
      "       (RDI | RSI) +\n",
      "       (RSI | ~RDI)) |\n",
      "     RDI + ~(~RSI | RDI))))\n",
      "\n"
     ]
    }
   ],
   "source": [
    "\"\"\"\n",
    "Compare RAX expression from symbolic execution with\n",
    "simplified expression through basic z3's SMT simplification\n",
    "of the scramble function in scramble3\n",
    "\"\"\"\n",
    "print(f\"Original RAX scramble3:\\n---\\n{rax_scramble3}\\n\")\n",
    "\n",
    "rax_scramble3_z3 = translator.from_expr(rax_scramble3)\n",
    "print(f\"SMT simplified RAX scramble3:\\n---\\n{simplify(rax_scramble3_z3)}\\n\")"
   ]
  },
  {
   "cell_type": "code",
   "execution_count": 22,
   "id": "30fb8728-e82c-4ce1-9b0c-d55d99373bea",
   "metadata": {},
   "outputs": [
    {
     "name": "stdout",
     "output_type": "stream",
     "text": [
      "Original RAX scramble4:\n",
      "---\n",
      "((RDI + (RDI & RSI) * 0xFFFFFFFFFFFFFFFE + (RDI | RSI) + (RSI | (RDI ^ 0xFFFFFFFFFFFFFFFF)) + 0x1) & ((RDI + (RSI & (RDI ^ 0xFFFFFFFFFFFFFFFF))) ^ 0xFFFFFFFFFFFFFFFF)) + ((RDI * 0xFFFFFFFFFFFFFFFE + -(RSI & (RDI ^ 0xFFFFFFFFFFFFFFFF)) + -((((RSI & (RDI ^ 0xFFFFFFFFFFFFFFFF)) + RDI * 0x2 + (RDI & RSI) * 0xFFFFFFFFFFFFFFFE + ((RDI + (RSI & (RDI ^ 0xFFFFFFFFFFFFFFFF))) | ((RDI & RSI) + -RDI + 0xFFFFFFFFFFFFFFFF)) + (((RDI & RSI) + -RDI + 0xFFFFFFFFFFFFFFFF) | ((RDI + (RSI & (RDI ^ 0xFFFFFFFFFFFFFFFF))) ^ 0xFFFFFFFFFFFFFFFF)) + 0x2) & ((RDI + (RSI & (RDI ^ 0xFFFFFFFFFFFFFFFF))) ^ 0xFFFFFFFFFFFFFFFF)) | ((RSI & (RDI ^ 0xFFFFFFFFFFFFFFFF)) + RDI * 0x2 + ((RDI + (RSI & (RDI ^ 0xFFFFFFFFFFFFFFFF))) | ((RDI & RSI & (RDI ^ 0xFFFFFFFFFFFFFFFF)) + -RDI + 0xFFFFFFFFFFFFFFFF)) + (((RDI & RSI & (RDI ^ 0xFFFFFFFFFFFFFFFF)) + -RDI + 0xFFFFFFFFFFFFFFFF) | ((RDI + (RSI & (RDI ^ 0xFFFFFFFFFFFFFFFF))) ^ 0xFFFFFFFFFFFFFFFF)) + 0x2)) + -((((RSI & (RDI ^ 0xFFFFFFFFFFFFFFFF)) + RDI * 0x2 + (RDI & RSI) * 0xFFFFFFFFFFFFFFFE + ((RDI + (RSI & (RDI ^ 0xFFFFFFFFFFFFFFFF))) | ((RDI & RSI) + -RDI + 0xFFFFFFFFFFFFFFFF)) + (((RDI & RSI) + -RDI + 0xFFFFFFFFFFFFFFFF) | ((RDI + (RSI & (RDI ^ 0xFFFFFFFFFFFFFFFF))) ^ 0xFFFFFFFFFFFFFFFF)) + 0x2) & ((RDI + (RSI & (RDI ^ 0xFFFFFFFFFFFFFFFF))) ^ 0xFFFFFFFFFFFFFFFF)) | (RDI * 0xFFFFFFFFFFFFFFFE + -(RSI & (RDI ^ 0xFFFFFFFFFFFFFFFF)) + -((RDI + (RSI & (RDI ^ 0xFFFFFFFFFFFFFFFF))) | ((RDI & RSI & (RDI ^ 0xFFFFFFFFFFFFFFFF)) + -RDI + 0xFFFFFFFFFFFFFFFF)) + -(((RDI & RSI & (RDI ^ 0xFFFFFFFFFFFFFFFF)) + -RDI + 0xFFFFFFFFFFFFFFFF) | ((RDI + (RSI & (RDI ^ 0xFFFFFFFFFFFFFFFF))) ^ 0xFFFFFFFFFFFFFFFF)) + 0xFFFFFFFFFFFFFFFD)) + -((RDI + (RSI & (RDI ^ 0xFFFFFFFFFFFFFFFF))) | ((RDI & RSI & (RDI ^ 0xFFFFFFFFFFFFFFFF)) + -RDI + 0xFFFFFFFFFFFFFFFF)) + -(((RDI & RSI & (RDI ^ 0xFFFFFFFFFFFFFFFF)) + -RDI + 0xFFFFFFFFFFFFFFFF) | ((RDI + (RSI & (RDI ^ 0xFFFFFFFFFFFFFFFF))) ^ 0xFFFFFFFFFFFFFFFF)) + 0xFFFFFFFFFFFFFFFC) & (((RSI & (RDI ^ 0xFFFFFFFFFFFFFFFF)) + RDI * 0x2 + (RDI & RSI) * 0xFFFFFFFFFFFFFFFE + ((RDI + (RSI & (RDI ^ 0xFFFFFFFFFFFFFFFF))) | ((RDI & RSI) + -RDI + 0xFFFFFFFFFFFFFFFF)) + (((RDI & RSI) + -RDI + 0xFFFFFFFFFFFFFFFF) | ((RDI + (RSI & (RDI ^ 0xFFFFFFFFFFFFFFFF))) ^ 0xFFFFFFFFFFFFFFFF)) + 0x2) | ((RDI + (RSI & (RDI ^ 0xFFFFFFFFFFFFFFFF))) ^ 0xFFFFFFFFFFFFFFFF))) + RDI * 0x4 + (RSI & (RDI ^ 0xFFFFFFFFFFFFFFFF)) * 0x3 + ((((RSI & (RDI ^ 0xFFFFFFFFFFFFFFFF)) + RDI * 0x2 + (RDI & RSI) * 0xFFFFFFFFFFFFFFFE + ((RDI + (RSI & (RDI ^ 0xFFFFFFFFFFFFFFFF))) | ((RDI & RSI) + -RDI + 0xFFFFFFFFFFFFFFFF)) + (((RDI & RSI) + -RDI + 0xFFFFFFFFFFFFFFFF) | ((RDI + (RSI & (RDI ^ 0xFFFFFFFFFFFFFFFF))) ^ 0xFFFFFFFFFFFFFFFF)) + 0x2) & ((RDI + (RSI & (RDI ^ 0xFFFFFFFFFFFFFFFF))) ^ 0xFFFFFFFFFFFFFFFF)) | ((RSI & (RDI ^ 0xFFFFFFFFFFFFFFFF)) + RDI * 0x2 + ((RDI + (RSI & (RDI ^ 0xFFFFFFFFFFFFFFFF))) | ((RDI & RSI & (RDI ^ 0xFFFFFFFFFFFFFFFF)) + -RDI + 0xFFFFFFFFFFFFFFFF)) + (((RDI & RSI & (RDI ^ 0xFFFFFFFFFFFFFFFF)) + -RDI + 0xFFFFFFFFFFFFFFFF) | ((RDI + (RSI & (RDI ^ 0xFFFFFFFFFFFFFFFF))) ^ 0xFFFFFFFFFFFFFFFF)) + 0x2)) + ((((RSI & (RDI ^ 0xFFFFFFFFFFFFFFFF)) + RDI * 0x2 + (RDI & RSI) * 0xFFFFFFFFFFFFFFFE + ((RDI + (RSI & (RDI ^ 0xFFFFFFFFFFFFFFFF))) | ((RDI & RSI) + -RDI + 0xFFFFFFFFFFFFFFFF)) + (((RDI & RSI) + -RDI + 0xFFFFFFFFFFFFFFFF) | ((RDI + (RSI & (RDI ^ 0xFFFFFFFFFFFFFFFF))) ^ 0xFFFFFFFFFFFFFFFF)) + 0x2) & ((RDI + (RSI & (RDI ^ 0xFFFFFFFFFFFFFFFF))) ^ 0xFFFFFFFFFFFFFFFF)) | (RDI * 0xFFFFFFFFFFFFFFFE + -(RSI & (RDI ^ 0xFFFFFFFFFFFFFFFF)) + -((RDI + (RSI & (RDI ^ 0xFFFFFFFFFFFFFFFF))) | ((RDI & RSI & (RDI ^ 0xFFFFFFFFFFFFFFFF)) + -RDI + 0xFFFFFFFFFFFFFFFF)) + -(((RDI & RSI & (RDI ^ 0xFFFFFFFFFFFFFFFF)) + -RDI + 0xFFFFFFFFFFFFFFFF) | ((RDI + (RSI & (RDI ^ 0xFFFFFFFFFFFFFFFF))) ^ 0xFFFFFFFFFFFFFFFF)) + 0xFFFFFFFFFFFFFFFD)) + ((RDI + (RSI & (RDI ^ 0xFFFFFFFFFFFFFFFF))) | ((RDI & RSI & (RDI ^ 0xFFFFFFFFFFFFFFFF)) + -RDI + 0xFFFFFFFFFFFFFFFF)) + (((RDI & RSI & (RDI ^ 0xFFFFFFFFFFFFFFFF)) + -RDI + 0xFFFFFFFFFFFFFFFF) | ((RDI + (RSI & (RDI ^ 0xFFFFFFFFFFFFFFFF))) ^ 0xFFFFFFFFFFFFFFFF)) + (((RSI & (RDI ^ 0xFFFFFFFFFFFFFFFF)) + ((RDI * 0xFFFFFFFFFFFFFFFE + -(RSI & (RDI ^ 0xFFFFFFFFFFFFFFFF)) + -((((RSI & (RDI ^ 0xFFFFFFFFFFFFFFFF)) + RDI * 0x2 + (RDI & RSI) * 0xFFFFFFFFFFFFFFFE + ((RDI + (RSI & (RDI ^ 0xFFFFFFFFFFFFFFFF))) | ((RDI & RSI) + -RDI + 0xFFFFFFFFFFFFFFFF)) + (((RDI & RSI) + -RDI + 0xFFFFFFFFFFFFFFFF) | ((RDI + (RSI & (RDI ^ 0xFFFFFFFFFFFFFFFF))) ^ 0xFFFFFFFFFFFFFFFF)) + 0x2) & ((RDI + (RSI & (RDI ^ 0xFFFFFFFFFFFFFFFF))) ^ 0xFFFFFFFFFFFFFFFF)) | ((RSI & (RDI ^ 0xFFFFFFFFFFFFFFFF)) + RDI * 0x2 + ((RDI + (RSI & (RDI ^ 0xFFFFFFFFFFFFFFFF))) | ((RDI & RSI & (RDI ^ 0xFFFFFFFFFFFFFFFF)) + -RDI + 0xFFFFFFFFFFFFFFFF)) + (((RDI & RSI & (RDI ^ 0xFFFFFFFFFFFFFFFF)) + -RDI + 0xFFFFFFFFFFFFFFFF) | ((RDI + (RSI & (RDI ^ 0xFFFFFFFFFFFFFFFF))) ^ 0xFFFFFFFFFFFFFFFF)) + 0x2)) + -((((RSI & (RDI ^ 0xFFFFFFFFFFFFFFFF)) + RDI * 0x2 + (RDI & RSI) * 0xFFFFFFFFFFFFFFFE + ((RDI + (RSI & (RDI ^ 0xFFFFFFFFFFFFFFFF))) | ((RDI & RSI) + -RDI + 0xFFFFFFFFFFFFFFFF)) + (((RDI & RSI) + -RDI + 0xFFFFFFFFFFFFFFFF) | ((RDI + (RSI & (RDI ^ 0xFFFFFFFFFFFFFFFF))) ^ 0xFFFFFFFFFFFFFFFF)) + 0x2) & ((RDI + (RSI & (RDI ^ 0xFFFFFFFFFFFFFFFF))) ^ 0xFFFFFFFFFFFFFFFF)) | (RDI * 0xFFFFFFFFFFFFFFFE + -(RSI & (RDI ^ 0xFFFFFFFFFFFFFFFF)) + -((RDI + (RSI & (RDI ^ 0xFFFFFFFFFFFFFFFF))) | ((RDI & RSI & (RDI ^ 0xFFFFFFFFFFFFFFFF)) + -RDI + 0xFFFFFFFFFFFFFFFF)) + -(((RDI & RSI & (RDI ^ 0xFFFFFFFFFFFFFFFF)) + -RDI + 0xFFFFFFFFFFFFFFFF) | ((RDI + (RSI & (RDI ^ 0xFFFFFFFFFFFFFFFF))) ^ 0xFFFFFFFFFFFFFFFF)) + 0xFFFFFFFFFFFFFFFD)) + -((RDI + (RSI & (RDI ^ 0xFFFFFFFFFFFFFFFF))) | ((RDI & RSI & (RDI ^ 0xFFFFFFFFFFFFFFFF)) + -RDI + 0xFFFFFFFFFFFFFFFF)) + -(((RDI & RSI & (RDI ^ 0xFFFFFFFFFFFFFFFF)) + -RDI + 0xFFFFFFFFFFFFFFFF) | ((RDI + (RSI & (RDI ^ 0xFFFFFFFFFFFFFFFF))) ^ 0xFFFFFFFFFFFFFFFF)) + 0xFFFFFFFFFFFFFFFC) & (((RSI & (RDI ^ 0xFFFFFFFFFFFFFFFF)) + RDI * 0x2 + (RDI & RSI) * 0xFFFFFFFFFFFFFFFE + ((RDI + (RSI & (RDI ^ 0xFFFFFFFFFFFFFFFF))) | ((RDI & RSI) + -RDI + 0xFFFFFFFFFFFFFFFF)) + (((RDI & RSI) + -RDI + 0xFFFFFFFFFFFFFFFF) | ((RDI + (RSI & (RDI ^ 0xFFFFFFFFFFFFFFFF))) ^ 0xFFFFFFFFFFFFFFFF)) + 0x2) | ((RDI + (RSI & (RDI ^ 0xFFFFFFFFFFFFFFFF))) ^ 0xFFFFFFFFFFFFFFFF))) + RDI * 0x2 + ((((RSI & (RDI ^ 0xFFFFFFFFFFFFFFFF)) + RDI * 0x2 + (RDI & RSI) * 0xFFFFFFFFFFFFFFFE + ((RDI + (RSI & (RDI ^ 0xFFFFFFFFFFFFFFFF))) | ((RDI & RSI) + -RDI + 0xFFFFFFFFFFFFFFFF)) + (((RDI & RSI) + -RDI + 0xFFFFFFFFFFFFFFFF) | ((RDI + (RSI & (RDI ^ 0xFFFFFFFFFFFFFFFF))) ^ 0xFFFFFFFFFFFFFFFF)) + 0x2) & ((RDI + (RSI & (RDI ^ 0xFFFFFFFFFFFFFFFF))) ^ 0xFFFFFFFFFFFFFFFF)) | ((RSI & (RDI ^ 0xFFFFFFFFFFFFFFFF)) + RDI * 0x2 + ((RDI + (RSI & (RDI ^ 0xFFFFFFFFFFFFFFFF))) | ((RDI & RSI & (RDI ^ 0xFFFFFFFFFFFFFFFF)) + -RDI + 0xFFFFFFFFFFFFFFFF)) + (((RDI & RSI & (RDI ^ 0xFFFFFFFFFFFFFFFF)) + -RDI + 0xFFFFFFFFFFFFFFFF) | ((RDI + (RSI & (RDI ^ 0xFFFFFFFFFFFFFFFF))) ^ 0xFFFFFFFFFFFFFFFF)) + 0x2)) + ((((RSI & (RDI ^ 0xFFFFFFFFFFFFFFFF)) + RDI * 0x2 + (RDI & RSI) * 0xFFFFFFFFFFFFFFFE + ((RDI + (RSI & (RDI ^ 0xFFFFFFFFFFFFFFFF))) | ((RDI & RSI) + -RDI + 0xFFFFFFFFFFFFFFFF)) + (((RDI & RSI) + -RDI + 0xFFFFFFFFFFFFFFFF) | ((RDI + (RSI & (RDI ^ 0xFFFFFFFFFFFFFFFF))) ^ 0xFFFFFFFFFFFFFFFF)) + 0x2) & ((RDI + (RSI & (RDI ^ 0xFFFFFFFFFFFFFFFF))) ^ 0xFFFFFFFFFFFFFFFF)) | (RDI * 0xFFFFFFFFFFFFFFFE + -(RSI & (RDI ^ 0xFFFFFFFFFFFFFFFF)) + -((RDI + (RSI & (RDI ^ 0xFFFFFFFFFFFFFFFF))) | ((RDI & RSI & (RDI ^ 0xFFFFFFFFFFFFFFFF)) + -RDI + 0xFFFFFFFFFFFFFFFF)) + -(((RDI & RSI & (RDI ^ 0xFFFFFFFFFFFFFFFF)) + -RDI + 0xFFFFFFFFFFFFFFFF) | ((RDI + (RSI & (RDI ^ 0xFFFFFFFFFFFFFFFF))) ^ 0xFFFFFFFFFFFFFFFF)) + 0xFFFFFFFFFFFFFFFD)) + ((RDI + (RSI & (RDI ^ 0xFFFFFFFFFFFFFFFF))) | ((RDI & RSI & (RDI ^ 0xFFFFFFFFFFFFFFFF)) + -RDI + 0xFFFFFFFFFFFFFFFF)) + (((RDI & RSI & (RDI ^ 0xFFFFFFFFFFFFFFFF)) + -RDI + 0xFFFFFFFFFFFFFFFF) | ((RDI + (RSI & (RDI ^ 0xFFFFFFFFFFFFFFFF))) ^ 0xFFFFFFFFFFFFFFFF)) + 0x3) | (((RDI + (RSI & (RDI ^ 0xFFFFFFFFFFFFFFFF)) + ((RDI + (RDI & RSI) * 0xFFFFFFFFFFFFFFFE + (RDI | RSI) + (RSI | (RDI ^ 0xFFFFFFFFFFFFFFFF)) + 0x1) & ((RDI + (RSI & (RDI ^ 0xFFFFFFFFFFFFFFFF))) ^ 0xFFFFFFFFFFFFFFFF))) & (((RSI & (RDI ^ 0xFFFFFFFFFFFFFFFF)) + RDI * 0x2 + (RDI & RSI) * 0xFFFFFFFFFFFFFFFE + ((RDI + (RSI & (RDI ^ 0xFFFFFFFFFFFFFFFF))) | ((RDI & RSI) + -RDI + 0xFFFFFFFFFFFFFFFF)) + (((RDI & RSI) + -RDI + 0xFFFFFFFFFFFFFFFF) | ((RDI + (RSI & (RDI ^ 0xFFFFFFFFFFFFFFFF))) ^ 0xFFFFFFFFFFFFFFFF)) + 0x2) | ((RDI + (RSI & (RDI ^ 0xFFFFFFFFFFFFFFFF))) ^ 0xFFFFFFFFFFFFFFFF))) + -RDI + -(RSI & (RDI ^ 0xFFFFFFFFFFFFFFFF)) + -((RDI + (RDI & RSI) * 0xFFFFFFFFFFFFFFFE + (RDI | RSI) + (RSI | (RDI ^ 0xFFFFFFFFFFFFFFFF)) + 0x1) & ((RDI + (RSI & (RDI ^ 0xFFFFFFFFFFFFFFFF))) ^ 0xFFFFFFFFFFFFFFFF)) + 0xFFFFFFFFFFFFFFFF)) + ((((RDI + (RSI & (RDI ^ 0xFFFFFFFFFFFFFFFF)) + ((RDI + (RDI & RSI) * 0xFFFFFFFFFFFFFFFE + (RDI | RSI) + (RSI | (RDI ^ 0xFFFFFFFFFFFFFFFF)) + 0x1) & ((RDI + (RSI & (RDI ^ 0xFFFFFFFFFFFFFFFF))) ^ 0xFFFFFFFFFFFFFFFF))) & (((RSI & (RDI ^ 0xFFFFFFFFFFFFFFFF)) + RDI * 0x2 + (RDI & RSI) * 0xFFFFFFFFFFFFFFFE + ((RDI + (RSI & (RDI ^ 0xFFFFFFFFFFFFFFFF))) | ((RDI & RSI) + -RDI + 0xFFFFFFFFFFFFFFFF)) + (((RDI & RSI) + -RDI + 0xFFFFFFFFFFFFFFFF) | ((RDI + (RSI & (RDI ^ 0xFFFFFFFFFFFFFFFF))) ^ 0xFFFFFFFFFFFFFFFF)) + 0x2) | ((RDI + (RSI & (RDI ^ 0xFFFFFFFFFFFFFFFF))) ^ 0xFFFFFFFFFFFFFFFF))) + -RDI + -(RSI & (RDI ^ 0xFFFFFFFFFFFFFFFF)) + -((RDI + (RDI & RSI) * 0xFFFFFFFFFFFFFFFE + (RDI | RSI) + (RSI | (RDI ^ 0xFFFFFFFFFFFFFFFF)) + 0x1) & ((RDI + (RSI & (RDI ^ 0xFFFFFFFFFFFFFFFF))) ^ 0xFFFFFFFFFFFFFFFF)) + 0xFFFFFFFFFFFFFFFF) | (RDI * 0xFFFFFFFFFFFFFFFE + -(RSI & (RDI ^ 0xFFFFFFFFFFFFFFFF)) + -((RDI * 0xFFFFFFFFFFFFFFFE + -(RSI & (RDI ^ 0xFFFFFFFFFFFFFFFF)) + -((((RSI & (RDI ^ 0xFFFFFFFFFFFFFFFF)) + RDI * 0x2 + (RDI & RSI) * 0xFFFFFFFFFFFFFFFE + ((RDI + (RSI & (RDI ^ 0xFFFFFFFFFFFFFFFF))) | ((RDI & RSI) + -RDI + 0xFFFFFFFFFFFFFFFF)) + (((RDI & RSI) + -RDI + 0xFFFFFFFFFFFFFFFF) | ((RDI + (RSI & (RDI ^ 0xFFFFFFFFFFFFFFFF))) ^ 0xFFFFFFFFFFFFFFFF)) + 0x2) & ((RDI + (RSI & (RDI ^ 0xFFFFFFFFFFFFFFFF))) ^ 0xFFFFFFFFFFFFFFFF)) | ((RSI & (RDI ^ 0xFFFFFFFFFFFFFFFF)) + RDI * 0x2 + ((RDI + (RSI & (RDI ^ 0xFFFFFFFFFFFFFFFF))) | ((RDI & RSI & (RDI ^ 0xFFFFFFFFFFFFFFFF)) + -RDI + 0xFFFFFFFFFFFFFFFF)) + (((RDI & RSI & (RDI ^ 0xFFFFFFFFFFFFFFFF)) + -RDI + 0xFFFFFFFFFFFFFFFF) | ((RDI + (RSI & (RDI ^ 0xFFFFFFFFFFFFFFFF))) ^ 0xFFFFFFFFFFFFFFFF)) + 0x2)) + -((((RSI & (RDI ^ 0xFFFFFFFFFFFFFFFF)) + RDI * 0x2 + (RDI & RSI) * 0xFFFFFFFFFFFFFFFE + ((RDI + (RSI & (RDI ^ 0xFFFFFFFFFFFFFFFF))) | ((RDI & RSI) + -RDI + 0xFFFFFFFFFFFFFFFF)) + (((RDI & RSI) + -RDI + 0xFFFFFFFFFFFFFFFF) | ((RDI + (RSI & (RDI ^ 0xFFFFFFFFFFFFFFFF))) ^ 0xFFFFFFFFFFFFFFFF)) + 0x2) & ((RDI + (RSI & (RDI ^ 0xFFFFFFFFFFFFFFFF))) ^ 0xFFFFFFFFFFFFFFFF)) | (RDI * 0xFFFFFFFFFFFFFFFE + -(RSI & (RDI ^ 0xFFFFFFFFFFFFFFFF)) + -((RDI + (RSI & (RDI ^ 0xFFFFFFFFFFFFFFFF))) | ((RDI & RSI & (RDI ^ 0xFFFFFFFFFFFFFFFF)) + -RDI + 0xFFFFFFFFFFFFFFFF)) + -(((RDI & RSI & (RDI ^ 0xFFFFFFFFFFFFFFFF)) + -RDI + 0xFFFFFFFFFFFFFFFF) | ((RDI + (RSI & (RDI ^ 0xFFFFFFFFFFFFFFFF))) ^ 0xFFFFFFFFFFFFFFFF)) + 0xFFFFFFFFFFFFFFFD)) + -((RDI + (RSI & (RDI ^ 0xFFFFFFFFFFFFFFFF))) | ((RDI & RSI & (RDI ^ 0xFFFFFFFFFFFFFFFF)) + -RDI + 0xFFFFFFFFFFFFFFFF)) + -(((RDI & RSI & (RDI ^ 0xFFFFFFFFFFFFFFFF)) + -RDI + 0xFFFFFFFFFFFFFFFF) | ((RDI + (RSI & (RDI ^ 0xFFFFFFFFFFFFFFFF))) ^ 0xFFFFFFFFFFFFFFFF)) + 0xFFFFFFFFFFFFFFFC) & (((RSI & (RDI ^ 0xFFFFFFFFFFFFFFFF)) + RDI * 0x2 + (RDI & RSI) * 0xFFFFFFFFFFFFFFFE + ((RDI + (RSI & (RDI ^ 0xFFFFFFFFFFFFFFFF))) | ((RDI & RSI) + -RDI + 0xFFFFFFFFFFFFFFFF)) + (((RDI & RSI) + -RDI + 0xFFFFFFFFFFFFFFFF) | ((RDI + (RSI & (RDI ^ 0xFFFFFFFFFFFFFFFF))) ^ 0xFFFFFFFFFFFFFFFF)) + 0x2) | ((RDI + (RSI & (RDI ^ 0xFFFFFFFFFFFFFFFF))) ^ 0xFFFFFFFFFFFFFFFF))) + -((((RSI & (RDI ^ 0xFFFFFFFFFFFFFFFF)) + RDI * 0x2 + (RDI & RSI) * 0xFFFFFFFFFFFFFFFE + ((RDI + (RSI & (RDI ^ 0xFFFFFFFFFFFFFFFF))) | ((RDI & RSI) + -RDI + 0xFFFFFFFFFFFFFFFF)) + (((RDI & RSI) + -RDI + 0xFFFFFFFFFFFFFFFF) | ((RDI + (RSI & (RDI ^ 0xFFFFFFFFFFFFFFFF))) ^ 0xFFFFFFFFFFFFFFFF)) + 0x2) & ((RDI + (RSI & (RDI ^ 0xFFFFFFFFFFFFFFFF))) ^ 0xFFFFFFFFFFFFFFFF)) | ((RSI & (RDI ^ 0xFFFFFFFFFFFFFFFF)) + RDI * 0x2 + ((RDI + (RSI & (RDI ^ 0xFFFFFFFFFFFFFFFF))) | ((RDI & RSI & (RDI ^ 0xFFFFFFFFFFFFFFFF)) + -RDI + 0xFFFFFFFFFFFFFFFF)) + (((RDI & RSI & (RDI ^ 0xFFFFFFFFFFFFFFFF)) + -RDI + 0xFFFFFFFFFFFFFFFF) | ((RDI + (RSI & (RDI ^ 0xFFFFFFFFFFFFFFFF))) ^ 0xFFFFFFFFFFFFFFFF)) + 0x2)) + -((((RSI & (RDI ^ 0xFFFFFFFFFFFFFFFF)) + RDI * 0x2 + (RDI & RSI) * 0xFFFFFFFFFFFFFFFE + ((RDI + (RSI & (RDI ^ 0xFFFFFFFFFFFFFFFF))) | ((RDI & RSI) + -RDI + 0xFFFFFFFFFFFFFFFF)) + (((RDI & RSI) + -RDI + 0xFFFFFFFFFFFFFFFF) | ((RDI + (RSI & (RDI ^ 0xFFFFFFFFFFFFFFFF))) ^ 0xFFFFFFFFFFFFFFFF)) + 0x2) & ((RDI + (RSI & (RDI ^ 0xFFFFFFFFFFFFFFFF))) ^ 0xFFFFFFFFFFFFFFFF)) | (RDI * 0xFFFFFFFFFFFFFFFE + -(RSI & (RDI ^ 0xFFFFFFFFFFFFFFFF)) + -((RDI + (RSI & (RDI ^ 0xFFFFFFFFFFFFFFFF))) | ((RDI & RSI & (RDI ^ 0xFFFFFFFFFFFFFFFF)) + -RDI + 0xFFFFFFFFFFFFFFFF)) + -(((RDI & RSI & (RDI ^ 0xFFFFFFFFFFFFFFFF)) + -RDI + 0xFFFFFFFFFFFFFFFF) | ((RDI + (RSI & (RDI ^ 0xFFFFFFFFFFFFFFFF))) ^ 0xFFFFFFFFFFFFFFFF)) + 0xFFFFFFFFFFFFFFFD)) + -((RDI + (RSI & (RDI ^ 0xFFFFFFFFFFFFFFFF))) | ((RDI & RSI & (RDI ^ 0xFFFFFFFFFFFFFFFF)) + -RDI + 0xFFFFFFFFFFFFFFFF)) + -(((RDI & RSI & (RDI ^ 0xFFFFFFFFFFFFFFFF)) + -RDI + 0xFFFFFFFFFFFFFFFF) | ((RDI + (RSI & (RDI ^ 0xFFFFFFFFFFFFFFFF))) ^ 0xFFFFFFFFFFFFFFFF)) + 0xFFFFFFFFFFFFFFFC)) + 0x6\n",
      "\n",
      "SMT simplified RAX scramble4:\n",
      "---\n",
      "6 +\n",
      "~(~(1 +\n",
      "    RDI +\n",
      "    18446744073709551614*~(~RDI | ~RSI) +\n",
      "    (RDI | RSI) +\n",
      "    (RSI | ~RDI)) |\n",
      "  RDI + ~(~RSI | RDI)) +\n",
      "~(~(18446744073709551612 +\n",
      "    18446744073709551614*RDI +\n",
      "    18446744073709551615*~(~RSI | RDI) +\n",
      "    18446744073709551615*\n",
      "    (~(~(2 +\n",
      "         ~(~RSI | RDI) +\n",
      "         2*RDI +\n",
      "         18446744073709551614*~(~RDI | ~RSI) +\n",
      "         (RDI + ~(~RSI | RDI) |\n",
      "          18446744073709551615 +\n",
      "          ~(~RDI | ~RSI) +\n",
      "          18446744073709551615*RDI) +\n",
      "         (18446744073709551615 +\n",
      "          ~(~RDI | ~RSI) +\n",
      "          18446744073709551615*RDI |\n",
      "          ~(RDI + ~(~RSI | RDI)))) |\n",
      "       RDI + ~(~RSI | RDI)) |\n",
      "     2 +\n",
      "     ~(~RSI | RDI) +\n",
      "     2*RDI +\n",
      "     (RDI + ~(~RSI | RDI) |\n",
      "      18446744073709551615 + 18446744073709551615*RDI) +\n",
      "     (18446744073709551615 + 18446744073709551615*RDI |\n",
      "      ~(RDI + ~(~RSI | RDI)))) +\n",
      "    18446744073709551615*\n",
      "    (~(~(2 +\n",
      "         ~(~RSI | RDI) +\n",
      "         2*RDI +\n",
      "         18446744073709551614*~(~RDI | ~RSI) +\n",
      "         (RDI + ~(~RSI | RDI) |\n",
      "          18446744073709551615 +\n",
      "          ~(~RDI | ~RSI) +\n",
      "          18446744073709551615*RDI) +\n",
      "         (18446744073709551615 +\n",
      "          ~(~RDI | ~RSI) +\n",
      "          18446744073709551615*RDI |\n",
      "          ~(RDI + ~(~RSI | RDI)))) |\n",
      "       RDI + ~(~RSI | RDI)) |\n",
      "     18446744073709551613 +\n",
      "     18446744073709551614*RDI +\n",
      "     18446744073709551615*~(~RSI | RDI) +\n",
      "     18446744073709551615*\n",
      "     (RDI + ~(~RSI | RDI) |\n",
      "      18446744073709551615 + 18446744073709551615*RDI) +\n",
      "     18446744073709551615*\n",
      "     (18446744073709551615 + 18446744073709551615*RDI |\n",
      "      ~(RDI + ~(~RSI | RDI)))) +\n",
      "    18446744073709551615*\n",
      "    (RDI + ~(~RSI | RDI) |\n",
      "     18446744073709551615 + 18446744073709551615*RDI) +\n",
      "    18446744073709551615*\n",
      "    (18446744073709551615 + 18446744073709551615*RDI |\n",
      "     ~(RDI + ~(~RSI | RDI)))) |\n",
      "  ~(2 +\n",
      "    ~(~RSI | RDI) +\n",
      "    2*RDI +\n",
      "    18446744073709551614*~(~RDI | ~RSI) +\n",
      "    (RDI + ~(~RSI | RDI) |\n",
      "     18446744073709551615 +\n",
      "     ~(~RDI | ~RSI) +\n",
      "     18446744073709551615*RDI) +\n",
      "    (18446744073709551615 +\n",
      "     ~(~RDI | ~RSI) +\n",
      "     18446744073709551615*RDI |\n",
      "     ~(RDI + ~(~RSI | RDI))) |\n",
      "    ~(RDI + ~(~RSI | RDI)))) +\n",
      "4*RDI +\n",
      "3*~(~RSI | RDI) +\n",
      "(~(~(2 +\n",
      "     ~(~RSI | RDI) +\n",
      "     2*RDI +\n",
      "     18446744073709551614*~(~RDI | ~RSI) +\n",
      "     (RDI + ~(~RSI | RDI) |\n",
      "      18446744073709551615 +\n",
      "      ~(~RDI | ~RSI) +\n",
      "      18446744073709551615*RDI) +\n",
      "     (18446744073709551615 +\n",
      "      ~(~RDI | ~RSI) +\n",
      "      18446744073709551615*RDI |\n",
      "      ~(RDI + ~(~RSI | RDI)))) |\n",
      "   RDI + ~(~RSI | RDI)) |\n",
      " 2 +\n",
      " ~(~RSI | RDI) +\n",
      " 2*RDI +\n",
      " (RDI + ~(~RSI | RDI) |\n",
      "  18446744073709551615 + 18446744073709551615*RDI) +\n",
      " (18446744073709551615 + 18446744073709551615*RDI |\n",
      "  ~(RDI + ~(~RSI | RDI)))) +\n",
      "(~(~(2 +\n",
      "     ~(~RSI | RDI) +\n",
      "     2*RDI +\n",
      "     18446744073709551614*~(~RDI | ~RSI) +\n",
      "     (RDI + ~(~RSI | RDI) |\n",
      "      18446744073709551615 +\n",
      "      ~(~RDI | ~RSI) +\n",
      "      18446744073709551615*RDI) +\n",
      "     (18446744073709551615 +\n",
      "      ~(~RDI | ~RSI) +\n",
      "      18446744073709551615*RDI |\n",
      "      ~(RDI + ~(~RSI | RDI)))) |\n",
      "   RDI + ~(~RSI | RDI)) |\n",
      " 18446744073709551613 +\n",
      " 18446744073709551614*RDI +\n",
      " 18446744073709551615*~(~RSI | RDI) +\n",
      " 18446744073709551615*\n",
      " (RDI + ~(~RSI | RDI) |\n",
      "  18446744073709551615 + 18446744073709551615*RDI) +\n",
      " 18446744073709551615*\n",
      " (18446744073709551615 + 18446744073709551615*RDI |\n",
      "  ~(RDI + ~(~RSI | RDI)))) +\n",
      "(RDI + ~(~RSI | RDI) |\n",
      " 18446744073709551615 + 18446744073709551615*RDI) +\n",
      "(18446744073709551615 + 18446744073709551615*RDI |\n",
      " ~(RDI + ~(~RSI | RDI))) +\n",
      "(3 +\n",
      " ~(~RSI | RDI) +\n",
      " ~(~(18446744073709551612 +\n",
      "     18446744073709551614*RDI +\n",
      "     18446744073709551615*~(~RSI | RDI) +\n",
      "     18446744073709551615*\n",
      "     (~(~(2 +\n",
      "          ~(~RSI | RDI) +\n",
      "          2*RDI +\n",
      "          18446744073709551614*~(~RDI | ~RSI) +\n",
      "          (RDI + ~(~RSI | RDI) |\n",
      "           18446744073709551615 +\n",
      "           ~(~RDI | ~RSI) +\n",
      "           18446744073709551615*RDI) +\n",
      "          (18446744073709551615 +\n",
      "           ~(~RDI | ~RSI) +\n",
      "           18446744073709551615*RDI |\n",
      "           ~(RDI + ~(~RSI | RDI)))) |\n",
      "        RDI + ~(~RSI | RDI)) |\n",
      "      2 +\n",
      "      ~(~RSI | RDI) +\n",
      "      2*RDI +\n",
      "      (RDI + ~(~RSI | RDI) |\n",
      "       18446744073709551615 + 18446744073709551615*RDI) +\n",
      "      (18446744073709551615 + 18446744073709551615*RDI |\n",
      "       ~(RDI + ~(~RSI | RDI)))) +\n",
      "     18446744073709551615*\n",
      "     (~(~(2 +\n",
      "          ~(~RSI | RDI) +\n",
      "          2*RDI +\n",
      "          18446744073709551614*~(~RDI | ~RSI) +\n",
      "          (RDI + ~(~RSI | RDI) |\n",
      "           18446744073709551615 +\n",
      "           ~(~RDI | ~RSI) +\n",
      "           18446744073709551615*RDI) +\n",
      "          (18446744073709551615 +\n",
      "           ~(~RDI | ~RSI) +\n",
      "           18446744073709551615*RDI |\n",
      "           ~(RDI + ~(~RSI | RDI)))) |\n",
      "        RDI + ~(~RSI | RDI)) |\n",
      "      18446744073709551613 +\n",
      "      18446744073709551614*RDI +\n",
      "      18446744073709551615*~(~RSI | RDI) +\n",
      "      18446744073709551615*\n",
      "      (RDI + ~(~RSI | RDI) |\n",
      "       18446744073709551615 + 18446744073709551615*RDI) +\n",
      "      18446744073709551615*\n",
      "      (18446744073709551615 + 18446744073709551615*RDI |\n",
      "       ~(RDI + ~(~RSI | RDI)))) +\n",
      "     18446744073709551615*\n",
      "     (RDI + ~(~RSI | RDI) |\n",
      "      18446744073709551615 + 18446744073709551615*RDI) +\n",
      "     18446744073709551615*\n",
      "     (18446744073709551615 + 18446744073709551615*RDI |\n",
      "      ~(RDI + ~(~RSI | RDI)))) |\n",
      "   ~(2 +\n",
      "     ~(~RSI | RDI) +\n",
      "     2*RDI +\n",
      "     18446744073709551614*~(~RDI | ~RSI) +\n",
      "     (RDI + ~(~RSI | RDI) |\n",
      "      18446744073709551615 +\n",
      "      ~(~RDI | ~RSI) +\n",
      "      18446744073709551615*RDI) +\n",
      "     (18446744073709551615 +\n",
      "      ~(~RDI | ~RSI) +\n",
      "      18446744073709551615*RDI |\n",
      "      ~(RDI + ~(~RSI | RDI))) |\n",
      "     ~(RDI + ~(~RSI | RDI)))) +\n",
      " 2*RDI +\n",
      " (~(~(2 +\n",
      "      ~(~RSI | RDI) +\n",
      "      2*RDI +\n",
      "      18446744073709551614*~(~RDI | ~RSI) +\n",
      "      (RDI + ~(~RSI | RDI) |\n",
      "       18446744073709551615 +\n",
      "       ~(~RDI | ~RSI) +\n",
      "       18446744073709551615*RDI) +\n",
      "      (18446744073709551615 +\n",
      "       ~(~RDI | ~RSI) +\n",
      "...\n",
      "\n"
     ]
    }
   ],
   "source": [
    "\"\"\"\n",
    "Compare RAX expression from symbolic execution with\n",
    "simplified expression through basic z3's SMT simplification\n",
    "of the scramble function in scramble4\n",
    "\"\"\"\n",
    "print(f\"Original RAX scramble4:\\n---\\n{rax_scramble4}\\n\")\n",
    "\n",
    "rax_scramble4_z3 = translator.from_expr(rax_scramble4)\n",
    "print(f\"SMT simplified RAX scramble4:\\n---\\n{simplify(rax_scramble4_z3)}\\n\")"
   ]
  },
  {
   "cell_type": "markdown",
   "id": "059d83bc-5d62-4e9c-b91d-6c40932dccdb",
   "metadata": {},
   "source": [
    "# Program synthesis"
   ]
  },
  {
   "cell_type": "code",
   "execution_count": 23,
   "id": "02203d45-56ab-4e31-9a81-0f7df9285970",
   "metadata": {},
   "outputs": [],
   "source": [
    "\"\"\"\n",
    "Load synthesis Simplifier from msynth tool and\n",
    "initialize it with given oracle database\n",
    "\"\"\"\n",
    "from msynth import Simplifier\n",
    "oracle_path = \"./../msynth/oracle.pickle\"\n",
    "\n",
    "simplifier = Simplifier(oracle_path)"
   ]
  },
  {
   "cell_type": "code",
   "execution_count": 24,
   "id": "4a1d4388-da89-4dc9-94bc-b01251de3819",
   "metadata": {},
   "outputs": [
    {
     "name": "stdout",
     "output_type": "stream",
     "text": [
      "RAX SYMEX scramble1:\n",
      "---\n",
      "(RDI ^ RSI) + (RDI | RSI)\n",
      "\n",
      "RAX SYNTH scramble1:\n",
      "---\n",
      "(RDI ^ RSI) + (RDI | RSI)\n",
      "\n"
     ]
    }
   ],
   "source": [
    "\"\"\"\n",
    "Compare RAX expression from symbolic execution with\n",
    "synthesized expression through msynth synthesis\n",
    "simplification of the scramble function in scramble1\n",
    "\"\"\"\n",
    "rax_scramble1_synth = simplifier.simplify(rax_scramble1)\n",
    "\n",
    "print(f\"RAX SYMEX scramble1:\\n---\\n{rax_scramble1}\\n\")\n",
    "print(f\"RAX SYNTH scramble1:\\n---\\n{rax_scramble1_synth}\\n\")"
   ]
  },
  {
   "cell_type": "code",
   "execution_count": 25,
   "id": "6cb64762-5e0e-48a4-8592-4bea4b555e58",
   "metadata": {},
   "outputs": [
    {
     "name": "stdout",
     "output_type": "stream",
     "text": [
      "RAX SYMEX scramble2:\n",
      "---\n",
      "RDI + (RSI & (RDI ^ 0xFFFFFFFFFFFFFFFF)) + ((RDI + RSI + (RDI & RSI) * 0xFFFFFFFFFFFFFFFE) | (RDI + (RSI & (RDI ^ 0xFFFFFFFFFFFFFFFF)))) + ((RDI + RSI + (RDI & RSI) * 0xFFFFFFFFFFFFFFFE) | ((RDI + (RSI & (RDI ^ 0xFFFFFFFFFFFFFFFF))) ^ 0xFFFFFFFFFFFFFFFF)) + 0x1\n",
      "\n",
      "RAX SYNTH scramble2:\n",
      "---\n",
      "(RDI ^ RSI) + (RDI | RSI)\n",
      "\n"
     ]
    }
   ],
   "source": [
    "\"\"\"\n",
    "Compare RAX expression from symbolic execution with\n",
    "synthesized expression through msynth synthesis\n",
    "simplification of the scramble function in scramble2\n",
    "\"\"\"\n",
    "rax_scramble2_synth = simplifier.simplify(rax_scramble2)\n",
    "\n",
    "print(f\"RAX SYMEX scramble2:\\n---\\n{rax_scramble2}\\n\")\n",
    "print(f\"RAX SYNTH scramble2:\\n---\\n{rax_scramble2_synth}\\n\")"
   ]
  },
  {
   "cell_type": "code",
   "execution_count": 26,
   "id": "b4d0cb32-0804-4757-a784-4f67d2bd0180",
   "metadata": {},
   "outputs": [
    {
     "name": "stdout",
     "output_type": "stream",
     "text": [
      "RAX SYMEX scramble3:\n",
      "---\n",
      "((RDI + (RDI & RSI) * 0xFFFFFFFFFFFFFFFE + (RDI | RSI) + (RSI | (RDI ^ 0xFFFFFFFFFFFFFFFF)) + 0x1) & ((RDI + (RSI & (RDI ^ 0xFFFFFFFFFFFFFFFF))) ^ 0xFFFFFFFFFFFFFFFF)) + RDI * 0x2 + (RSI & (RDI ^ 0xFFFFFFFFFFFFFFFF)) * 0x2 + ((RDI + (RSI & (RDI ^ 0xFFFFFFFFFFFFFFFF)) + ((RDI + (RDI & RSI) * 0xFFFFFFFFFFFFFFFE + (RDI | RSI) + (RSI | (RDI ^ 0xFFFFFFFFFFFFFFFF)) + 0x1) & ((RDI + (RSI & (RDI ^ 0xFFFFFFFFFFFFFFFF))) ^ 0xFFFFFFFFFFFFFFFF))) | (((RDI + (RSI & (RDI ^ 0xFFFFFFFFFFFFFFFF))) & (RDI + (RDI & RSI) * 0xFFFFFFFFFFFFFFFE + (RDI | RSI) + (RSI | (RDI ^ 0xFFFFFFFFFFFFFFFF)) + 0x1)) + -RDI + -(RSI & (RDI ^ 0xFFFFFFFFFFFFFFFF)) + 0xFFFFFFFFFFFFFFFF)) + ((((RDI + (RSI & (RDI ^ 0xFFFFFFFFFFFFFFFF))) & (RDI + (RDI & RSI) * 0xFFFFFFFFFFFFFFFE + (RDI | RSI) + (RSI | (RDI ^ 0xFFFFFFFFFFFFFFFF)) + 0x1)) + -RDI + -(RSI & (RDI ^ 0xFFFFFFFFFFFFFFFF)) + 0xFFFFFFFFFFFFFFFF) | ((RDI + (RSI & (RDI ^ 0xFFFFFFFFFFFFFFFF)) + ((RDI + (RDI & RSI) * 0xFFFFFFFFFFFFFFFE + (RDI | RSI) + (RSI | (RDI ^ 0xFFFFFFFFFFFFFFFF)) + 0x1) & ((RDI + (RSI & (RDI ^ 0xFFFFFFFFFFFFFFFF))) ^ 0xFFFFFFFFFFFFFFFF))) ^ 0xFFFFFFFFFFFFFFFF)) + 0x2\n",
      "\n",
      "RAX SYNTH scramble3:\n",
      "---\n",
      "(RDI ^ RSI) + (RDI | RSI)\n",
      "\n"
     ]
    }
   ],
   "source": [
    "\"\"\"\n",
    "Compare RAX expression from symbolic execution with\n",
    "synthesized expression through msynth synthesis\n",
    "simplification of the scramble function in scramble3\n",
    "\"\"\"\n",
    "rax_scramble3_synth = simplifier.simplify(rax_scramble3)\n",
    "\n",
    "print(f\"RAX SYMEX scramble3:\\n---\\n{rax_scramble3}\\n\")\n",
    "print(f\"RAX SYNTH scramble3:\\n---\\n{rax_scramble3_synth}\\n\")"
   ]
  },
  {
   "cell_type": "code",
   "execution_count": 27,
   "id": "8f375c50-3edb-4dc0-914f-d516c9580791",
   "metadata": {},
   "outputs": [
    {
     "name": "stdout",
     "output_type": "stream",
     "text": [
      "RAX SYMEX scramble4:\n",
      "---\n",
      "((RDI + (RDI & RSI) * 0xFFFFFFFFFFFFFFFE + (RDI | RSI) + (RSI | (RDI ^ 0xFFFFFFFFFFFFFFFF)) + 0x1) & ((RDI + (RSI & (RDI ^ 0xFFFFFFFFFFFFFFFF))) ^ 0xFFFFFFFFFFFFFFFF)) + ((RDI * 0xFFFFFFFFFFFFFFFE + -(RSI & (RDI ^ 0xFFFFFFFFFFFFFFFF)) + -((((RSI & (RDI ^ 0xFFFFFFFFFFFFFFFF)) + RDI * 0x2 + (RDI & RSI) * 0xFFFFFFFFFFFFFFFE + ((RDI + (RSI & (RDI ^ 0xFFFFFFFFFFFFFFFF))) | ((RDI & RSI) + -RDI + 0xFFFFFFFFFFFFFFFF)) + (((RDI & RSI) + -RDI + 0xFFFFFFFFFFFFFFFF) | ((RDI + (RSI & (RDI ^ 0xFFFFFFFFFFFFFFFF))) ^ 0xFFFFFFFFFFFFFFFF)) + 0x2) & ((RDI + (RSI & (RDI ^ 0xFFFFFFFFFFFFFFFF))) ^ 0xFFFFFFFFFFFFFFFF)) | ((RSI & (RDI ^ 0xFFFFFFFFFFFFFFFF)) + RDI * 0x2 + ((RDI + (RSI & (RDI ^ 0xFFFFFFFFFFFFFFFF))) | ((RDI & RSI & (RDI ^ 0xFFFFFFFFFFFFFFFF)) + -RDI + 0xFFFFFFFFFFFFFFFF)) + (((RDI & RSI & (RDI ^ 0xFFFFFFFFFFFFFFFF)) + -RDI + 0xFFFFFFFFFFFFFFFF) | ((RDI + (RSI & (RDI ^ 0xFFFFFFFFFFFFFFFF))) ^ 0xFFFFFFFFFFFFFFFF)) + 0x2)) + -((((RSI & (RDI ^ 0xFFFFFFFFFFFFFFFF)) + RDI * 0x2 + (RDI & RSI) * 0xFFFFFFFFFFFFFFFE + ((RDI + (RSI & (RDI ^ 0xFFFFFFFFFFFFFFFF))) | ((RDI & RSI) + -RDI + 0xFFFFFFFFFFFFFFFF)) + (((RDI & RSI) + -RDI + 0xFFFFFFFFFFFFFFFF) | ((RDI + (RSI & (RDI ^ 0xFFFFFFFFFFFFFFFF))) ^ 0xFFFFFFFFFFFFFFFF)) + 0x2) & ((RDI + (RSI & (RDI ^ 0xFFFFFFFFFFFFFFFF))) ^ 0xFFFFFFFFFFFFFFFF)) | (RDI * 0xFFFFFFFFFFFFFFFE + -(RSI & (RDI ^ 0xFFFFFFFFFFFFFFFF)) + -((RDI + (RSI & (RDI ^ 0xFFFFFFFFFFFFFFFF))) | ((RDI & RSI & (RDI ^ 0xFFFFFFFFFFFFFFFF)) + -RDI + 0xFFFFFFFFFFFFFFFF)) + -(((RDI & RSI & (RDI ^ 0xFFFFFFFFFFFFFFFF)) + -RDI + 0xFFFFFFFFFFFFFFFF) | ((RDI + (RSI & (RDI ^ 0xFFFFFFFFFFFFFFFF))) ^ 0xFFFFFFFFFFFFFFFF)) + 0xFFFFFFFFFFFFFFFD)) + -((RDI + (RSI & (RDI ^ 0xFFFFFFFFFFFFFFFF))) | ((RDI & RSI & (RDI ^ 0xFFFFFFFFFFFFFFFF)) + -RDI + 0xFFFFFFFFFFFFFFFF)) + -(((RDI & RSI & (RDI ^ 0xFFFFFFFFFFFFFFFF)) + -RDI + 0xFFFFFFFFFFFFFFFF) | ((RDI + (RSI & (RDI ^ 0xFFFFFFFFFFFFFFFF))) ^ 0xFFFFFFFFFFFFFFFF)) + 0xFFFFFFFFFFFFFFFC) & (((RSI & (RDI ^ 0xFFFFFFFFFFFFFFFF)) + RDI * 0x2 + (RDI & RSI) * 0xFFFFFFFFFFFFFFFE + ((RDI + (RSI & (RDI ^ 0xFFFFFFFFFFFFFFFF))) | ((RDI & RSI) + -RDI + 0xFFFFFFFFFFFFFFFF)) + (((RDI & RSI) + -RDI + 0xFFFFFFFFFFFFFFFF) | ((RDI + (RSI & (RDI ^ 0xFFFFFFFFFFFFFFFF))) ^ 0xFFFFFFFFFFFFFFFF)) + 0x2) | ((RDI + (RSI & (RDI ^ 0xFFFFFFFFFFFFFFFF))) ^ 0xFFFFFFFFFFFFFFFF))) + RDI * 0x4 + (RSI & (RDI ^ 0xFFFFFFFFFFFFFFFF)) * 0x3 + ((((RSI & (RDI ^ 0xFFFFFFFFFFFFFFFF)) + RDI * 0x2 + (RDI & RSI) * 0xFFFFFFFFFFFFFFFE + ((RDI + (RSI & (RDI ^ 0xFFFFFFFFFFFFFFFF))) | ((RDI & RSI) + -RDI + 0xFFFFFFFFFFFFFFFF)) + (((RDI & RSI) + -RDI + 0xFFFFFFFFFFFFFFFF) | ((RDI + (RSI & (RDI ^ 0xFFFFFFFFFFFFFFFF))) ^ 0xFFFFFFFFFFFFFFFF)) + 0x2) & ((RDI + (RSI & (RDI ^ 0xFFFFFFFFFFFFFFFF))) ^ 0xFFFFFFFFFFFFFFFF)) | ((RSI & (RDI ^ 0xFFFFFFFFFFFFFFFF)) + RDI * 0x2 + ((RDI + (RSI & (RDI ^ 0xFFFFFFFFFFFFFFFF))) | ((RDI & RSI & (RDI ^ 0xFFFFFFFFFFFFFFFF)) + -RDI + 0xFFFFFFFFFFFFFFFF)) + (((RDI & RSI & (RDI ^ 0xFFFFFFFFFFFFFFFF)) + -RDI + 0xFFFFFFFFFFFFFFFF) | ((RDI + (RSI & (RDI ^ 0xFFFFFFFFFFFFFFFF))) ^ 0xFFFFFFFFFFFFFFFF)) + 0x2)) + ((((RSI & (RDI ^ 0xFFFFFFFFFFFFFFFF)) + RDI * 0x2 + (RDI & RSI) * 0xFFFFFFFFFFFFFFFE + ((RDI + (RSI & (RDI ^ 0xFFFFFFFFFFFFFFFF))) | ((RDI & RSI) + -RDI + 0xFFFFFFFFFFFFFFFF)) + (((RDI & RSI) + -RDI + 0xFFFFFFFFFFFFFFFF) | ((RDI + (RSI & (RDI ^ 0xFFFFFFFFFFFFFFFF))) ^ 0xFFFFFFFFFFFFFFFF)) + 0x2) & ((RDI + (RSI & (RDI ^ 0xFFFFFFFFFFFFFFFF))) ^ 0xFFFFFFFFFFFFFFFF)) | (RDI * 0xFFFFFFFFFFFFFFFE + -(RSI & (RDI ^ 0xFFFFFFFFFFFFFFFF)) + -((RDI + (RSI & (RDI ^ 0xFFFFFFFFFFFFFFFF))) | ((RDI & RSI & (RDI ^ 0xFFFFFFFFFFFFFFFF)) + -RDI + 0xFFFFFFFFFFFFFFFF)) + -(((RDI & RSI & (RDI ^ 0xFFFFFFFFFFFFFFFF)) + -RDI + 0xFFFFFFFFFFFFFFFF) | ((RDI + (RSI & (RDI ^ 0xFFFFFFFFFFFFFFFF))) ^ 0xFFFFFFFFFFFFFFFF)) + 0xFFFFFFFFFFFFFFFD)) + ((RDI + (RSI & (RDI ^ 0xFFFFFFFFFFFFFFFF))) | ((RDI & RSI & (RDI ^ 0xFFFFFFFFFFFFFFFF)) + -RDI + 0xFFFFFFFFFFFFFFFF)) + (((RDI & RSI & (RDI ^ 0xFFFFFFFFFFFFFFFF)) + -RDI + 0xFFFFFFFFFFFFFFFF) | ((RDI + (RSI & (RDI ^ 0xFFFFFFFFFFFFFFFF))) ^ 0xFFFFFFFFFFFFFFFF)) + (((RSI & (RDI ^ 0xFFFFFFFFFFFFFFFF)) + ((RDI * 0xFFFFFFFFFFFFFFFE + -(RSI & (RDI ^ 0xFFFFFFFFFFFFFFFF)) + -((((RSI & (RDI ^ 0xFFFFFFFFFFFFFFFF)) + RDI * 0x2 + (RDI & RSI) * 0xFFFFFFFFFFFFFFFE + ((RDI + (RSI & (RDI ^ 0xFFFFFFFFFFFFFFFF))) | ((RDI & RSI) + -RDI + 0xFFFFFFFFFFFFFFFF)) + (((RDI & RSI) + -RDI + 0xFFFFFFFFFFFFFFFF) | ((RDI + (RSI & (RDI ^ 0xFFFFFFFFFFFFFFFF))) ^ 0xFFFFFFFFFFFFFFFF)) + 0x2) & ((RDI + (RSI & (RDI ^ 0xFFFFFFFFFFFFFFFF))) ^ 0xFFFFFFFFFFFFFFFF)) | ((RSI & (RDI ^ 0xFFFFFFFFFFFFFFFF)) + RDI * 0x2 + ((RDI + (RSI & (RDI ^ 0xFFFFFFFFFFFFFFFF))) | ((RDI & RSI & (RDI ^ 0xFFFFFFFFFFFFFFFF)) + -RDI + 0xFFFFFFFFFFFFFFFF)) + (((RDI & RSI & (RDI ^ 0xFFFFFFFFFFFFFFFF)) + -RDI + 0xFFFFFFFFFFFFFFFF) | ((RDI + (RSI & (RDI ^ 0xFFFFFFFFFFFFFFFF))) ^ 0xFFFFFFFFFFFFFFFF)) + 0x2)) + -((((RSI & (RDI ^ 0xFFFFFFFFFFFFFFFF)) + RDI * 0x2 + (RDI & RSI) * 0xFFFFFFFFFFFFFFFE + ((RDI + (RSI & (RDI ^ 0xFFFFFFFFFFFFFFFF))) | ((RDI & RSI) + -RDI + 0xFFFFFFFFFFFFFFFF)) + (((RDI & RSI) + -RDI + 0xFFFFFFFFFFFFFFFF) | ((RDI + (RSI & (RDI ^ 0xFFFFFFFFFFFFFFFF))) ^ 0xFFFFFFFFFFFFFFFF)) + 0x2) & ((RDI + (RSI & (RDI ^ 0xFFFFFFFFFFFFFFFF))) ^ 0xFFFFFFFFFFFFFFFF)) | (RDI * 0xFFFFFFFFFFFFFFFE + -(RSI & (RDI ^ 0xFFFFFFFFFFFFFFFF)) + -((RDI + (RSI & (RDI ^ 0xFFFFFFFFFFFFFFFF))) | ((RDI & RSI & (RDI ^ 0xFFFFFFFFFFFFFFFF)) + -RDI + 0xFFFFFFFFFFFFFFFF)) + -(((RDI & RSI & (RDI ^ 0xFFFFFFFFFFFFFFFF)) + -RDI + 0xFFFFFFFFFFFFFFFF) | ((RDI + (RSI & (RDI ^ 0xFFFFFFFFFFFFFFFF))) ^ 0xFFFFFFFFFFFFFFFF)) + 0xFFFFFFFFFFFFFFFD)) + -((RDI + (RSI & (RDI ^ 0xFFFFFFFFFFFFFFFF))) | ((RDI & RSI & (RDI ^ 0xFFFFFFFFFFFFFFFF)) + -RDI + 0xFFFFFFFFFFFFFFFF)) + -(((RDI & RSI & (RDI ^ 0xFFFFFFFFFFFFFFFF)) + -RDI + 0xFFFFFFFFFFFFFFFF) | ((RDI + (RSI & (RDI ^ 0xFFFFFFFFFFFFFFFF))) ^ 0xFFFFFFFFFFFFFFFF)) + 0xFFFFFFFFFFFFFFFC) & (((RSI & (RDI ^ 0xFFFFFFFFFFFFFFFF)) + RDI * 0x2 + (RDI & RSI) * 0xFFFFFFFFFFFFFFFE + ((RDI + (RSI & (RDI ^ 0xFFFFFFFFFFFFFFFF))) | ((RDI & RSI) + -RDI + 0xFFFFFFFFFFFFFFFF)) + (((RDI & RSI) + -RDI + 0xFFFFFFFFFFFFFFFF) | ((RDI + (RSI & (RDI ^ 0xFFFFFFFFFFFFFFFF))) ^ 0xFFFFFFFFFFFFFFFF)) + 0x2) | ((RDI + (RSI & (RDI ^ 0xFFFFFFFFFFFFFFFF))) ^ 0xFFFFFFFFFFFFFFFF))) + RDI * 0x2 + ((((RSI & (RDI ^ 0xFFFFFFFFFFFFFFFF)) + RDI * 0x2 + (RDI & RSI) * 0xFFFFFFFFFFFFFFFE + ((RDI + (RSI & (RDI ^ 0xFFFFFFFFFFFFFFFF))) | ((RDI & RSI) + -RDI + 0xFFFFFFFFFFFFFFFF)) + (((RDI & RSI) + -RDI + 0xFFFFFFFFFFFFFFFF) | ((RDI + (RSI & (RDI ^ 0xFFFFFFFFFFFFFFFF))) ^ 0xFFFFFFFFFFFFFFFF)) + 0x2) & ((RDI + (RSI & (RDI ^ 0xFFFFFFFFFFFFFFFF))) ^ 0xFFFFFFFFFFFFFFFF)) | ((RSI & (RDI ^ 0xFFFFFFFFFFFFFFFF)) + RDI * 0x2 + ((RDI + (RSI & (RDI ^ 0xFFFFFFFFFFFFFFFF))) | ((RDI & RSI & (RDI ^ 0xFFFFFFFFFFFFFFFF)) + -RDI + 0xFFFFFFFFFFFFFFFF)) + (((RDI & RSI & (RDI ^ 0xFFFFFFFFFFFFFFFF)) + -RDI + 0xFFFFFFFFFFFFFFFF) | ((RDI + (RSI & (RDI ^ 0xFFFFFFFFFFFFFFFF))) ^ 0xFFFFFFFFFFFFFFFF)) + 0x2)) + ((((RSI & (RDI ^ 0xFFFFFFFFFFFFFFFF)) + RDI * 0x2 + (RDI & RSI) * 0xFFFFFFFFFFFFFFFE + ((RDI + (RSI & (RDI ^ 0xFFFFFFFFFFFFFFFF))) | ((RDI & RSI) + -RDI + 0xFFFFFFFFFFFFFFFF)) + (((RDI & RSI) + -RDI + 0xFFFFFFFFFFFFFFFF) | ((RDI + (RSI & (RDI ^ 0xFFFFFFFFFFFFFFFF))) ^ 0xFFFFFFFFFFFFFFFF)) + 0x2) & ((RDI + (RSI & (RDI ^ 0xFFFFFFFFFFFFFFFF))) ^ 0xFFFFFFFFFFFFFFFF)) | (RDI * 0xFFFFFFFFFFFFFFFE + -(RSI & (RDI ^ 0xFFFFFFFFFFFFFFFF)) + -((RDI + (RSI & (RDI ^ 0xFFFFFFFFFFFFFFFF))) | ((RDI & RSI & (RDI ^ 0xFFFFFFFFFFFFFFFF)) + -RDI + 0xFFFFFFFFFFFFFFFF)) + -(((RDI & RSI & (RDI ^ 0xFFFFFFFFFFFFFFFF)) + -RDI + 0xFFFFFFFFFFFFFFFF) | ((RDI + (RSI & (RDI ^ 0xFFFFFFFFFFFFFFFF))) ^ 0xFFFFFFFFFFFFFFFF)) + 0xFFFFFFFFFFFFFFFD)) + ((RDI + (RSI & (RDI ^ 0xFFFFFFFFFFFFFFFF))) | ((RDI & RSI & (RDI ^ 0xFFFFFFFFFFFFFFFF)) + -RDI + 0xFFFFFFFFFFFFFFFF)) + (((RDI & RSI & (RDI ^ 0xFFFFFFFFFFFFFFFF)) + -RDI + 0xFFFFFFFFFFFFFFFF) | ((RDI + (RSI & (RDI ^ 0xFFFFFFFFFFFFFFFF))) ^ 0xFFFFFFFFFFFFFFFF)) + 0x3) | (((RDI + (RSI & (RDI ^ 0xFFFFFFFFFFFFFFFF)) + ((RDI + (RDI & RSI) * 0xFFFFFFFFFFFFFFFE + (RDI | RSI) + (RSI | (RDI ^ 0xFFFFFFFFFFFFFFFF)) + 0x1) & ((RDI + (RSI & (RDI ^ 0xFFFFFFFFFFFFFFFF))) ^ 0xFFFFFFFFFFFFFFFF))) & (((RSI & (RDI ^ 0xFFFFFFFFFFFFFFFF)) + RDI * 0x2 + (RDI & RSI) * 0xFFFFFFFFFFFFFFFE + ((RDI + (RSI & (RDI ^ 0xFFFFFFFFFFFFFFFF))) | ((RDI & RSI) + -RDI + 0xFFFFFFFFFFFFFFFF)) + (((RDI & RSI) + -RDI + 0xFFFFFFFFFFFFFFFF) | ((RDI + (RSI & (RDI ^ 0xFFFFFFFFFFFFFFFF))) ^ 0xFFFFFFFFFFFFFFFF)) + 0x2) | ((RDI + (RSI & (RDI ^ 0xFFFFFFFFFFFFFFFF))) ^ 0xFFFFFFFFFFFFFFFF))) + -RDI + -(RSI & (RDI ^ 0xFFFFFFFFFFFFFFFF)) + -((RDI + (RDI & RSI) * 0xFFFFFFFFFFFFFFFE + (RDI | RSI) + (RSI | (RDI ^ 0xFFFFFFFFFFFFFFFF)) + 0x1) & ((RDI + (RSI & (RDI ^ 0xFFFFFFFFFFFFFFFF))) ^ 0xFFFFFFFFFFFFFFFF)) + 0xFFFFFFFFFFFFFFFF)) + ((((RDI + (RSI & (RDI ^ 0xFFFFFFFFFFFFFFFF)) + ((RDI + (RDI & RSI) * 0xFFFFFFFFFFFFFFFE + (RDI | RSI) + (RSI | (RDI ^ 0xFFFFFFFFFFFFFFFF)) + 0x1) & ((RDI + (RSI & (RDI ^ 0xFFFFFFFFFFFFFFFF))) ^ 0xFFFFFFFFFFFFFFFF))) & (((RSI & (RDI ^ 0xFFFFFFFFFFFFFFFF)) + RDI * 0x2 + (RDI & RSI) * 0xFFFFFFFFFFFFFFFE + ((RDI + (RSI & (RDI ^ 0xFFFFFFFFFFFFFFFF))) | ((RDI & RSI) + -RDI + 0xFFFFFFFFFFFFFFFF)) + (((RDI & RSI) + -RDI + 0xFFFFFFFFFFFFFFFF) | ((RDI + (RSI & (RDI ^ 0xFFFFFFFFFFFFFFFF))) ^ 0xFFFFFFFFFFFFFFFF)) + 0x2) | ((RDI + (RSI & (RDI ^ 0xFFFFFFFFFFFFFFFF))) ^ 0xFFFFFFFFFFFFFFFF))) + -RDI + -(RSI & (RDI ^ 0xFFFFFFFFFFFFFFFF)) + -((RDI + (RDI & RSI) * 0xFFFFFFFFFFFFFFFE + (RDI | RSI) + (RSI | (RDI ^ 0xFFFFFFFFFFFFFFFF)) + 0x1) & ((RDI + (RSI & (RDI ^ 0xFFFFFFFFFFFFFFFF))) ^ 0xFFFFFFFFFFFFFFFF)) + 0xFFFFFFFFFFFFFFFF) | (RDI * 0xFFFFFFFFFFFFFFFE + -(RSI & (RDI ^ 0xFFFFFFFFFFFFFFFF)) + -((RDI * 0xFFFFFFFFFFFFFFFE + -(RSI & (RDI ^ 0xFFFFFFFFFFFFFFFF)) + -((((RSI & (RDI ^ 0xFFFFFFFFFFFFFFFF)) + RDI * 0x2 + (RDI & RSI) * 0xFFFFFFFFFFFFFFFE + ((RDI + (RSI & (RDI ^ 0xFFFFFFFFFFFFFFFF))) | ((RDI & RSI) + -RDI + 0xFFFFFFFFFFFFFFFF)) + (((RDI & RSI) + -RDI + 0xFFFFFFFFFFFFFFFF) | ((RDI + (RSI & (RDI ^ 0xFFFFFFFFFFFFFFFF))) ^ 0xFFFFFFFFFFFFFFFF)) + 0x2) & ((RDI + (RSI & (RDI ^ 0xFFFFFFFFFFFFFFFF))) ^ 0xFFFFFFFFFFFFFFFF)) | ((RSI & (RDI ^ 0xFFFFFFFFFFFFFFFF)) + RDI * 0x2 + ((RDI + (RSI & (RDI ^ 0xFFFFFFFFFFFFFFFF))) | ((RDI & RSI & (RDI ^ 0xFFFFFFFFFFFFFFFF)) + -RDI + 0xFFFFFFFFFFFFFFFF)) + (((RDI & RSI & (RDI ^ 0xFFFFFFFFFFFFFFFF)) + -RDI + 0xFFFFFFFFFFFFFFFF) | ((RDI + (RSI & (RDI ^ 0xFFFFFFFFFFFFFFFF))) ^ 0xFFFFFFFFFFFFFFFF)) + 0x2)) + -((((RSI & (RDI ^ 0xFFFFFFFFFFFFFFFF)) + RDI * 0x2 + (RDI & RSI) * 0xFFFFFFFFFFFFFFFE + ((RDI + (RSI & (RDI ^ 0xFFFFFFFFFFFFFFFF))) | ((RDI & RSI) + -RDI + 0xFFFFFFFFFFFFFFFF)) + (((RDI & RSI) + -RDI + 0xFFFFFFFFFFFFFFFF) | ((RDI + (RSI & (RDI ^ 0xFFFFFFFFFFFFFFFF))) ^ 0xFFFFFFFFFFFFFFFF)) + 0x2) & ((RDI + (RSI & (RDI ^ 0xFFFFFFFFFFFFFFFF))) ^ 0xFFFFFFFFFFFFFFFF)) | (RDI * 0xFFFFFFFFFFFFFFFE + -(RSI & (RDI ^ 0xFFFFFFFFFFFFFFFF)) + -((RDI + (RSI & (RDI ^ 0xFFFFFFFFFFFFFFFF))) | ((RDI & RSI & (RDI ^ 0xFFFFFFFFFFFFFFFF)) + -RDI + 0xFFFFFFFFFFFFFFFF)) + -(((RDI & RSI & (RDI ^ 0xFFFFFFFFFFFFFFFF)) + -RDI + 0xFFFFFFFFFFFFFFFF) | ((RDI + (RSI & (RDI ^ 0xFFFFFFFFFFFFFFFF))) ^ 0xFFFFFFFFFFFFFFFF)) + 0xFFFFFFFFFFFFFFFD)) + -((RDI + (RSI & (RDI ^ 0xFFFFFFFFFFFFFFFF))) | ((RDI & RSI & (RDI ^ 0xFFFFFFFFFFFFFFFF)) + -RDI + 0xFFFFFFFFFFFFFFFF)) + -(((RDI & RSI & (RDI ^ 0xFFFFFFFFFFFFFFFF)) + -RDI + 0xFFFFFFFFFFFFFFFF) | ((RDI + (RSI & (RDI ^ 0xFFFFFFFFFFFFFFFF))) ^ 0xFFFFFFFFFFFFFFFF)) + 0xFFFFFFFFFFFFFFFC) & (((RSI & (RDI ^ 0xFFFFFFFFFFFFFFFF)) + RDI * 0x2 + (RDI & RSI) * 0xFFFFFFFFFFFFFFFE + ((RDI + (RSI & (RDI ^ 0xFFFFFFFFFFFFFFFF))) | ((RDI & RSI) + -RDI + 0xFFFFFFFFFFFFFFFF)) + (((RDI & RSI) + -RDI + 0xFFFFFFFFFFFFFFFF) | ((RDI + (RSI & (RDI ^ 0xFFFFFFFFFFFFFFFF))) ^ 0xFFFFFFFFFFFFFFFF)) + 0x2) | ((RDI + (RSI & (RDI ^ 0xFFFFFFFFFFFFFFFF))) ^ 0xFFFFFFFFFFFFFFFF))) + -((((RSI & (RDI ^ 0xFFFFFFFFFFFFFFFF)) + RDI * 0x2 + (RDI & RSI) * 0xFFFFFFFFFFFFFFFE + ((RDI + (RSI & (RDI ^ 0xFFFFFFFFFFFFFFFF))) | ((RDI & RSI) + -RDI + 0xFFFFFFFFFFFFFFFF)) + (((RDI & RSI) + -RDI + 0xFFFFFFFFFFFFFFFF) | ((RDI + (RSI & (RDI ^ 0xFFFFFFFFFFFFFFFF))) ^ 0xFFFFFFFFFFFFFFFF)) + 0x2) & ((RDI + (RSI & (RDI ^ 0xFFFFFFFFFFFFFFFF))) ^ 0xFFFFFFFFFFFFFFFF)) | ((RSI & (RDI ^ 0xFFFFFFFFFFFFFFFF)) + RDI * 0x2 + ((RDI + (RSI & (RDI ^ 0xFFFFFFFFFFFFFFFF))) | ((RDI & RSI & (RDI ^ 0xFFFFFFFFFFFFFFFF)) + -RDI + 0xFFFFFFFFFFFFFFFF)) + (((RDI & RSI & (RDI ^ 0xFFFFFFFFFFFFFFFF)) + -RDI + 0xFFFFFFFFFFFFFFFF) | ((RDI + (RSI & (RDI ^ 0xFFFFFFFFFFFFFFFF))) ^ 0xFFFFFFFFFFFFFFFF)) + 0x2)) + -((((RSI & (RDI ^ 0xFFFFFFFFFFFFFFFF)) + RDI * 0x2 + (RDI & RSI) * 0xFFFFFFFFFFFFFFFE + ((RDI + (RSI & (RDI ^ 0xFFFFFFFFFFFFFFFF))) | ((RDI & RSI) + -RDI + 0xFFFFFFFFFFFFFFFF)) + (((RDI & RSI) + -RDI + 0xFFFFFFFFFFFFFFFF) | ((RDI + (RSI & (RDI ^ 0xFFFFFFFFFFFFFFFF))) ^ 0xFFFFFFFFFFFFFFFF)) + 0x2) & ((RDI + (RSI & (RDI ^ 0xFFFFFFFFFFFFFFFF))) ^ 0xFFFFFFFFFFFFFFFF)) | (RDI * 0xFFFFFFFFFFFFFFFE + -(RSI & (RDI ^ 0xFFFFFFFFFFFFFFFF)) + -((RDI + (RSI & (RDI ^ 0xFFFFFFFFFFFFFFFF))) | ((RDI & RSI & (RDI ^ 0xFFFFFFFFFFFFFFFF)) + -RDI + 0xFFFFFFFFFFFFFFFF)) + -(((RDI & RSI & (RDI ^ 0xFFFFFFFFFFFFFFFF)) + -RDI + 0xFFFFFFFFFFFFFFFF) | ((RDI + (RSI & (RDI ^ 0xFFFFFFFFFFFFFFFF))) ^ 0xFFFFFFFFFFFFFFFF)) + 0xFFFFFFFFFFFFFFFD)) + -((RDI + (RSI & (RDI ^ 0xFFFFFFFFFFFFFFFF))) | ((RDI & RSI & (RDI ^ 0xFFFFFFFFFFFFFFFF)) + -RDI + 0xFFFFFFFFFFFFFFFF)) + -(((RDI & RSI & (RDI ^ 0xFFFFFFFFFFFFFFFF)) + -RDI + 0xFFFFFFFFFFFFFFFF) | ((RDI + (RSI & (RDI ^ 0xFFFFFFFFFFFFFFFF))) ^ 0xFFFFFFFFFFFFFFFF)) + 0xFFFFFFFFFFFFFFFC)) + 0x6\n",
      "\n",
      "RAX SYNTH scramble4:\n",
      "---\n",
      "(RDI ^ RSI) + (RDI | RSI)\n",
      "\n"
     ]
    }
   ],
   "source": [
    "\"\"\"\n",
    "Compare RAX expression from symbolic execution with\n",
    "synthesized expression through msynth synthesis\n",
    "simplification of the scramble function in scramble4\n",
    "\"\"\"\n",
    "rax_scramble4_synth = simplifier.simplify(rax_scramble4)\n",
    "\n",
    "print(f\"RAX SYMEX scramble4:\\n---\\n{rax_scramble4}\\n\")\n",
    "print(f\"RAX SYNTH scramble4:\\n---\\n{rax_scramble4_synth}\\n\")"
   ]
  }
 ],
 "metadata": {
  "kernelspec": {
   "display_name": "Python 3 (ipykernel)",
   "language": "python",
   "name": "python3"
  },
  "language_info": {
   "codemirror_mode": {
    "name": "ipython",
    "version": 3
   },
   "file_extension": ".py",
   "mimetype": "text/x-python",
   "name": "python",
   "nbconvert_exporter": "python",
   "pygments_lexer": "ipython3",
   "version": "3.10.4"
  }
 },
 "nbformat": 4,
 "nbformat_minor": 5
}
