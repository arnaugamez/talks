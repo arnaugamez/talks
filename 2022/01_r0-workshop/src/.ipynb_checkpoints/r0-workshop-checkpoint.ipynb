{
 "cells": [
  {
   "cell_type": "markdown",
   "id": "4222699b-65c4-449c-947a-944937ed3528",
   "metadata": {},
   "source": [
    "# MBA obfuscation"
   ]
  },
  {
   "cell_type": "markdown",
   "id": "73c73758-4f3a-4747-b529-852bc41b4e22",
   "metadata": {},
   "source": [
    "### Original code: create scramble1.c\n",
    "```C\n",
    "#include <stdio.h>\n",
    "#include <stdint.h>\n",
    "#include <inttypes.h>\n",
    "\n",
    "uint64_t scramble(uint64_t x, uint64_t y)\n",
    "{\n",
    "    return (x | y) + (x ^ y);\n",
    "}\n",
    "\n",
    "int main()\n",
    "{\n",
    "    printf(\"Result %\" PRIu64 \"\\n\", scramble(1234, 5678));\n",
    "    return 0;\n",
    "}\n",
    "```"
   ]
  },
  {
   "cell_type": "code",
   "execution_count": 1,
   "id": "786a0f15-3da2-4190-8cfd-9c2c10e4d60f",
   "metadata": {},
   "outputs": [],
   "source": [
    "# Original expression\n",
    "# ---\n",
    "# (x | y) + (x ^ y)\n",
    "\n",
    "# MBA rewrite rules\n",
    "# ---\n",
    "# x | y -> x + (~x & y)\n",
    "# x ^ y -> x + y - 2*(x & y)\n",
    "# x + y -> (x | y) + (~x | y) - ~x"
   ]
  },
  {
   "cell_type": "markdown",
   "id": "7db89c6b-fa86-403d-aaa4-e5523b03b5d0",
   "metadata": {},
   "source": [
    "### MBA rewrite rules for XOR, OR and ADD"
   ]
  },
  {
   "cell_type": "code",
   "execution_count": 2,
   "id": "a661e7fc-628e-4c52-8bd2-16f156db89b7",
   "metadata": {},
   "outputs": [
    {
     "name": "stdout",
     "output_type": "stream",
     "text": [
      "proved\n",
      "proved\n",
      "proved\n"
     ]
    }
   ],
   "source": [
    "from z3 import *\n",
    "x, y = BitVecs(\"x y\", 64)\n",
    "\n",
    "# OR\n",
    "prove(x | y == x + (~x & y))\n",
    "\n",
    "# XOR\n",
    "prove(x ^ y == x + y - 2*(x & y))\n",
    "\n",
    "# ADD\n",
    "prove(x + y == (x | y) + (~x | y) - ~x)"
   ]
  },
  {
   "cell_type": "markdown",
   "id": "067ec4cb-ed9d-4c39-833a-8c105cd513f4",
   "metadata": {},
   "source": [
    "### Apply rewrite rules by modifying expression AST\n",
    "\n",
    "We replace `x`, `y` by `L` and `R` indicating left and right operands of each operation.\n",
    "\n",
    "Makes it easier to replace after that"
   ]
  },
  {
   "cell_type": "code",
   "execution_count": 3,
   "id": "6bfdfa22-a98f-4026-8a27-6f39e10c8fa7",
   "metadata": {},
   "outputs": [
    {
     "name": "stdout",
     "output_type": "stream",
     "text": [
      "MBA REWRITE OR\n",
      "---\n",
      "L + (~L & R)\n",
      "\n",
      "MBA REWRITE XOR\n",
      "---\n",
      "L + R - 2*(L & R)\n",
      "\n",
      "MBA REWRITE ADD\n",
      "---\n",
      "(L | R) + (~L | R) - ~L\n",
      "\n"
     ]
    }
   ],
   "source": [
    "mba_rewrite_or  = \"x + (~x & y)\".replace('x', 'L').replace('y', 'R')\n",
    "mba_rewrite_xor = \"x + y - 2*(x & y)\".replace('x', 'L').replace('y', 'R')\n",
    "mba_rewrite_add = \"(x | y) + (~x | y) - ~x\".replace('x', 'L').replace('y', 'R')\n",
    "\n",
    "print(f\"MBA REWRITE OR\\n---\\n{mba_rewrite_or}\\n\")\n",
    "print(f\"MBA REWRITE XOR\\n---\\n{mba_rewrite_xor}\\n\")\n",
    "print(f\"MBA REWRITE ADD\\n---\\n{mba_rewrite_add}\\n\")"
   ]
  },
  {
   "cell_type": "code",
   "execution_count": 4,
   "id": "faf1c3de-9b20-4e71-af94-2d9df5e0c192",
   "metadata": {},
   "outputs": [
    {
     "name": "stdout",
     "output_type": "stream",
     "text": [
      "Expression(\n",
      "    body=BinOp(\n",
      "        left=BinOp(\n",
      "            left=Name(id='x', ctx=Load()),\n",
      "            op=BitOr(),\n",
      "            right=Name(id='y', ctx=Load())),\n",
      "        op=Add(),\n",
      "        right=BinOp(\n",
      "            left=Name(id='x', ctx=Load()),\n",
      "            op=BitXor(),\n",
      "            right=Name(id='y', ctx=Load()))))\n"
     ]
    }
   ],
   "source": [
    "import ast\n",
    "import astunparse\n",
    "\n",
    "simp = \"(x | y) + (x ^ y)\"\n",
    "expr = ast.parse(simp, mode='eval')\n",
    "\n",
    "print(ast.dump(expr, indent=4))"
   ]
  },
  {
   "cell_type": "code",
   "execution_count": 5,
   "id": "12d6dd02-99bf-4125-914a-e80b938326a1",
   "metadata": {},
   "outputs": [],
   "source": [
    "def bottomUpBFS(node):\n",
    "    q = []\n",
    "    q.append(node)\n",
    "    \n",
    "    bin_ops = []\n",
    "    \n",
    "    while q:\n",
    "        cur = q.pop(0)\n",
    "            \n",
    "        if hasattr(cur, 'left'):\n",
    "            q.append(cur.left)\n",
    "\n",
    "        if hasattr(cur, 'right'):\n",
    "            q.append(cur.right)\n",
    "            \n",
    "        if isinstance(cur, ast.BinOp):\n",
    "            bin_ops.append(cur)\n",
    "        \n",
    "    return bin_ops"
   ]
  },
  {
   "cell_type": "code",
   "execution_count": 6,
   "id": "e6f8e715-cbcf-4297-af73-f4088ebe2824",
   "metadata": {},
   "outputs": [],
   "source": [
    "def rewriteMBA(root):\n",
    "    bin_ops = bottomUpBFS(root)\n",
    "\n",
    "    while bin_ops:\n",
    "        new = None\n",
    "        cur = bin_ops.pop()\n",
    "        L = astunparse.unparse(cur.left)[:-1]\n",
    "        R = astunparse.unparse(cur.right)[:-1]\n",
    "\n",
    "        if isinstance(cur.op, ast.BitOr):\n",
    "            new = ast.parse(mba_rewrite_or.replace('L', L).replace('R', R), mode='eval').body\n",
    "\n",
    "        if isinstance(cur.op, ast.BitXor):\n",
    "            new = ast.parse(mba_rewrite_xor.replace('L', L).replace('R', R), mode='eval').body\n",
    "\n",
    "        if isinstance(cur.op, ast.Add):\n",
    "            new = ast.parse(mba_rewrite_add.replace('L', L).replace('R', R), mode='eval').body\n",
    "\n",
    "        if new:\n",
    "            cur.op = new.op\n",
    "            cur.left = new.left\n",
    "            cur.right = new.right\n",
    "            \n",
    "            # print(astunparse.unparse(expr))"
   ]
  },
  {
   "cell_type": "markdown",
   "id": "b684a6b1-d750-4120-a924-3aeab47550ae",
   "metadata": {},
   "source": [
    "### Create `scramble2.c` and put this expression. Compile and compare"
   ]
  },
  {
   "cell_type": "code",
   "execution_count": 7,
   "id": "2f762f18-39a0-44e1-8385-937e069ae59d",
   "metadata": {},
   "outputs": [
    {
     "name": "stdout",
     "output_type": "stream",
     "text": [
      "((((x + ((~ x) & y)) | ((x + y) - (2 * (x & y)))) + ((~ (x + ((~ x) & y))) | ((x + y) - (2 * (x & y))))) - (~ (x + ((~ x) & y))))\n",
      "\n"
     ]
    }
   ],
   "source": [
    "rewriteMBA(expr.body)\n",
    "print(astunparse.unparse(expr))"
   ]
  },
  {
   "cell_type": "code",
   "execution_count": 8,
   "id": "9f300d42-257d-4024-8275-9b98582f9dff",
   "metadata": {},
   "outputs": [],
   "source": [
    "x, y = BitVecs(\"x y\", 64)\n",
    "\n",
    "simp_z3 = (x | y) + (x ^ y)\n",
    "obf2_z3 = ((((x + ((~ x) & y)) | ((x + y) - (2 * (x & y)))) + ((~ (x + ((~ x) & y))) | ((x + y) - (2 * (x & y))))) - (~ (x + ((~ x) & y))))\n",
    "\n",
    "# prove(simp_z3 == obf2_z3) # okay-ish"
   ]
  },
  {
   "cell_type": "markdown",
   "id": "d8231d06-0a7c-4e76-b908-0e987f45877f",
   "metadata": {},
   "source": [
    "### Create `scramble3.c` and put this expression. Compile and compare"
   ]
  },
  {
   "cell_type": "code",
   "execution_count": 9,
   "id": "bd7e464a-1ade-42a0-86dd-4cff0c0cdd4a",
   "metadata": {},
   "outputs": [
    {
     "name": "stdout",
     "output_type": "stream",
     "text": [
      "((((((((x | ((~ x) & y)) + ((~ x) | ((~ x) & y))) - (~ x)) + ((~ (((x | ((~ x) & y)) + ((~ x) | ((~ x) & y))) - (~ x))) & ((((x | y) + ((~ x) | y)) - (~ x)) - (2 * (x & y))))) | ((~ (x + ((~ x) & y))) + ((~ (~ (x + ((~ x) & y)))) & ((((x | y) + ((~ x) | y)) - (~ x)) - (2 * (x & y)))))) + ((~ ((((x | ((~ x) & y)) + ((~ x) | ((~ x) & y))) - (~ x)) + ((~ (((x | ((~ x) & y)) + ((~ x) | ((~ x) & y))) - (~ x))) & ((((x | y) + ((~ x) | y)) - (~ x)) - (2 * (x & y)))))) | ((~ (x + ((~ x) & y))) + ((~ (~ (x + ((~ x) & y)))) & ((((x | y) + ((~ x) | y)) - (~ x)) - (2 * (x & y))))))) - (~ ((((x | ((~ x) & y)) + ((~ x) | ((~ x) & y))) - (~ x)) + ((~ (((x | ((~ x) & y)) + ((~ x) | ((~ x) & y))) - (~ x))) & ((((x | y) + ((~ x) | y)) - (~ x)) - (2 * (x & y))))))) - (~ (x + ((~ x) & y))))\n",
      "\n"
     ]
    }
   ],
   "source": [
    "rewriteMBA(expr.body)\n",
    "print(astunparse.unparse(expr))"
   ]
  },
  {
   "cell_type": "code",
   "execution_count": 10,
   "id": "d00430d2-ec9a-438b-9f76-25e4acc589b3",
   "metadata": {},
   "outputs": [],
   "source": [
    "x, y = BitVecs(\"x y\", 64)\n",
    "\n",
    "simp_z3 = (x | y) + (x ^ y)\n",
    "obf3_z3 = ((((((((x | ((~ x) & y)) + ((~ x) | ((~ x) & y))) - (~ x)) + ((~ (((x | ((~ x) & y)) + ((~ x) | ((~ x) & y))) - (~ x))) & ((((x | y) + ((~ x) | y)) - (~ x)) - (2 * (x & y))))) | ((~ (x + ((~ x) & y))) + ((~ (~ (x + ((~ x) & y)))) & ((((x | y) + ((~ x) | y)) - (~ x)) - (2 * (x & y)))))) + ((~ ((((x | ((~ x) & y)) + ((~ x) | ((~ x) & y))) - (~ x)) + ((~ (((x | ((~ x) & y)) + ((~ x) | ((~ x) & y))) - (~ x))) & ((((x | y) + ((~ x) | y)) - (~ x)) - (2 * (x & y)))))) | ((~ (x + ((~ x) & y))) + ((~ (~ (x + ((~ x) & y)))) & ((((x | y) + ((~ x) | y)) - (~ x)) - (2 * (x & y))))))) - (~ ((((x | ((~ x) & y)) + ((~ x) | ((~ x) & y))) - (~ x)) + ((~ (((x | ((~ x) & y)) + ((~ x) | ((~ x) & y))) - (~ x))) & ((((x | y) + ((~ x) | y)) - (~ x)) - (2 * (x & y))))))) - (~ (x + ((~ x) & y))))\n",
    "\n",
    "# prove(simp_z3 == obf3_z3) # oh no"
   ]
  },
  {
   "cell_type": "markdown",
   "id": "59c6ea13-4a5e-4081-aa75-18b960d9541c",
   "metadata": {},
   "source": [
    "### Create `scramble4.c` and put this expression. Compile and compare"
   ]
  },
  {
   "cell_type": "code",
   "execution_count": 11,
   "id": "1436b9f5-1f12-4467-954d-6281a95c0b05",
   "metadata": {},
   "outputs": [
    {
     "name": "stdout",
     "output_type": "stream",
     "text": [
      "((((((((((((((x + ((~ x) & ((~ x) & y))) | ((~ x) + ((~ (~ x)) & ((~ x) & y)))) + ((~ (x + ((~ x) & ((~ x) & y)))) | ((~ x) + ((~ (~ x)) & ((~ x) & y))))) - (~ (x + ((~ x) & ((~ x) & y))))) - (~ x)) | ((~ (((x | ((~ x) & y)) + ((~ x) | ((~ x) & y))) - (~ x))) & ((((((x + ((~ x) & y)) | ((~ x) + ((~ (~ x)) & y))) + ((~ (x + ((~ x) & y))) | ((~ x) + ((~ (~ x)) & y)))) - (~ (x + ((~ x) & y)))) - (~ x)) - (2 * (x & y))))) + ((~ (((((x + ((~ x) & ((~ x) & y))) | ((~ x) + ((~ (~ x)) & ((~ x) & y)))) + ((~ (x + ((~ x) & ((~ x) & y)))) | ((~ x) + ((~ (~ x)) & ((~ x) & y))))) - (~ (x + ((~ x) & ((~ x) & y))))) - (~ x))) | ((~ (((x | ((~ x) & y)) + ((~ x) | ((~ x) & y))) - (~ x))) & ((((((x + ((~ x) & y)) | ((~ x) + ((~ (~ x)) & y))) + ((~ (x + ((~ x) & y))) | ((~ x) + ((~ (~ x)) & y)))) - (~ (x + ((~ x) & y)))) - (~ x)) - (2 * (x & y)))))) - (~ (((((x + ((~ x) & ((~ x) & y))) | ((~ x) + ((~ (~ x)) & ((~ x) & y)))) + ((~ (x + ((~ x) & ((~ x) & y)))) | ((~ x) + ((~ (~ x)) & ((~ x) & y))))) - (~ (x + ((~ x) & ((~ x) & y))))) - (~ x)))) + ((~ ((((((((x + ((~ x) & ((~ x) & y))) | ((~ x) + ((~ (~ x)) & ((~ x) & y)))) + ((~ (x + ((~ x) & ((~ x) & y)))) | ((~ x) + ((~ (~ x)) & ((~ x) & y))))) - (~ (x + ((~ x) & ((~ x) & y))))) - (~ x)) | ((~ (((x | ((~ x) & y)) + ((~ x) | ((~ x) & y))) - (~ x))) & ((((((x + ((~ x) & y)) | ((~ x) + ((~ (~ x)) & y))) + ((~ (x + ((~ x) & y))) | ((~ x) + ((~ (~ x)) & y)))) - (~ (x + ((~ x) & y)))) - (~ x)) - (2 * (x & y))))) + ((~ (((((x + ((~ x) & ((~ x) & y))) | ((~ x) + ((~ (~ x)) & ((~ x) & y)))) + ((~ (x + ((~ x) & ((~ x) & y)))) | ((~ x) + ((~ (~ x)) & ((~ x) & y))))) - (~ (x + ((~ x) & ((~ x) & y))))) - (~ x))) | ((~ (((x | ((~ x) & y)) + ((~ x) | ((~ x) & y))) - (~ x))) & ((((((x + ((~ x) & y)) | ((~ x) + ((~ (~ x)) & y))) + ((~ (x + ((~ x) & y))) | ((~ x) + ((~ (~ x)) & y)))) - (~ (x + ((~ x) & y)))) - (~ x)) - (2 * (x & y)))))) - (~ (((((x + ((~ x) & ((~ x) & y))) | ((~ x) + ((~ (~ x)) & ((~ x) & y)))) + ((~ (x + ((~ x) & ((~ x) & y)))) | ((~ x) + ((~ (~ x)) & ((~ x) & y))))) - (~ (x + ((~ x) & ((~ x) & y))))) - (~ x))))) & ((((~ (x + ((~ x) & y))) | ((~ (~ (x + ((~ x) & y)))) & ((((((x + ((~ x) & y)) | ((~ x) + ((~ (~ x)) & y))) + ((~ (x + ((~ x) & y))) | ((~ x) + ((~ (~ x)) & y)))) - (~ (x + ((~ x) & y)))) - (~ x)) - (2 * (x & y))))) + ((~ (~ (x + ((~ x) & y)))) | ((~ (~ (x + ((~ x) & y)))) & ((((((x + ((~ x) & y)) | ((~ x) + ((~ (~ x)) & y))) + ((~ (x + ((~ x) & y))) | ((~ x) + ((~ (~ x)) & y)))) - (~ (x + ((~ x) & y)))) - (~ x)) - (2 * (x & y)))))) - (~ (~ (x + ((~ x) & y))))))) | ((~ ((((x | ((~ x) & y)) + ((~ x) | ((~ x) & y))) - (~ x)) + ((~ (((x | ((~ x) & y)) + ((~ x) | ((~ x) & y))) - (~ x))) & ((((x | y) + ((~ x) | y)) - (~ x)) - (2 * (x & y)))))) + ((~ (~ ((((x | ((~ x) & y)) + ((~ x) | ((~ x) & y))) - (~ x)) + ((~ (((x | ((~ x) & y)) + ((~ x) | ((~ x) & y))) - (~ x))) & ((((x | y) + ((~ x) | y)) - (~ x)) - (2 * (x & y))))))) & ((((~ (x + ((~ x) & y))) | ((~ (~ (x + ((~ x) & y)))) & ((((((x + ((~ x) & y)) | ((~ x) + ((~ (~ x)) & y))) + ((~ (x + ((~ x) & y))) | ((~ x) + ((~ (~ x)) & y)))) - (~ (x + ((~ x) & y)))) - (~ x)) - (2 * (x & y))))) + ((~ (~ (x + ((~ x) & y)))) | ((~ (~ (x + ((~ x) & y)))) & ((((((x + ((~ x) & y)) | ((~ x) + ((~ (~ x)) & y))) + ((~ (x + ((~ x) & y))) | ((~ x) + ((~ (~ x)) & y)))) - (~ (x + ((~ x) & y)))) - (~ x)) - (2 * (x & y)))))) - (~ (~ (x + ((~ x) & y)))))))) + ((~ (((((((((x + ((~ x) & ((~ x) & y))) | ((~ x) + ((~ (~ x)) & ((~ x) & y)))) + ((~ (x + ((~ x) & ((~ x) & y)))) | ((~ x) + ((~ (~ x)) & ((~ x) & y))))) - (~ (x + ((~ x) & ((~ x) & y))))) - (~ x)) | ((~ (((x | ((~ x) & y)) + ((~ x) | ((~ x) & y))) - (~ x))) & ((((((x + ((~ x) & y)) | ((~ x) + ((~ (~ x)) & y))) + ((~ (x + ((~ x) & y))) | ((~ x) + ((~ (~ x)) & y)))) - (~ (x + ((~ x) & y)))) - (~ x)) - (2 * (x & y))))) + ((~ (((((x + ((~ x) & ((~ x) & y))) | ((~ x) + ((~ (~ x)) & ((~ x) & y)))) + ((~ (x + ((~ x) & ((~ x) & y)))) | ((~ x) + ((~ (~ x)) & ((~ x) & y))))) - (~ (x + ((~ x) & ((~ x) & y))))) - (~ x))) | ((~ (((x | ((~ x) & y)) + ((~ x) | ((~ x) & y))) - (~ x))) & ((((((x + ((~ x) & y)) | ((~ x) + ((~ (~ x)) & y))) + ((~ (x + ((~ x) & y))) | ((~ x) + ((~ (~ x)) & y)))) - (~ (x + ((~ x) & y)))) - (~ x)) - (2 * (x & y)))))) - (~ (((((x + ((~ x) & ((~ x) & y))) | ((~ x) + ((~ (~ x)) & ((~ x) & y)))) + ((~ (x + ((~ x) & ((~ x) & y)))) | ((~ x) + ((~ (~ x)) & ((~ x) & y))))) - (~ (x + ((~ x) & ((~ x) & y))))) - (~ x)))) + ((~ ((((((((x + ((~ x) & ((~ x) & y))) | ((~ x) + ((~ (~ x)) & ((~ x) & y)))) + ((~ (x + ((~ x) & ((~ x) & y)))) | ((~ x) + ((~ (~ x)) & ((~ x) & y))))) - (~ (x + ((~ x) & ((~ x) & y))))) - (~ x)) | ((~ (((x | ((~ x) & y)) + ((~ x) | ((~ x) & y))) - (~ x))) & ((((((x + ((~ x) & y)) | ((~ x) + ((~ (~ x)) & y))) + ((~ (x + ((~ x) & y))) | ((~ x) + ((~ (~ x)) & y)))) - (~ (x + ((~ x) & y)))) - (~ x)) - (2 * (x & y))))) + ((~ (((((x + ((~ x) & ((~ x) & y))) | ((~ x) + ((~ (~ x)) & ((~ x) & y)))) + ((~ (x + ((~ x) & ((~ x) & y)))) | ((~ x) + ((~ (~ x)) & ((~ x) & y))))) - (~ (x + ((~ x) & ((~ x) & y))))) - (~ x))) | ((~ (((x | ((~ x) & y)) + ((~ x) | ((~ x) & y))) - (~ x))) & ((((((x + ((~ x) & y)) | ((~ x) + ((~ (~ x)) & y))) + ((~ (x + ((~ x) & y))) | ((~ x) + ((~ (~ x)) & y)))) - (~ (x + ((~ x) & y)))) - (~ x)) - (2 * (x & y)))))) - (~ (((((x + ((~ x) & ((~ x) & y))) | ((~ x) + ((~ (~ x)) & ((~ x) & y)))) + ((~ (x + ((~ x) & ((~ x) & y)))) | ((~ x) + ((~ (~ x)) & ((~ x) & y))))) - (~ (x + ((~ x) & ((~ x) & y))))) - (~ x))))) & ((((~ (x + ((~ x) & y))) | ((~ (~ (x + ((~ x) & y)))) & ((((((x + ((~ x) & y)) | ((~ x) + ((~ (~ x)) & y))) + ((~ (x + ((~ x) & y))) | ((~ x) + ((~ (~ x)) & y)))) - (~ (x + ((~ x) & y)))) - (~ x)) - (2 * (x & y))))) + ((~ (~ (x + ((~ x) & y)))) | ((~ (~ (x + ((~ x) & y)))) & ((((((x + ((~ x) & y)) | ((~ x) + ((~ (~ x)) & y))) + ((~ (x + ((~ x) & y))) | ((~ x) + ((~ (~ x)) & y)))) - (~ (x + ((~ x) & y)))) - (~ x)) - (2 * (x & y)))))) - (~ (~ (x + ((~ x) & y)))))))) | ((~ ((((x | ((~ x) & y)) + ((~ x) | ((~ x) & y))) - (~ x)) + ((~ (((x | ((~ x) & y)) + ((~ x) | ((~ x) & y))) - (~ x))) & ((((x | y) + ((~ x) | y)) - (~ x)) - (2 * (x & y)))))) + ((~ (~ ((((x | ((~ x) & y)) + ((~ x) | ((~ x) & y))) - (~ x)) + ((~ (((x | ((~ x) & y)) + ((~ x) | ((~ x) & y))) - (~ x))) & ((((x | y) + ((~ x) | y)) - (~ x)) - (2 * (x & y))))))) & ((((~ (x + ((~ x) & y))) | ((~ (~ (x + ((~ x) & y)))) & ((((((x + ((~ x) & y)) | ((~ x) + ((~ (~ x)) & y))) + ((~ (x + ((~ x) & y))) | ((~ x) + ((~ (~ x)) & y)))) - (~ (x + ((~ x) & y)))) - (~ x)) - (2 * (x & y))))) + ((~ (~ (x + ((~ x) & y)))) | ((~ (~ (x + ((~ x) & y)))) & ((((((x + ((~ x) & y)) | ((~ x) + ((~ (~ x)) & y))) + ((~ (x + ((~ x) & y))) | ((~ x) + ((~ (~ x)) & y)))) - (~ (x + ((~ x) & y)))) - (~ x)) - (2 * (x & y)))))) - (~ (~ (x + ((~ x) & y))))))))) - (~ (((((((((x + ((~ x) & ((~ x) & y))) | ((~ x) + ((~ (~ x)) & ((~ x) & y)))) + ((~ (x + ((~ x) & ((~ x) & y)))) | ((~ x) + ((~ (~ x)) & ((~ x) & y))))) - (~ (x + ((~ x) & ((~ x) & y))))) - (~ x)) | ((~ (((x | ((~ x) & y)) + ((~ x) | ((~ x) & y))) - (~ x))) & ((((((x + ((~ x) & y)) | ((~ x) + ((~ (~ x)) & y))) + ((~ (x + ((~ x) & y))) | ((~ x) + ((~ (~ x)) & y)))) - (~ (x + ((~ x) & y)))) - (~ x)) - (2 * (x & y))))) + ((~ (((((x + ((~ x) & ((~ x) & y))) | ((~ x) + ((~ (~ x)) & ((~ x) & y)))) + ((~ (x + ((~ x) & ((~ x) & y)))) | ((~ x) + ((~ (~ x)) & ((~ x) & y))))) - (~ (x + ((~ x) & ((~ x) & y))))) - (~ x))) | ((~ (((x | ((~ x) & y)) + ((~ x) | ((~ x) & y))) - (~ x))) & ((((((x + ((~ x) & y)) | ((~ x) + ((~ (~ x)) & y))) + ((~ (x + ((~ x) & y))) | ((~ x) + ((~ (~ x)) & y)))) - (~ (x + ((~ x) & y)))) - (~ x)) - (2 * (x & y)))))) - (~ (((((x + ((~ x) & ((~ x) & y))) | ((~ x) + ((~ (~ x)) & ((~ x) & y)))) + ((~ (x + ((~ x) & ((~ x) & y)))) | ((~ x) + ((~ (~ x)) & ((~ x) & y))))) - (~ (x + ((~ x) & ((~ x) & y))))) - (~ x)))) + ((~ ((((((((x + ((~ x) & ((~ x) & y))) | ((~ x) + ((~ (~ x)) & ((~ x) & y)))) + ((~ (x + ((~ x) & ((~ x) & y)))) | ((~ x) + ((~ (~ x)) & ((~ x) & y))))) - (~ (x + ((~ x) & ((~ x) & y))))) - (~ x)) | ((~ (((x | ((~ x) & y)) + ((~ x) | ((~ x) & y))) - (~ x))) & ((((((x + ((~ x) & y)) | ((~ x) + ((~ (~ x)) & y))) + ((~ (x + ((~ x) & y))) | ((~ x) + ((~ (~ x)) & y)))) - (~ (x + ((~ x) & y)))) - (~ x)) - (2 * (x & y))))) + ((~ (((((x + ((~ x) & ((~ x) & y))) | ((~ x) + ((~ (~ x)) & ((~ x) & y)))) + ((~ (x + ((~ x) & ((~ x) & y)))) | ((~ x) + ((~ (~ x)) & ((~ x) & y))))) - (~ (x + ((~ x) & ((~ x) & y))))) - (~ x))) | ((~ (((x | ((~ x) & y)) + ((~ x) | ((~ x) & y))) - (~ x))) & ((((((x + ((~ x) & y)) | ((~ x) + ((~ (~ x)) & y))) + ((~ (x + ((~ x) & y))) | ((~ x) + ((~ (~ x)) & y)))) - (~ (x + ((~ x) & y)))) - (~ x)) - (2 * (x & y)))))) - (~ (((((x + ((~ x) & ((~ x) & y))) | ((~ x) + ((~ (~ x)) & ((~ x) & y)))) + ((~ (x + ((~ x) & ((~ x) & y)))) | ((~ x) + ((~ (~ x)) & ((~ x) & y))))) - (~ (x + ((~ x) & ((~ x) & y))))) - (~ x))))) & ((((~ (x + ((~ x) & y))) | ((~ (~ (x + ((~ x) & y)))) & ((((((x + ((~ x) & y)) | ((~ x) + ((~ (~ x)) & y))) + ((~ (x + ((~ x) & y))) | ((~ x) + ((~ (~ x)) & y)))) - (~ (x + ((~ x) & y)))) - (~ x)) - (2 * (x & y))))) + ((~ (~ (x + ((~ x) & y)))) | ((~ (~ (x + ((~ x) & y)))) & ((((((x + ((~ x) & y)) | ((~ x) + ((~ (~ x)) & y))) + ((~ (x + ((~ x) & y))) | ((~ x) + ((~ (~ x)) & y)))) - (~ (x + ((~ x) & y)))) - (~ x)) - (2 * (x & y)))))) - (~ (~ (x + ((~ x) & y))))))))) - (~ ((((x | ((~ x) & y)) + ((~ x) | ((~ x) & y))) - (~ x)) + ((~ (((x | ((~ x) & y)) + ((~ x) | ((~ x) & y))) - (~ x))) & ((((x | y) + ((~ x) | y)) - (~ x)) - (2 * (x & y))))))) - (~ (x + ((~ x) & y))))\n",
      "\n"
     ]
    }
   ],
   "source": [
    "rewriteMBA(expr.body)\n",
    "print(astunparse.unparse(expr))"
   ]
  },
  {
   "cell_type": "code",
   "execution_count": 12,
   "id": "4b581e3d-a514-4590-bf09-e1cb3467e704",
   "metadata": {},
   "outputs": [],
   "source": [
    "x, y = BitVecs(\"x y\", 64)\n",
    "\n",
    "simp_z3 = (x | y) + (x ^ y)\n",
    "obf4_z3 = ((((((((((((((x + ((~ x) & ((~ x) & y))) | ((~ x) + ((~ (~ x)) & ((~ x) & y)))) + ((~ (x + ((~ x) & ((~ x) & y)))) | ((~ x) + ((~ (~ x)) & ((~ x) & y))))) - (~ (x + ((~ x) & ((~ x) & y))))) - (~ x)) | ((~ (((x | ((~ x) & y)) + ((~ x) | ((~ x) & y))) - (~ x))) & ((((((x + ((~ x) & y)) | ((~ x) + ((~ (~ x)) & y))) + ((~ (x + ((~ x) & y))) | ((~ x) + ((~ (~ x)) & y)))) - (~ (x + ((~ x) & y)))) - (~ x)) - (2 * (x & y))))) + ((~ (((((x + ((~ x) & ((~ x) & y))) | ((~ x) + ((~ (~ x)) & ((~ x) & y)))) + ((~ (x + ((~ x) & ((~ x) & y)))) | ((~ x) + ((~ (~ x)) & ((~ x) & y))))) - (~ (x + ((~ x) & ((~ x) & y))))) - (~ x))) | ((~ (((x | ((~ x) & y)) + ((~ x) | ((~ x) & y))) - (~ x))) & ((((((x + ((~ x) & y)) | ((~ x) + ((~ (~ x)) & y))) + ((~ (x + ((~ x) & y))) | ((~ x) + ((~ (~ x)) & y)))) - (~ (x + ((~ x) & y)))) - (~ x)) - (2 * (x & y)))))) - (~ (((((x + ((~ x) & ((~ x) & y))) | ((~ x) + ((~ (~ x)) & ((~ x) & y)))) + ((~ (x + ((~ x) & ((~ x) & y)))) | ((~ x) + ((~ (~ x)) & ((~ x) & y))))) - (~ (x + ((~ x) & ((~ x) & y))))) - (~ x)))) + ((~ ((((((((x + ((~ x) & ((~ x) & y))) | ((~ x) + ((~ (~ x)) & ((~ x) & y)))) + ((~ (x + ((~ x) & ((~ x) & y)))) | ((~ x) + ((~ (~ x)) & ((~ x) & y))))) - (~ (x + ((~ x) & ((~ x) & y))))) - (~ x)) | ((~ (((x | ((~ x) & y)) + ((~ x) | ((~ x) & y))) - (~ x))) & ((((((x + ((~ x) & y)) | ((~ x) + ((~ (~ x)) & y))) + ((~ (x + ((~ x) & y))) | ((~ x) + ((~ (~ x)) & y)))) - (~ (x + ((~ x) & y)))) - (~ x)) - (2 * (x & y))))) + ((~ (((((x + ((~ x) & ((~ x) & y))) | ((~ x) + ((~ (~ x)) & ((~ x) & y)))) + ((~ (x + ((~ x) & ((~ x) & y)))) | ((~ x) + ((~ (~ x)) & ((~ x) & y))))) - (~ (x + ((~ x) & ((~ x) & y))))) - (~ x))) | ((~ (((x | ((~ x) & y)) + ((~ x) | ((~ x) & y))) - (~ x))) & ((((((x + ((~ x) & y)) | ((~ x) + ((~ (~ x)) & y))) + ((~ (x + ((~ x) & y))) | ((~ x) + ((~ (~ x)) & y)))) - (~ (x + ((~ x) & y)))) - (~ x)) - (2 * (x & y)))))) - (~ (((((x + ((~ x) & ((~ x) & y))) | ((~ x) + ((~ (~ x)) & ((~ x) & y)))) + ((~ (x + ((~ x) & ((~ x) & y)))) | ((~ x) + ((~ (~ x)) & ((~ x) & y))))) - (~ (x + ((~ x) & ((~ x) & y))))) - (~ x))))) & ((((~ (x + ((~ x) & y))) | ((~ (~ (x + ((~ x) & y)))) & ((((((x + ((~ x) & y)) | ((~ x) + ((~ (~ x)) & y))) + ((~ (x + ((~ x) & y))) | ((~ x) + ((~ (~ x)) & y)))) - (~ (x + ((~ x) & y)))) - (~ x)) - (2 * (x & y))))) + ((~ (~ (x + ((~ x) & y)))) | ((~ (~ (x + ((~ x) & y)))) & ((((((x + ((~ x) & y)) | ((~ x) + ((~ (~ x)) & y))) + ((~ (x + ((~ x) & y))) | ((~ x) + ((~ (~ x)) & y)))) - (~ (x + ((~ x) & y)))) - (~ x)) - (2 * (x & y)))))) - (~ (~ (x + ((~ x) & y))))))) | ((~ ((((x | ((~ x) & y)) + ((~ x) | ((~ x) & y))) - (~ x)) + ((~ (((x | ((~ x) & y)) + ((~ x) | ((~ x) & y))) - (~ x))) & ((((x | y) + ((~ x) | y)) - (~ x)) - (2 * (x & y)))))) + ((~ (~ ((((x | ((~ x) & y)) + ((~ x) | ((~ x) & y))) - (~ x)) + ((~ (((x | ((~ x) & y)) + ((~ x) | ((~ x) & y))) - (~ x))) & ((((x | y) + ((~ x) | y)) - (~ x)) - (2 * (x & y))))))) & ((((~ (x + ((~ x) & y))) | ((~ (~ (x + ((~ x) & y)))) & ((((((x + ((~ x) & y)) | ((~ x) + ((~ (~ x)) & y))) + ((~ (x + ((~ x) & y))) | ((~ x) + ((~ (~ x)) & y)))) - (~ (x + ((~ x) & y)))) - (~ x)) - (2 * (x & y))))) + ((~ (~ (x + ((~ x) & y)))) | ((~ (~ (x + ((~ x) & y)))) & ((((((x + ((~ x) & y)) | ((~ x) + ((~ (~ x)) & y))) + ((~ (x + ((~ x) & y))) | ((~ x) + ((~ (~ x)) & y)))) - (~ (x + ((~ x) & y)))) - (~ x)) - (2 * (x & y)))))) - (~ (~ (x + ((~ x) & y)))))))) + ((~ (((((((((x + ((~ x) & ((~ x) & y))) | ((~ x) + ((~ (~ x)) & ((~ x) & y)))) + ((~ (x + ((~ x) & ((~ x) & y)))) | ((~ x) + ((~ (~ x)) & ((~ x) & y))))) - (~ (x + ((~ x) & ((~ x) & y))))) - (~ x)) | ((~ (((x | ((~ x) & y)) + ((~ x) | ((~ x) & y))) - (~ x))) & ((((((x + ((~ x) & y)) | ((~ x) + ((~ (~ x)) & y))) + ((~ (x + ((~ x) & y))) | ((~ x) + ((~ (~ x)) & y)))) - (~ (x + ((~ x) & y)))) - (~ x)) - (2 * (x & y))))) + ((~ (((((x + ((~ x) & ((~ x) & y))) | ((~ x) + ((~ (~ x)) & ((~ x) & y)))) + ((~ (x + ((~ x) & ((~ x) & y)))) | ((~ x) + ((~ (~ x)) & ((~ x) & y))))) - (~ (x + ((~ x) & ((~ x) & y))))) - (~ x))) | ((~ (((x | ((~ x) & y)) + ((~ x) | ((~ x) & y))) - (~ x))) & ((((((x + ((~ x) & y)) | ((~ x) + ((~ (~ x)) & y))) + ((~ (x + ((~ x) & y))) | ((~ x) + ((~ (~ x)) & y)))) - (~ (x + ((~ x) & y)))) - (~ x)) - (2 * (x & y)))))) - (~ (((((x + ((~ x) & ((~ x) & y))) | ((~ x) + ((~ (~ x)) & ((~ x) & y)))) + ((~ (x + ((~ x) & ((~ x) & y)))) | ((~ x) + ((~ (~ x)) & ((~ x) & y))))) - (~ (x + ((~ x) & ((~ x) & y))))) - (~ x)))) + ((~ ((((((((x + ((~ x) & ((~ x) & y))) | ((~ x) + ((~ (~ x)) & ((~ x) & y)))) + ((~ (x + ((~ x) & ((~ x) & y)))) | ((~ x) + ((~ (~ x)) & ((~ x) & y))))) - (~ (x + ((~ x) & ((~ x) & y))))) - (~ x)) | ((~ (((x | ((~ x) & y)) + ((~ x) | ((~ x) & y))) - (~ x))) & ((((((x + ((~ x) & y)) | ((~ x) + ((~ (~ x)) & y))) + ((~ (x + ((~ x) & y))) | ((~ x) + ((~ (~ x)) & y)))) - (~ (x + ((~ x) & y)))) - (~ x)) - (2 * (x & y))))) + ((~ (((((x + ((~ x) & ((~ x) & y))) | ((~ x) + ((~ (~ x)) & ((~ x) & y)))) + ((~ (x + ((~ x) & ((~ x) & y)))) | ((~ x) + ((~ (~ x)) & ((~ x) & y))))) - (~ (x + ((~ x) & ((~ x) & y))))) - (~ x))) | ((~ (((x | ((~ x) & y)) + ((~ x) | ((~ x) & y))) - (~ x))) & ((((((x + ((~ x) & y)) | ((~ x) + ((~ (~ x)) & y))) + ((~ (x + ((~ x) & y))) | ((~ x) + ((~ (~ x)) & y)))) - (~ (x + ((~ x) & y)))) - (~ x)) - (2 * (x & y)))))) - (~ (((((x + ((~ x) & ((~ x) & y))) | ((~ x) + ((~ (~ x)) & ((~ x) & y)))) + ((~ (x + ((~ x) & ((~ x) & y)))) | ((~ x) + ((~ (~ x)) & ((~ x) & y))))) - (~ (x + ((~ x) & ((~ x) & y))))) - (~ x))))) & ((((~ (x + ((~ x) & y))) | ((~ (~ (x + ((~ x) & y)))) & ((((((x + ((~ x) & y)) | ((~ x) + ((~ (~ x)) & y))) + ((~ (x + ((~ x) & y))) | ((~ x) + ((~ (~ x)) & y)))) - (~ (x + ((~ x) & y)))) - (~ x)) - (2 * (x & y))))) + ((~ (~ (x + ((~ x) & y)))) | ((~ (~ (x + ((~ x) & y)))) & ((((((x + ((~ x) & y)) | ((~ x) + ((~ (~ x)) & y))) + ((~ (x + ((~ x) & y))) | ((~ x) + ((~ (~ x)) & y)))) - (~ (x + ((~ x) & y)))) - (~ x)) - (2 * (x & y)))))) - (~ (~ (x + ((~ x) & y)))))))) | ((~ ((((x | ((~ x) & y)) + ((~ x) | ((~ x) & y))) - (~ x)) + ((~ (((x | ((~ x) & y)) + ((~ x) | ((~ x) & y))) - (~ x))) & ((((x | y) + ((~ x) | y)) - (~ x)) - (2 * (x & y)))))) + ((~ (~ ((((x | ((~ x) & y)) + ((~ x) | ((~ x) & y))) - (~ x)) + ((~ (((x | ((~ x) & y)) + ((~ x) | ((~ x) & y))) - (~ x))) & ((((x | y) + ((~ x) | y)) - (~ x)) - (2 * (x & y))))))) & ((((~ (x + ((~ x) & y))) | ((~ (~ (x + ((~ x) & y)))) & ((((((x + ((~ x) & y)) | ((~ x) + ((~ (~ x)) & y))) + ((~ (x + ((~ x) & y))) | ((~ x) + ((~ (~ x)) & y)))) - (~ (x + ((~ x) & y)))) - (~ x)) - (2 * (x & y))))) + ((~ (~ (x + ((~ x) & y)))) | ((~ (~ (x + ((~ x) & y)))) & ((((((x + ((~ x) & y)) | ((~ x) + ((~ (~ x)) & y))) + ((~ (x + ((~ x) & y))) | ((~ x) + ((~ (~ x)) & y)))) - (~ (x + ((~ x) & y)))) - (~ x)) - (2 * (x & y)))))) - (~ (~ (x + ((~ x) & y))))))))) - (~ (((((((((x + ((~ x) & ((~ x) & y))) | ((~ x) + ((~ (~ x)) & ((~ x) & y)))) + ((~ (x + ((~ x) & ((~ x) & y)))) | ((~ x) + ((~ (~ x)) & ((~ x) & y))))) - (~ (x + ((~ x) & ((~ x) & y))))) - (~ x)) | ((~ (((x | ((~ x) & y)) + ((~ x) | ((~ x) & y))) - (~ x))) & ((((((x + ((~ x) & y)) | ((~ x) + ((~ (~ x)) & y))) + ((~ (x + ((~ x) & y))) | ((~ x) + ((~ (~ x)) & y)))) - (~ (x + ((~ x) & y)))) - (~ x)) - (2 * (x & y))))) + ((~ (((((x + ((~ x) & ((~ x) & y))) | ((~ x) + ((~ (~ x)) & ((~ x) & y)))) + ((~ (x + ((~ x) & ((~ x) & y)))) | ((~ x) + ((~ (~ x)) & ((~ x) & y))))) - (~ (x + ((~ x) & ((~ x) & y))))) - (~ x))) | ((~ (((x | ((~ x) & y)) + ((~ x) | ((~ x) & y))) - (~ x))) & ((((((x + ((~ x) & y)) | ((~ x) + ((~ (~ x)) & y))) + ((~ (x + ((~ x) & y))) | ((~ x) + ((~ (~ x)) & y)))) - (~ (x + ((~ x) & y)))) - (~ x)) - (2 * (x & y)))))) - (~ (((((x + ((~ x) & ((~ x) & y))) | ((~ x) + ((~ (~ x)) & ((~ x) & y)))) + ((~ (x + ((~ x) & ((~ x) & y)))) | ((~ x) + ((~ (~ x)) & ((~ x) & y))))) - (~ (x + ((~ x) & ((~ x) & y))))) - (~ x)))) + ((~ ((((((((x + ((~ x) & ((~ x) & y))) | ((~ x) + ((~ (~ x)) & ((~ x) & y)))) + ((~ (x + ((~ x) & ((~ x) & y)))) | ((~ x) + ((~ (~ x)) & ((~ x) & y))))) - (~ (x + ((~ x) & ((~ x) & y))))) - (~ x)) | ((~ (((x | ((~ x) & y)) + ((~ x) | ((~ x) & y))) - (~ x))) & ((((((x + ((~ x) & y)) | ((~ x) + ((~ (~ x)) & y))) + ((~ (x + ((~ x) & y))) | ((~ x) + ((~ (~ x)) & y)))) - (~ (x + ((~ x) & y)))) - (~ x)) - (2 * (x & y))))) + ((~ (((((x + ((~ x) & ((~ x) & y))) | ((~ x) + ((~ (~ x)) & ((~ x) & y)))) + ((~ (x + ((~ x) & ((~ x) & y)))) | ((~ x) + ((~ (~ x)) & ((~ x) & y))))) - (~ (x + ((~ x) & ((~ x) & y))))) - (~ x))) | ((~ (((x | ((~ x) & y)) + ((~ x) | ((~ x) & y))) - (~ x))) & ((((((x + ((~ x) & y)) | ((~ x) + ((~ (~ x)) & y))) + ((~ (x + ((~ x) & y))) | ((~ x) + ((~ (~ x)) & y)))) - (~ (x + ((~ x) & y)))) - (~ x)) - (2 * (x & y)))))) - (~ (((((x + ((~ x) & ((~ x) & y))) | ((~ x) + ((~ (~ x)) & ((~ x) & y)))) + ((~ (x + ((~ x) & ((~ x) & y)))) | ((~ x) + ((~ (~ x)) & ((~ x) & y))))) - (~ (x + ((~ x) & ((~ x) & y))))) - (~ x))))) & ((((~ (x + ((~ x) & y))) | ((~ (~ (x + ((~ x) & y)))) & ((((((x + ((~ x) & y)) | ((~ x) + ((~ (~ x)) & y))) + ((~ (x + ((~ x) & y))) | ((~ x) + ((~ (~ x)) & y)))) - (~ (x + ((~ x) & y)))) - (~ x)) - (2 * (x & y))))) + ((~ (~ (x + ((~ x) & y)))) | ((~ (~ (x + ((~ x) & y)))) & ((((((x + ((~ x) & y)) | ((~ x) + ((~ (~ x)) & y))) + ((~ (x + ((~ x) & y))) | ((~ x) + ((~ (~ x)) & y)))) - (~ (x + ((~ x) & y)))) - (~ x)) - (2 * (x & y)))))) - (~ (~ (x + ((~ x) & y))))))))) - (~ ((((x | ((~ x) & y)) + ((~ x) | ((~ x) & y))) - (~ x)) + ((~ (((x | ((~ x) & y)) + ((~ x) | ((~ x) & y))) - (~ x))) & ((((x | y) + ((~ x) | y)) - (~ x)) - (2 * (x & y))))))) - (~ (x + ((~ x) & y))))\n",
    "\n",
    "# prove(simp_z3 == obf3_z3) # good luck lol"
   ]
  },
  {
   "cell_type": "markdown",
   "id": "5c9e362c-119d-4372-95bc-9a4fecf049cd",
   "metadata": {},
   "source": [
    "# Symbolic execution"
   ]
  },
  {
   "cell_type": "code",
   "execution_count": 13,
   "id": "71045e73-d19e-4f98-ba2d-0acf06addc7f",
   "metadata": {},
   "outputs": [],
   "source": [
    "\"\"\"\n",
    "Adapted from ~/msynth/scripts/symbolic_simplification.py\n",
    "\"\"\"\n",
    "from miasm.analysis.binary import Container\n",
    "from miasm.analysis.machine import Machine\n",
    "from miasm.core.locationdb import LocationDB\n",
    "from miasm.ir.symbexec import SymbolicExecutionEngine\n",
    "\n",
    "def getRaxExpr(file_path, start_addr):\n",
    "    # symbol table\n",
    "    loc_db = LocationDB()\n",
    "\n",
    "    # open the binary for analysis\n",
    "    container = Container.from_stream(open(file_path, 'rb'), loc_db)\n",
    "\n",
    "    # cpu abstraction\n",
    "    machine = Machine(container.arch)\n",
    "\n",
    "    # init disassemble engine\n",
    "    mdis = machine.dis_engine(container.bin_stream, loc_db=loc_db)\n",
    "\n",
    "    # initialize intermediate representation\n",
    "    lifter = machine.lifter_model_call(mdis.loc_db)\n",
    "\n",
    "    # disassemble the function at address\n",
    "    asm_block = mdis.dis_block(start_addr)\n",
    "\n",
    "    # lift to Miasm IR\n",
    "    ira_cfg = lifter.new_ircfg()\n",
    "    lifter.add_asmblock_to_ircfg(asm_block, ira_cfg)\n",
    "\n",
    "    # init symbolic execution engine\n",
    "    sb = SymbolicExecutionEngine(lifter)\n",
    "\n",
    "    # symbolically execute basic block\n",
    "    sb.run_block_at(ira_cfg, start_addr)\n",
    "    \n",
    "    # return the expression of rax (return value)\n",
    "    return sb.eval_exprid(lifter.arch.regs.RAX)"
   ]
  },
  {
   "cell_type": "code",
   "execution_count": 14,
   "id": "0473ea40-ad6a-4983-a66d-3f4a029082d1",
   "metadata": {},
   "outputs": [],
   "source": [
    "from miasm.ir.translators.z3_ir import TranslatorZ3\n",
    "translator = TranslatorZ3()"
   ]
  },
  {
   "cell_type": "code",
   "execution_count": 15,
   "id": "9f9ab40a-97ad-448b-a111-385e690f577e",
   "metadata": {},
   "outputs": [
    {
     "name": "stdout",
     "output_type": "stream",
     "text": [
      "RAX value:\n",
      "---\n",
      "(RDI ^ RSI) + (RDI | RSI)\n",
      "\n",
      "RAX SMT simplified:\n",
      "---\n",
      "(RDI ^ RSI) + (RDI | RSI)\n",
      "\n"
     ]
    }
   ],
   "source": [
    "file_path = \"./scramble1\"\n",
    "addr = 0x1149\n",
    "\n",
    "rax_scramble1 = getRaxExpr(file_path, addr)\n",
    "print(f\"RAX value:\\n---\\n{rax_scramble1}\\n\")\n",
    "\n",
    "rax_scramble1_simp = simplify(translator.from_expr(rax_scramble1))\n",
    "print(f\"RAX SMT simplified:\\n---\\n{rax_scramble1_simp}\\n\")"
   ]
  },
  {
   "cell_type": "code",
   "execution_count": 16,
   "id": "27165678-2cab-463e-bdcb-ad5a1664023a",
   "metadata": {},
   "outputs": [
    {
     "name": "stdout",
     "output_type": "stream",
     "text": [
      "RAX value:\n",
      "---\n",
      "RDI + (RSI & (RDI ^ 0xFFFFFFFFFFFFFFFF)) + ((RDI + RSI + (RDI & RSI) * 0xFFFFFFFFFFFFFFFE) | (RDI + (RSI & (RDI ^ 0xFFFFFFFFFFFFFFFF)))) + ((RDI + RSI + (RDI & RSI) * 0xFFFFFFFFFFFFFFFE) | ((RDI + (RSI & (RDI ^ 0xFFFFFFFFFFFFFFFF))) ^ 0xFFFFFFFFFFFFFFFF)) + 0x1\n",
      "\n",
      "RAX SMT simplified:\n",
      "---\n",
      "1 +\n",
      "RDI +\n",
      "~(~RSI | RDI) +\n",
      "(RDI + RSI + 18446744073709551614*~(~RDI | ~RSI) |\n",
      " RDI + ~(~RSI | RDI)) +\n",
      "(RDI + RSI + 18446744073709551614*~(~RDI | ~RSI) |\n",
      " ~(RDI + ~(~RSI | RDI)))\n",
      "\n"
     ]
    }
   ],
   "source": [
    "file_path = \"./scramble2\"\n",
    "addr = 0x1149\n",
    "\n",
    "rax_scramble2 = getRaxExpr(file_path, addr)\n",
    "print(f\"RAX value:\\n---\\n{rax_scramble2}\\n\")\n",
    "\n",
    "rax_scramble2_simp = simplify(translator.from_expr(rax_scramble2))\n",
    "print(f\"RAX SMT simplified:\\n---\\n{rax_scramble2_simp}\\n\")"
   ]
  },
  {
   "cell_type": "code",
   "execution_count": 17,
   "id": "4afffee2-4723-4636-a3d3-8a4fbfe867be",
   "metadata": {},
   "outputs": [
    {
     "name": "stdout",
     "output_type": "stream",
     "text": [
      "RAX value:\n",
      "---\n",
      "((RDI + (RDI & RSI) * 0xFFFFFFFFFFFFFFFE + (RDI | RSI) + (RSI | (RDI ^ 0xFFFFFFFFFFFFFFFF)) + 0x1) & ((RDI + (RSI & (RDI ^ 0xFFFFFFFFFFFFFFFF))) ^ 0xFFFFFFFFFFFFFFFF)) + RDI * 0x2 + (RSI & (RDI ^ 0xFFFFFFFFFFFFFFFF)) * 0x2 + ((RDI + (RSI & (RDI ^ 0xFFFFFFFFFFFFFFFF)) + ((RDI + (RDI & RSI) * 0xFFFFFFFFFFFFFFFE + (RDI | RSI) + (RSI | (RDI ^ 0xFFFFFFFFFFFFFFFF)) + 0x1) & ((RDI + (RSI & (RDI ^ 0xFFFFFFFFFFFFFFFF))) ^ 0xFFFFFFFFFFFFFFFF))) | (((RDI + (RSI & (RDI ^ 0xFFFFFFFFFFFFFFFF))) & (RDI + (RDI & RSI) * 0xFFFFFFFFFFFFFFFE + (RDI | RSI) + (RSI | (RDI ^ 0xFFFFFFFFFFFFFFFF)) + 0x1)) + -RDI + -(RSI & (RDI ^ 0xFFFFFFFFFFFFFFFF)) + 0xFFFFFFFFFFFFFFFF)) + ((((RDI + (RSI & (RDI ^ 0xFFFFFFFFFFFFFFFF))) & (RDI + (RDI & RSI) * 0xFFFFFFFFFFFFFFFE + (RDI | RSI) + (RSI | (RDI ^ 0xFFFFFFFFFFFFFFFF)) + 0x1)) + -RDI + -(RSI & (RDI ^ 0xFFFFFFFFFFFFFFFF)) + 0xFFFFFFFFFFFFFFFF) | ((RDI + (RSI & (RDI ^ 0xFFFFFFFFFFFFFFFF)) + ((RDI + (RDI & RSI) * 0xFFFFFFFFFFFFFFFE + (RDI | RSI) + (RSI | (RDI ^ 0xFFFFFFFFFFFFFFFF)) + 0x1) & ((RDI + (RSI & (RDI ^ 0xFFFFFFFFFFFFFFFF))) ^ 0xFFFFFFFFFFFFFFFF))) ^ 0xFFFFFFFFFFFFFFFF)) + 0x2\n",
      "\n",
      "RAX SMT simplified:\n",
      "---\n",
      "2 +\n",
      "~(~(1 +\n",
      "    RDI +\n",
      "    18446744073709551614*~(~RDI | ~RSI) +\n",
      "    (RDI | RSI) +\n",
      "    (RSI | ~RDI)) |\n",
      "  RDI + ~(~RSI | RDI)) +\n",
      "2*RDI +\n",
      "2*~(~RSI | RDI) +\n",
      "(RDI +\n",
      " ~(~RSI | RDI) +\n",
      " ~(~(1 +\n",
      "     RDI +\n",
      "     18446744073709551614*~(~RDI | ~RSI) +\n",
      "     (RDI | RSI) +\n",
      "     (RSI | ~RDI)) |\n",
      "   RDI + ~(~RSI | RDI)) |\n",
      " 18446744073709551615 +\n",
      " ~(~(RDI + ~(~RSI | RDI)) |\n",
      "   ~(1 +\n",
      "     RDI +\n",
      "     18446744073709551614*~(~RDI | ~RSI) +\n",
      "     (RDI | RSI) +\n",
      "     (RSI | ~RDI))) +\n",
      " 18446744073709551615*RDI +\n",
      " 18446744073709551615*~(~RSI | RDI)) +\n",
      "(18446744073709551615 +\n",
      " ~(~(RDI + ~(~RSI | RDI)) |\n",
      "   ~(1 +\n",
      "     RDI +\n",
      "     18446744073709551614*~(~RDI | ~RSI) +\n",
      "     (RDI | RSI) +\n",
      "     (RSI | ~RDI))) +\n",
      " 18446744073709551615*RDI +\n",
      " 18446744073709551615*~(~RSI | RDI) |\n",
      " ~(RDI +\n",
      "   ~(~RSI | RDI) +\n",
      "   ~(~(1 +\n",
      "       RDI +\n",
      "       18446744073709551614*~(~RDI | ~RSI) +\n",
      "       (RDI | RSI) +\n",
      "       (RSI | ~RDI)) |\n",
      "     RDI + ~(~RSI | RDI))))\n",
      "\n"
     ]
    }
   ],
   "source": [
    "file_path = \"./scramble3\"\n",
    "addr = 0x1149\n",
    "\n",
    "rax_scramble3 = getRaxExpr(file_path, addr)\n",
    "print(f\"RAX value:\\n---\\n{rax_scramble3}\\n\")\n",
    "\n",
    "rax_scramble3_simp = simplify(translator.from_expr(rax_scramble3))\n",
    "print(f\"RAX SMT simplified:\\n---\\n{rax_scramble3_simp}\\n\")"
   ]
  },
  {
   "cell_type": "code",
   "execution_count": 18,
   "id": "c4fa247a-2881-4380-b11b-1e04c2af7127",
   "metadata": {},
   "outputs": [
    {
     "name": "stdout",
     "output_type": "stream",
     "text": [
      "RAX value:\n",
      "---\n",
      "((RDI + (RDI & RSI) * 0xFFFFFFFFFFFFFFFE + (RDI | RSI) + (RSI | (RDI ^ 0xFFFFFFFFFFFFFFFF)) + 0x1) & ((RDI + (RSI & (RDI ^ 0xFFFFFFFFFFFFFFFF))) ^ 0xFFFFFFFFFFFFFFFF)) + ((RDI * 0xFFFFFFFFFFFFFFFE + -(RSI & (RDI ^ 0xFFFFFFFFFFFFFFFF)) + -((((RSI & (RDI ^ 0xFFFFFFFFFFFFFFFF)) + RDI * 0x2 + (RDI & RSI) * 0xFFFFFFFFFFFFFFFE + ((RDI + (RSI & (RDI ^ 0xFFFFFFFFFFFFFFFF))) | ((RDI & RSI) + -RDI + 0xFFFFFFFFFFFFFFFF)) + (((RDI & RSI) + -RDI + 0xFFFFFFFFFFFFFFFF) | ((RDI + (RSI & (RDI ^ 0xFFFFFFFFFFFFFFFF))) ^ 0xFFFFFFFFFFFFFFFF)) + 0x2) & ((RDI + (RSI & (RDI ^ 0xFFFFFFFFFFFFFFFF))) ^ 0xFFFFFFFFFFFFFFFF)) | ((RSI & (RDI ^ 0xFFFFFFFFFFFFFFFF)) + RDI * 0x2 + ((RDI + (RSI & (RDI ^ 0xFFFFFFFFFFFFFFFF))) | ((RDI & RSI & (RDI ^ 0xFFFFFFFFFFFFFFFF)) + -RDI + 0xFFFFFFFFFFFFFFFF)) + (((RDI & RSI & (RDI ^ 0xFFFFFFFFFFFFFFFF)) + -RDI + 0xFFFFFFFFFFFFFFFF) | ((RDI + (RSI & (RDI ^ 0xFFFFFFFFFFFFFFFF))) ^ 0xFFFFFFFFFFFFFFFF)) + 0x2)) + -((((RSI & (RDI ^ 0xFFFFFFFFFFFFFFFF)) + RDI * 0x2 + (RDI & RSI) * 0xFFFFFFFFFFFFFFFE + ((RDI + (RSI & (RDI ^ 0xFFFFFFFFFFFFFFFF))) | ((RDI & RSI) + -RDI + 0xFFFFFFFFFFFFFFFF)) + (((RDI & RSI) + -RDI + 0xFFFFFFFFFFFFFFFF) | ((RDI + (RSI & (RDI ^ 0xFFFFFFFFFFFFFFFF))) ^ 0xFFFFFFFFFFFFFFFF)) + 0x2) & ((RDI + (RSI & (RDI ^ 0xFFFFFFFFFFFFFFFF))) ^ 0xFFFFFFFFFFFFFFFF)) | (RDI * 0xFFFFFFFFFFFFFFFE + -(RSI & (RDI ^ 0xFFFFFFFFFFFFFFFF)) + -((RDI + (RSI & (RDI ^ 0xFFFFFFFFFFFFFFFF))) | ((RDI & RSI & (RDI ^ 0xFFFFFFFFFFFFFFFF)) + -RDI + 0xFFFFFFFFFFFFFFFF)) + -(((RDI & RSI & (RDI ^ 0xFFFFFFFFFFFFFFFF)) + -RDI + 0xFFFFFFFFFFFFFFFF) | ((RDI + (RSI & (RDI ^ 0xFFFFFFFFFFFFFFFF))) ^ 0xFFFFFFFFFFFFFFFF)) + 0xFFFFFFFFFFFFFFFD)) + -((RDI + (RSI & (RDI ^ 0xFFFFFFFFFFFFFFFF))) | ((RDI & RSI & (RDI ^ 0xFFFFFFFFFFFFFFFF)) + -RDI + 0xFFFFFFFFFFFFFFFF)) + -(((RDI & RSI & (RDI ^ 0xFFFFFFFFFFFFFFFF)) + -RDI + 0xFFFFFFFFFFFFFFFF) | ((RDI + (RSI & (RDI ^ 0xFFFFFFFFFFFFFFFF))) ^ 0xFFFFFFFFFFFFFFFF)) + 0xFFFFFFFFFFFFFFFC) & (((RSI & (RDI ^ 0xFFFFFFFFFFFFFFFF)) + RDI * 0x2 + (RDI & RSI) * 0xFFFFFFFFFFFFFFFE + ((RDI + (RSI & (RDI ^ 0xFFFFFFFFFFFFFFFF))) | ((RDI & RSI) + -RDI + 0xFFFFFFFFFFFFFFFF)) + (((RDI & RSI) + -RDI + 0xFFFFFFFFFFFFFFFF) | ((RDI + (RSI & (RDI ^ 0xFFFFFFFFFFFFFFFF))) ^ 0xFFFFFFFFFFFFFFFF)) + 0x2) | ((RDI + (RSI & (RDI ^ 0xFFFFFFFFFFFFFFFF))) ^ 0xFFFFFFFFFFFFFFFF))) + RDI * 0x4 + (RSI & (RDI ^ 0xFFFFFFFFFFFFFFFF)) * 0x3 + ((((RSI & (RDI ^ 0xFFFFFFFFFFFFFFFF)) + RDI * 0x2 + (RDI & RSI) * 0xFFFFFFFFFFFFFFFE + ((RDI + (RSI & (RDI ^ 0xFFFFFFFFFFFFFFFF))) | ((RDI & RSI) + -RDI + 0xFFFFFFFFFFFFFFFF)) + (((RDI & RSI) + -RDI + 0xFFFFFFFFFFFFFFFF) | ((RDI + (RSI & (RDI ^ 0xFFFFFFFFFFFFFFFF))) ^ 0xFFFFFFFFFFFFFFFF)) + 0x2) & ((RDI + (RSI & (RDI ^ 0xFFFFFFFFFFFFFFFF))) ^ 0xFFFFFFFFFFFFFFFF)) | ((RSI & (RDI ^ 0xFFFFFFFFFFFFFFFF)) + RDI * 0x2 + ((RDI + (RSI & (RDI ^ 0xFFFFFFFFFFFFFFFF))) | ((RDI & RSI & (RDI ^ 0xFFFFFFFFFFFFFFFF)) + -RDI + 0xFFFFFFFFFFFFFFFF)) + (((RDI & RSI & (RDI ^ 0xFFFFFFFFFFFFFFFF)) + -RDI + 0xFFFFFFFFFFFFFFFF) | ((RDI + (RSI & (RDI ^ 0xFFFFFFFFFFFFFFFF))) ^ 0xFFFFFFFFFFFFFFFF)) + 0x2)) + ((((RSI & (RDI ^ 0xFFFFFFFFFFFFFFFF)) + RDI * 0x2 + (RDI & RSI) * 0xFFFFFFFFFFFFFFFE + ((RDI + (RSI & (RDI ^ 0xFFFFFFFFFFFFFFFF))) | ((RDI & RSI) + -RDI + 0xFFFFFFFFFFFFFFFF)) + (((RDI & RSI) + -RDI + 0xFFFFFFFFFFFFFFFF) | ((RDI + (RSI & (RDI ^ 0xFFFFFFFFFFFFFFFF))) ^ 0xFFFFFFFFFFFFFFFF)) + 0x2) & ((RDI + (RSI & (RDI ^ 0xFFFFFFFFFFFFFFFF))) ^ 0xFFFFFFFFFFFFFFFF)) | (RDI * 0xFFFFFFFFFFFFFFFE + -(RSI & (RDI ^ 0xFFFFFFFFFFFFFFFF)) + -((RDI + (RSI & (RDI ^ 0xFFFFFFFFFFFFFFFF))) | ((RDI & RSI & (RDI ^ 0xFFFFFFFFFFFFFFFF)) + -RDI + 0xFFFFFFFFFFFFFFFF)) + -(((RDI & RSI & (RDI ^ 0xFFFFFFFFFFFFFFFF)) + -RDI + 0xFFFFFFFFFFFFFFFF) | ((RDI + (RSI & (RDI ^ 0xFFFFFFFFFFFFFFFF))) ^ 0xFFFFFFFFFFFFFFFF)) + 0xFFFFFFFFFFFFFFFD)) + ((RDI + (RSI & (RDI ^ 0xFFFFFFFFFFFFFFFF))) | ((RDI & RSI & (RDI ^ 0xFFFFFFFFFFFFFFFF)) + -RDI + 0xFFFFFFFFFFFFFFFF)) + (((RDI & RSI & (RDI ^ 0xFFFFFFFFFFFFFFFF)) + -RDI + 0xFFFFFFFFFFFFFFFF) | ((RDI + (RSI & (RDI ^ 0xFFFFFFFFFFFFFFFF))) ^ 0xFFFFFFFFFFFFFFFF)) + (((RSI & (RDI ^ 0xFFFFFFFFFFFFFFFF)) + ((RDI * 0xFFFFFFFFFFFFFFFE + -(RSI & (RDI ^ 0xFFFFFFFFFFFFFFFF)) + -((((RSI & (RDI ^ 0xFFFFFFFFFFFFFFFF)) + RDI * 0x2 + (RDI & RSI) * 0xFFFFFFFFFFFFFFFE + ((RDI + (RSI & (RDI ^ 0xFFFFFFFFFFFFFFFF))) | ((RDI & RSI) + -RDI + 0xFFFFFFFFFFFFFFFF)) + (((RDI & RSI) + -RDI + 0xFFFFFFFFFFFFFFFF) | ((RDI + (RSI & (RDI ^ 0xFFFFFFFFFFFFFFFF))) ^ 0xFFFFFFFFFFFFFFFF)) + 0x2) & ((RDI + (RSI & (RDI ^ 0xFFFFFFFFFFFFFFFF))) ^ 0xFFFFFFFFFFFFFFFF)) | ((RSI & (RDI ^ 0xFFFFFFFFFFFFFFFF)) + RDI * 0x2 + ((RDI + (RSI & (RDI ^ 0xFFFFFFFFFFFFFFFF))) | ((RDI & RSI & (RDI ^ 0xFFFFFFFFFFFFFFFF)) + -RDI + 0xFFFFFFFFFFFFFFFF)) + (((RDI & RSI & (RDI ^ 0xFFFFFFFFFFFFFFFF)) + -RDI + 0xFFFFFFFFFFFFFFFF) | ((RDI + (RSI & (RDI ^ 0xFFFFFFFFFFFFFFFF))) ^ 0xFFFFFFFFFFFFFFFF)) + 0x2)) + -((((RSI & (RDI ^ 0xFFFFFFFFFFFFFFFF)) + RDI * 0x2 + (RDI & RSI) * 0xFFFFFFFFFFFFFFFE + ((RDI + (RSI & (RDI ^ 0xFFFFFFFFFFFFFFFF))) | ((RDI & RSI) + -RDI + 0xFFFFFFFFFFFFFFFF)) + (((RDI & RSI) + -RDI + 0xFFFFFFFFFFFFFFFF) | ((RDI + (RSI & (RDI ^ 0xFFFFFFFFFFFFFFFF))) ^ 0xFFFFFFFFFFFFFFFF)) + 0x2) & ((RDI + (RSI & (RDI ^ 0xFFFFFFFFFFFFFFFF))) ^ 0xFFFFFFFFFFFFFFFF)) | (RDI * 0xFFFFFFFFFFFFFFFE + -(RSI & (RDI ^ 0xFFFFFFFFFFFFFFFF)) + -((RDI + (RSI & (RDI ^ 0xFFFFFFFFFFFFFFFF))) | ((RDI & RSI & (RDI ^ 0xFFFFFFFFFFFFFFFF)) + -RDI + 0xFFFFFFFFFFFFFFFF)) + -(((RDI & RSI & (RDI ^ 0xFFFFFFFFFFFFFFFF)) + -RDI + 0xFFFFFFFFFFFFFFFF) | ((RDI + (RSI & (RDI ^ 0xFFFFFFFFFFFFFFFF))) ^ 0xFFFFFFFFFFFFFFFF)) + 0xFFFFFFFFFFFFFFFD)) + -((RDI + (RSI & (RDI ^ 0xFFFFFFFFFFFFFFFF))) | ((RDI & RSI & (RDI ^ 0xFFFFFFFFFFFFFFFF)) + -RDI + 0xFFFFFFFFFFFFFFFF)) + -(((RDI & RSI & (RDI ^ 0xFFFFFFFFFFFFFFFF)) + -RDI + 0xFFFFFFFFFFFFFFFF) | ((RDI + (RSI & (RDI ^ 0xFFFFFFFFFFFFFFFF))) ^ 0xFFFFFFFFFFFFFFFF)) + 0xFFFFFFFFFFFFFFFC) & (((RSI & (RDI ^ 0xFFFFFFFFFFFFFFFF)) + RDI * 0x2 + (RDI & RSI) * 0xFFFFFFFFFFFFFFFE + ((RDI + (RSI & (RDI ^ 0xFFFFFFFFFFFFFFFF))) | ((RDI & RSI) + -RDI + 0xFFFFFFFFFFFFFFFF)) + (((RDI & RSI) + -RDI + 0xFFFFFFFFFFFFFFFF) | ((RDI + (RSI & (RDI ^ 0xFFFFFFFFFFFFFFFF))) ^ 0xFFFFFFFFFFFFFFFF)) + 0x2) | ((RDI + (RSI & (RDI ^ 0xFFFFFFFFFFFFFFFF))) ^ 0xFFFFFFFFFFFFFFFF))) + RDI * 0x2 + ((((RSI & (RDI ^ 0xFFFFFFFFFFFFFFFF)) + RDI * 0x2 + (RDI & RSI) * 0xFFFFFFFFFFFFFFFE + ((RDI + (RSI & (RDI ^ 0xFFFFFFFFFFFFFFFF))) | ((RDI & RSI) + -RDI + 0xFFFFFFFFFFFFFFFF)) + (((RDI & RSI) + -RDI + 0xFFFFFFFFFFFFFFFF) | ((RDI + (RSI & (RDI ^ 0xFFFFFFFFFFFFFFFF))) ^ 0xFFFFFFFFFFFFFFFF)) + 0x2) & ((RDI + (RSI & (RDI ^ 0xFFFFFFFFFFFFFFFF))) ^ 0xFFFFFFFFFFFFFFFF)) | ((RSI & (RDI ^ 0xFFFFFFFFFFFFFFFF)) + RDI * 0x2 + ((RDI + (RSI & (RDI ^ 0xFFFFFFFFFFFFFFFF))) | ((RDI & RSI & (RDI ^ 0xFFFFFFFFFFFFFFFF)) + -RDI + 0xFFFFFFFFFFFFFFFF)) + (((RDI & RSI & (RDI ^ 0xFFFFFFFFFFFFFFFF)) + -RDI + 0xFFFFFFFFFFFFFFFF) | ((RDI + (RSI & (RDI ^ 0xFFFFFFFFFFFFFFFF))) ^ 0xFFFFFFFFFFFFFFFF)) + 0x2)) + ((((RSI & (RDI ^ 0xFFFFFFFFFFFFFFFF)) + RDI * 0x2 + (RDI & RSI) * 0xFFFFFFFFFFFFFFFE + ((RDI + (RSI & (RDI ^ 0xFFFFFFFFFFFFFFFF))) | ((RDI & RSI) + -RDI + 0xFFFFFFFFFFFFFFFF)) + (((RDI & RSI) + -RDI + 0xFFFFFFFFFFFFFFFF) | ((RDI + (RSI & (RDI ^ 0xFFFFFFFFFFFFFFFF))) ^ 0xFFFFFFFFFFFFFFFF)) + 0x2) & ((RDI + (RSI & (RDI ^ 0xFFFFFFFFFFFFFFFF))) ^ 0xFFFFFFFFFFFFFFFF)) | (RDI * 0xFFFFFFFFFFFFFFFE + -(RSI & (RDI ^ 0xFFFFFFFFFFFFFFFF)) + -((RDI + (RSI & (RDI ^ 0xFFFFFFFFFFFFFFFF))) | ((RDI & RSI & (RDI ^ 0xFFFFFFFFFFFFFFFF)) + -RDI + 0xFFFFFFFFFFFFFFFF)) + -(((RDI & RSI & (RDI ^ 0xFFFFFFFFFFFFFFFF)) + -RDI + 0xFFFFFFFFFFFFFFFF) | ((RDI + (RSI & (RDI ^ 0xFFFFFFFFFFFFFFFF))) ^ 0xFFFFFFFFFFFFFFFF)) + 0xFFFFFFFFFFFFFFFD)) + ((RDI + (RSI & (RDI ^ 0xFFFFFFFFFFFFFFFF))) | ((RDI & RSI & (RDI ^ 0xFFFFFFFFFFFFFFFF)) + -RDI + 0xFFFFFFFFFFFFFFFF)) + (((RDI & RSI & (RDI ^ 0xFFFFFFFFFFFFFFFF)) + -RDI + 0xFFFFFFFFFFFFFFFF) | ((RDI + (RSI & (RDI ^ 0xFFFFFFFFFFFFFFFF))) ^ 0xFFFFFFFFFFFFFFFF)) + 0x3) | (((RDI + (RSI & (RDI ^ 0xFFFFFFFFFFFFFFFF)) + ((RDI + (RDI & RSI) * 0xFFFFFFFFFFFFFFFE + (RDI | RSI) + (RSI | (RDI ^ 0xFFFFFFFFFFFFFFFF)) + 0x1) & ((RDI + (RSI & (RDI ^ 0xFFFFFFFFFFFFFFFF))) ^ 0xFFFFFFFFFFFFFFFF))) & (((RSI & (RDI ^ 0xFFFFFFFFFFFFFFFF)) + RDI * 0x2 + (RDI & RSI) * 0xFFFFFFFFFFFFFFFE + ((RDI + (RSI & (RDI ^ 0xFFFFFFFFFFFFFFFF))) | ((RDI & RSI) + -RDI + 0xFFFFFFFFFFFFFFFF)) + (((RDI & RSI) + -RDI + 0xFFFFFFFFFFFFFFFF) | ((RDI + (RSI & (RDI ^ 0xFFFFFFFFFFFFFFFF))) ^ 0xFFFFFFFFFFFFFFFF)) + 0x2) | ((RDI + (RSI & (RDI ^ 0xFFFFFFFFFFFFFFFF))) ^ 0xFFFFFFFFFFFFFFFF))) + -RDI + -(RSI & (RDI ^ 0xFFFFFFFFFFFFFFFF)) + -((RDI + (RDI & RSI) * 0xFFFFFFFFFFFFFFFE + (RDI | RSI) + (RSI | (RDI ^ 0xFFFFFFFFFFFFFFFF)) + 0x1) & ((RDI + (RSI & (RDI ^ 0xFFFFFFFFFFFFFFFF))) ^ 0xFFFFFFFFFFFFFFFF)) + 0xFFFFFFFFFFFFFFFF)) + ((((RDI + (RSI & (RDI ^ 0xFFFFFFFFFFFFFFFF)) + ((RDI + (RDI & RSI) * 0xFFFFFFFFFFFFFFFE + (RDI | RSI) + (RSI | (RDI ^ 0xFFFFFFFFFFFFFFFF)) + 0x1) & ((RDI + (RSI & (RDI ^ 0xFFFFFFFFFFFFFFFF))) ^ 0xFFFFFFFFFFFFFFFF))) & (((RSI & (RDI ^ 0xFFFFFFFFFFFFFFFF)) + RDI * 0x2 + (RDI & RSI) * 0xFFFFFFFFFFFFFFFE + ((RDI + (RSI & (RDI ^ 0xFFFFFFFFFFFFFFFF))) | ((RDI & RSI) + -RDI + 0xFFFFFFFFFFFFFFFF)) + (((RDI & RSI) + -RDI + 0xFFFFFFFFFFFFFFFF) | ((RDI + (RSI & (RDI ^ 0xFFFFFFFFFFFFFFFF))) ^ 0xFFFFFFFFFFFFFFFF)) + 0x2) | ((RDI + (RSI & (RDI ^ 0xFFFFFFFFFFFFFFFF))) ^ 0xFFFFFFFFFFFFFFFF))) + -RDI + -(RSI & (RDI ^ 0xFFFFFFFFFFFFFFFF)) + -((RDI + (RDI & RSI) * 0xFFFFFFFFFFFFFFFE + (RDI | RSI) + (RSI | (RDI ^ 0xFFFFFFFFFFFFFFFF)) + 0x1) & ((RDI + (RSI & (RDI ^ 0xFFFFFFFFFFFFFFFF))) ^ 0xFFFFFFFFFFFFFFFF)) + 0xFFFFFFFFFFFFFFFF) | (RDI * 0xFFFFFFFFFFFFFFFE + -(RSI & (RDI ^ 0xFFFFFFFFFFFFFFFF)) + -((RDI * 0xFFFFFFFFFFFFFFFE + -(RSI & (RDI ^ 0xFFFFFFFFFFFFFFFF)) + -((((RSI & (RDI ^ 0xFFFFFFFFFFFFFFFF)) + RDI * 0x2 + (RDI & RSI) * 0xFFFFFFFFFFFFFFFE + ((RDI + (RSI & (RDI ^ 0xFFFFFFFFFFFFFFFF))) | ((RDI & RSI) + -RDI + 0xFFFFFFFFFFFFFFFF)) + (((RDI & RSI) + -RDI + 0xFFFFFFFFFFFFFFFF) | ((RDI + (RSI & (RDI ^ 0xFFFFFFFFFFFFFFFF))) ^ 0xFFFFFFFFFFFFFFFF)) + 0x2) & ((RDI + (RSI & (RDI ^ 0xFFFFFFFFFFFFFFFF))) ^ 0xFFFFFFFFFFFFFFFF)) | ((RSI & (RDI ^ 0xFFFFFFFFFFFFFFFF)) + RDI * 0x2 + ((RDI + (RSI & (RDI ^ 0xFFFFFFFFFFFFFFFF))) | ((RDI & RSI & (RDI ^ 0xFFFFFFFFFFFFFFFF)) + -RDI + 0xFFFFFFFFFFFFFFFF)) + (((RDI & RSI & (RDI ^ 0xFFFFFFFFFFFFFFFF)) + -RDI + 0xFFFFFFFFFFFFFFFF) | ((RDI + (RSI & (RDI ^ 0xFFFFFFFFFFFFFFFF))) ^ 0xFFFFFFFFFFFFFFFF)) + 0x2)) + -((((RSI & (RDI ^ 0xFFFFFFFFFFFFFFFF)) + RDI * 0x2 + (RDI & RSI) * 0xFFFFFFFFFFFFFFFE + ((RDI + (RSI & (RDI ^ 0xFFFFFFFFFFFFFFFF))) | ((RDI & RSI) + -RDI + 0xFFFFFFFFFFFFFFFF)) + (((RDI & RSI) + -RDI + 0xFFFFFFFFFFFFFFFF) | ((RDI + (RSI & (RDI ^ 0xFFFFFFFFFFFFFFFF))) ^ 0xFFFFFFFFFFFFFFFF)) + 0x2) & ((RDI + (RSI & (RDI ^ 0xFFFFFFFFFFFFFFFF))) ^ 0xFFFFFFFFFFFFFFFF)) | (RDI * 0xFFFFFFFFFFFFFFFE + -(RSI & (RDI ^ 0xFFFFFFFFFFFFFFFF)) + -((RDI + (RSI & (RDI ^ 0xFFFFFFFFFFFFFFFF))) | ((RDI & RSI & (RDI ^ 0xFFFFFFFFFFFFFFFF)) + -RDI + 0xFFFFFFFFFFFFFFFF)) + -(((RDI & RSI & (RDI ^ 0xFFFFFFFFFFFFFFFF)) + -RDI + 0xFFFFFFFFFFFFFFFF) | ((RDI + (RSI & (RDI ^ 0xFFFFFFFFFFFFFFFF))) ^ 0xFFFFFFFFFFFFFFFF)) + 0xFFFFFFFFFFFFFFFD)) + -((RDI + (RSI & (RDI ^ 0xFFFFFFFFFFFFFFFF))) | ((RDI & RSI & (RDI ^ 0xFFFFFFFFFFFFFFFF)) + -RDI + 0xFFFFFFFFFFFFFFFF)) + -(((RDI & RSI & (RDI ^ 0xFFFFFFFFFFFFFFFF)) + -RDI + 0xFFFFFFFFFFFFFFFF) | ((RDI + (RSI & (RDI ^ 0xFFFFFFFFFFFFFFFF))) ^ 0xFFFFFFFFFFFFFFFF)) + 0xFFFFFFFFFFFFFFFC) & (((RSI & (RDI ^ 0xFFFFFFFFFFFFFFFF)) + RDI * 0x2 + (RDI & RSI) * 0xFFFFFFFFFFFFFFFE + ((RDI + (RSI & (RDI ^ 0xFFFFFFFFFFFFFFFF))) | ((RDI & RSI) + -RDI + 0xFFFFFFFFFFFFFFFF)) + (((RDI & RSI) + -RDI + 0xFFFFFFFFFFFFFFFF) | ((RDI + (RSI & (RDI ^ 0xFFFFFFFFFFFFFFFF))) ^ 0xFFFFFFFFFFFFFFFF)) + 0x2) | ((RDI + (RSI & (RDI ^ 0xFFFFFFFFFFFFFFFF))) ^ 0xFFFFFFFFFFFFFFFF))) + -((((RSI & (RDI ^ 0xFFFFFFFFFFFFFFFF)) + RDI * 0x2 + (RDI & RSI) * 0xFFFFFFFFFFFFFFFE + ((RDI + (RSI & (RDI ^ 0xFFFFFFFFFFFFFFFF))) | ((RDI & RSI) + -RDI + 0xFFFFFFFFFFFFFFFF)) + (((RDI & RSI) + -RDI + 0xFFFFFFFFFFFFFFFF) | ((RDI + (RSI & (RDI ^ 0xFFFFFFFFFFFFFFFF))) ^ 0xFFFFFFFFFFFFFFFF)) + 0x2) & ((RDI + (RSI & (RDI ^ 0xFFFFFFFFFFFFFFFF))) ^ 0xFFFFFFFFFFFFFFFF)) | ((RSI & (RDI ^ 0xFFFFFFFFFFFFFFFF)) + RDI * 0x2 + ((RDI + (RSI & (RDI ^ 0xFFFFFFFFFFFFFFFF))) | ((RDI & RSI & (RDI ^ 0xFFFFFFFFFFFFFFFF)) + -RDI + 0xFFFFFFFFFFFFFFFF)) + (((RDI & RSI & (RDI ^ 0xFFFFFFFFFFFFFFFF)) + -RDI + 0xFFFFFFFFFFFFFFFF) | ((RDI + (RSI & (RDI ^ 0xFFFFFFFFFFFFFFFF))) ^ 0xFFFFFFFFFFFFFFFF)) + 0x2)) + -((((RSI & (RDI ^ 0xFFFFFFFFFFFFFFFF)) + RDI * 0x2 + (RDI & RSI) * 0xFFFFFFFFFFFFFFFE + ((RDI + (RSI & (RDI ^ 0xFFFFFFFFFFFFFFFF))) | ((RDI & RSI) + -RDI + 0xFFFFFFFFFFFFFFFF)) + (((RDI & RSI) + -RDI + 0xFFFFFFFFFFFFFFFF) | ((RDI + (RSI & (RDI ^ 0xFFFFFFFFFFFFFFFF))) ^ 0xFFFFFFFFFFFFFFFF)) + 0x2) & ((RDI + (RSI & (RDI ^ 0xFFFFFFFFFFFFFFFF))) ^ 0xFFFFFFFFFFFFFFFF)) | (RDI * 0xFFFFFFFFFFFFFFFE + -(RSI & (RDI ^ 0xFFFFFFFFFFFFFFFF)) + -((RDI + (RSI & (RDI ^ 0xFFFFFFFFFFFFFFFF))) | ((RDI & RSI & (RDI ^ 0xFFFFFFFFFFFFFFFF)) + -RDI + 0xFFFFFFFFFFFFFFFF)) + -(((RDI & RSI & (RDI ^ 0xFFFFFFFFFFFFFFFF)) + -RDI + 0xFFFFFFFFFFFFFFFF) | ((RDI + (RSI & (RDI ^ 0xFFFFFFFFFFFFFFFF))) ^ 0xFFFFFFFFFFFFFFFF)) + 0xFFFFFFFFFFFFFFFD)) + -((RDI + (RSI & (RDI ^ 0xFFFFFFFFFFFFFFFF))) | ((RDI & RSI & (RDI ^ 0xFFFFFFFFFFFFFFFF)) + -RDI + 0xFFFFFFFFFFFFFFFF)) + -(((RDI & RSI & (RDI ^ 0xFFFFFFFFFFFFFFFF)) + -RDI + 0xFFFFFFFFFFFFFFFF) | ((RDI + (RSI & (RDI ^ 0xFFFFFFFFFFFFFFFF))) ^ 0xFFFFFFFFFFFFFFFF)) + 0xFFFFFFFFFFFFFFFC)) + 0x6\n",
      "\n",
      "RAX SMT simplified:\n",
      "---\n",
      "6 +\n",
      "~(~(1 +\n",
      "    RDI +\n",
      "    18446744073709551614*~(~RDI | ~RSI) +\n",
      "    (RDI | RSI) +\n",
      "    (RSI | ~RDI)) |\n",
      "  RDI + ~(~RSI | RDI)) +\n",
      "~(~(18446744073709551612 +\n",
      "    18446744073709551614*RDI +\n",
      "    18446744073709551615*~(~RSI | RDI) +\n",
      "    18446744073709551615*\n",
      "    (~(~(2 +\n",
      "         ~(~RSI | RDI) +\n",
      "         2*RDI +\n",
      "         18446744073709551614*~(~RDI | ~RSI) +\n",
      "         (RDI + ~(~RSI | RDI) |\n",
      "          18446744073709551615 +\n",
      "          ~(~RDI | ~RSI) +\n",
      "          18446744073709551615*RDI) +\n",
      "         (18446744073709551615 +\n",
      "          ~(~RDI | ~RSI) +\n",
      "          18446744073709551615*RDI |\n",
      "          ~(RDI + ~(~RSI | RDI)))) |\n",
      "       RDI + ~(~RSI | RDI)) |\n",
      "     2 +\n",
      "     ~(~RSI | RDI) +\n",
      "     2*RDI +\n",
      "     (RDI + ~(~RSI | RDI) |\n",
      "      18446744073709551615 + 18446744073709551615*RDI) +\n",
      "     (18446744073709551615 + 18446744073709551615*RDI |\n",
      "      ~(RDI + ~(~RSI | RDI)))) +\n",
      "    18446744073709551615*\n",
      "    (~(~(2 +\n",
      "         ~(~RSI | RDI) +\n",
      "         2*RDI +\n",
      "         18446744073709551614*~(~RDI | ~RSI) +\n",
      "         (RDI + ~(~RSI | RDI) |\n",
      "          18446744073709551615 +\n",
      "          ~(~RDI | ~RSI) +\n",
      "          18446744073709551615*RDI) +\n",
      "         (18446744073709551615 +\n",
      "          ~(~RDI | ~RSI) +\n",
      "          18446744073709551615*RDI |\n",
      "          ~(RDI + ~(~RSI | RDI)))) |\n",
      "       RDI + ~(~RSI | RDI)) |\n",
      "     18446744073709551613 +\n",
      "     18446744073709551614*RDI +\n",
      "     18446744073709551615*~(~RSI | RDI) +\n",
      "     18446744073709551615*\n",
      "     (RDI + ~(~RSI | RDI) |\n",
      "      18446744073709551615 + 18446744073709551615*RDI) +\n",
      "     18446744073709551615*\n",
      "     (18446744073709551615 + 18446744073709551615*RDI |\n",
      "      ~(RDI + ~(~RSI | RDI)))) +\n",
      "    18446744073709551615*\n",
      "    (RDI + ~(~RSI | RDI) |\n",
      "     18446744073709551615 + 18446744073709551615*RDI) +\n",
      "    18446744073709551615*\n",
      "    (18446744073709551615 + 18446744073709551615*RDI |\n",
      "     ~(RDI + ~(~RSI | RDI)))) |\n",
      "  ~(2 +\n",
      "    ~(~RSI | RDI) +\n",
      "    2*RDI +\n",
      "    18446744073709551614*~(~RDI | ~RSI) +\n",
      "    (RDI + ~(~RSI | RDI) |\n",
      "     18446744073709551615 +\n",
      "     ~(~RDI | ~RSI) +\n",
      "     18446744073709551615*RDI) +\n",
      "    (18446744073709551615 +\n",
      "     ~(~RDI | ~RSI) +\n",
      "     18446744073709551615*RDI |\n",
      "     ~(RDI + ~(~RSI | RDI))) |\n",
      "    ~(RDI + ~(~RSI | RDI)))) +\n",
      "4*RDI +\n",
      "3*~(~RSI | RDI) +\n",
      "(~(~(2 +\n",
      "     ~(~RSI | RDI) +\n",
      "     2*RDI +\n",
      "     18446744073709551614*~(~RDI | ~RSI) +\n",
      "     (RDI + ~(~RSI | RDI) |\n",
      "      18446744073709551615 +\n",
      "      ~(~RDI | ~RSI) +\n",
      "      18446744073709551615*RDI) +\n",
      "     (18446744073709551615 +\n",
      "      ~(~RDI | ~RSI) +\n",
      "      18446744073709551615*RDI |\n",
      "      ~(RDI + ~(~RSI | RDI)))) |\n",
      "   RDI + ~(~RSI | RDI)) |\n",
      " 2 +\n",
      " ~(~RSI | RDI) +\n",
      " 2*RDI +\n",
      " (RDI + ~(~RSI | RDI) |\n",
      "  18446744073709551615 + 18446744073709551615*RDI) +\n",
      " (18446744073709551615 + 18446744073709551615*RDI |\n",
      "  ~(RDI + ~(~RSI | RDI)))) +\n",
      "(~(~(2 +\n",
      "     ~(~RSI | RDI) +\n",
      "     2*RDI +\n",
      "     18446744073709551614*~(~RDI | ~RSI) +\n",
      "     (RDI + ~(~RSI | RDI) |\n",
      "      18446744073709551615 +\n",
      "      ~(~RDI | ~RSI) +\n",
      "      18446744073709551615*RDI) +\n",
      "     (18446744073709551615 +\n",
      "      ~(~RDI | ~RSI) +\n",
      "      18446744073709551615*RDI |\n",
      "      ~(RDI + ~(~RSI | RDI)))) |\n",
      "   RDI + ~(~RSI | RDI)) |\n",
      " 18446744073709551613 +\n",
      " 18446744073709551614*RDI +\n",
      " 18446744073709551615*~(~RSI | RDI) +\n",
      " 18446744073709551615*\n",
      " (RDI + ~(~RSI | RDI) |\n",
      "  18446744073709551615 + 18446744073709551615*RDI) +\n",
      " 18446744073709551615*\n",
      " (18446744073709551615 + 18446744073709551615*RDI |\n",
      "  ~(RDI + ~(~RSI | RDI)))) +\n",
      "(RDI + ~(~RSI | RDI) |\n",
      " 18446744073709551615 + 18446744073709551615*RDI) +\n",
      "(18446744073709551615 + 18446744073709551615*RDI |\n",
      " ~(RDI + ~(~RSI | RDI))) +\n",
      "(3 +\n",
      " ~(~RSI | RDI) +\n",
      " ~(~(18446744073709551612 +\n",
      "     18446744073709551614*RDI +\n",
      "     18446744073709551615*~(~RSI | RDI) +\n",
      "     18446744073709551615*\n",
      "     (~(~(2 +\n",
      "          ~(~RSI | RDI) +\n",
      "          2*RDI +\n",
      "          18446744073709551614*~(~RDI | ~RSI) +\n",
      "          (RDI + ~(~RSI | RDI) |\n",
      "           18446744073709551615 +\n",
      "           ~(~RDI | ~RSI) +\n",
      "           18446744073709551615*RDI) +\n",
      "          (18446744073709551615 +\n",
      "           ~(~RDI | ~RSI) +\n",
      "           18446744073709551615*RDI |\n",
      "           ~(RDI + ~(~RSI | RDI)))) |\n",
      "        RDI + ~(~RSI | RDI)) |\n",
      "      2 +\n",
      "      ~(~RSI | RDI) +\n",
      "      2*RDI +\n",
      "      (RDI + ~(~RSI | RDI) |\n",
      "       18446744073709551615 + 18446744073709551615*RDI) +\n",
      "      (18446744073709551615 + 18446744073709551615*RDI |\n",
      "       ~(RDI + ~(~RSI | RDI)))) +\n",
      "     18446744073709551615*\n",
      "     (~(~(2 +\n",
      "          ~(~RSI | RDI) +\n",
      "          2*RDI +\n",
      "          18446744073709551614*~(~RDI | ~RSI) +\n",
      "          (RDI + ~(~RSI | RDI) |\n",
      "           18446744073709551615 +\n",
      "           ~(~RDI | ~RSI) +\n",
      "           18446744073709551615*RDI) +\n",
      "          (18446744073709551615 +\n",
      "           ~(~RDI | ~RSI) +\n",
      "           18446744073709551615*RDI |\n",
      "           ~(RDI + ~(~RSI | RDI)))) |\n",
      "        RDI + ~(~RSI | RDI)) |\n",
      "      18446744073709551613 +\n",
      "      18446744073709551614*RDI +\n",
      "      18446744073709551615*~(~RSI | RDI) +\n",
      "      18446744073709551615*\n",
      "      (RDI + ~(~RSI | RDI) |\n",
      "       18446744073709551615 + 18446744073709551615*RDI) +\n",
      "      18446744073709551615*\n",
      "      (18446744073709551615 + 18446744073709551615*RDI |\n",
      "       ~(RDI + ~(~RSI | RDI)))) +\n",
      "     18446744073709551615*\n",
      "     (RDI + ~(~RSI | RDI) |\n",
      "      18446744073709551615 + 18446744073709551615*RDI) +\n",
      "     18446744073709551615*\n",
      "     (18446744073709551615 + 18446744073709551615*RDI |\n",
      "      ~(RDI + ~(~RSI | RDI)))) |\n",
      "   ~(2 +\n",
      "     ~(~RSI | RDI) +\n",
      "     2*RDI +\n",
      "     18446744073709551614*~(~RDI | ~RSI) +\n",
      "     (RDI + ~(~RSI | RDI) |\n",
      "      18446744073709551615 +\n",
      "      ~(~RDI | ~RSI) +\n",
      "      18446744073709551615*RDI) +\n",
      "     (18446744073709551615 +\n",
      "      ~(~RDI | ~RSI) +\n",
      "      18446744073709551615*RDI |\n",
      "      ~(RDI + ~(~RSI | RDI))) |\n",
      "     ~(RDI + ~(~RSI | RDI)))) +\n",
      " 2*RDI +\n",
      " (~(~(2 +\n",
      "      ~(~RSI | RDI) +\n",
      "      2*RDI +\n",
      "      18446744073709551614*~(~RDI | ~RSI) +\n",
      "      (RDI + ~(~RSI | RDI) |\n",
      "       18446744073709551615 +\n",
      "       ~(~RDI | ~RSI) +\n",
      "       18446744073709551615*RDI) +\n",
      "      (18446744073709551615 +\n",
      "       ~(~RDI | ~RSI) +\n",
      "...\n",
      "\n"
     ]
    }
   ],
   "source": [
    "file_path = \"./scramble4\"\n",
    "addr = 0x1149\n",
    "\n",
    "rax_scramble4 = getRaxExpr(file_path, addr)\n",
    "print(f\"RAX value:\\n---\\n{rax_scramble4}\\n\")\n",
    "\n",
    "rax_scramble4_simp = simplify(translator.from_expr(rax_scramble4))\n",
    "print(f\"RAX SMT simplified:\\n---\\n{rax_scramble4_simp}\\n\")"
   ]
  },
  {
   "cell_type": "markdown",
   "id": "f3d24830-c161-45ea-9aa8-42deda079a5c",
   "metadata": {},
   "source": [
    "# Program synthesis"
   ]
  },
  {
   "cell_type": "code",
   "execution_count": null,
   "id": "2c2be09e-4f67-4210-8c95-4d91d1651b22",
   "metadata": {},
   "outputs": [],
   "source": [
    "from msynth import Simplifier\n",
    "oracle_path = \"/home/mbd/msynth/oracle.pickle\"\n",
    "simplifier = Simplifier(oracle_path)"
   ]
  },
  {
   "cell_type": "code",
   "execution_count": null,
   "id": "9b91c2af-68a2-4797-9b74-cf9821bd7b01",
   "metadata": {},
   "outputs": [],
   "source": [
    "rax_scramble1_simp = simplifier.simplify(rax_scramble1)\n",
    "print(f\"RAX after synthesis simplification:\\n---\\n{rax_scramble1_simp}\\n\")"
   ]
  },
  {
   "cell_type": "code",
   "execution_count": null,
   "id": "e48d6ae9-e3e8-40d5-bfca-37cf1daaf6c4",
   "metadata": {},
   "outputs": [],
   "source": [
    "rax_scramble2_simp = simplifier.simplify(rax_scramble2)\n",
    "print(f\"RAX after synthesis simplification:\\n---\\n{rax_scramble2_simp}\\n\")"
   ]
  },
  {
   "cell_type": "code",
   "execution_count": null,
   "id": "95092412-9d1a-4b32-a2dc-7d327b444dfb",
   "metadata": {},
   "outputs": [],
   "source": [
    "rax_scramble3_simp = simplifier.simplify(rax_scramble3)\n",
    "print(f\"RAX after synthesis simplification:\\n---\\n{rax_scramble3_simp}\\n\")"
   ]
  },
  {
   "cell_type": "code",
   "execution_count": null,
   "id": "bb9acd6d-7975-44ff-8408-649928bfc8cb",
   "metadata": {},
   "outputs": [],
   "source": [
    "rax_scramble4_simp = simplifier.simplify(rax_scramble4)\n",
    "print(f\"RAX after synthesis simplification:\\n---\\n{rax_scramble4_simp}\\n\")"
   ]
  },
  {
   "cell_type": "markdown",
   "id": "1f6c8a66-8910-468d-9713-02abca77671b",
   "metadata": {},
   "source": [
    "# Beyond\n",
    "\n",
    "- Generate MBA rewrite rules\n",
    "- Generate pairs of inverse permutation polynomials\n",
    "- Semantic correctness of synthesized candidate\n",
    "- ..."
   ]
  }
 ],
 "metadata": {
  "kernelspec": {
   "display_name": "Python 3 (ipykernel)",
   "language": "python",
   "name": "python3"
  },
  "language_info": {
   "codemirror_mode": {
    "name": "ipython",
    "version": 3
   },
   "file_extension": ".py",
   "mimetype": "text/x-python",
   "name": "python",
   "nbconvert_exporter": "python",
   "pygments_lexer": "ipython3",
   "version": "3.10.4"
  }
 },
 "nbformat": 4,
 "nbformat_minor": 5
}
