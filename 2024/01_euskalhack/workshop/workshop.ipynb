{
 "cells": [
  {
   "cell_type": "markdown",
   "id": "56d74f9c",
   "metadata": {
    "slideshow": {
     "slide_type": "slide"
    }
   },
   "source": [
    "# Part I\n",
    "## Mixed Boolean-Arithmetic (MBA) obfuscation"
   ]
  },
  {
   "cell_type": "code",
   "execution_count": null,
   "id": "660b2b27-c5c8-4708-8238-47af72a5f775",
   "metadata": {
    "tags": []
   },
   "outputs": [],
   "source": [
    "# Original expression\n",
    "# ---\n",
    "# (x ^ y) + (x | y)\n",
    "\n",
    "# MBA rewrite rules\n",
    "# ---\n",
    "# x | y -> x + (~x & y)\n",
    "# x ^ y -> x + y - 2*(x & y)\n",
    "# x + y -> (x | y) + (~x | y) - ~x\n",
    "\n",
    "# Pairs of inverse permutation polynomials\n",
    "# ---\n",
    "# P1(X) = 2155511622373988895 + 16804540376168033095*X + 17386697504552124416*X*X\n",
    "# Q1(X) = 14474691768414218647 + 7223014174769139319*X + 18246968630623338496*X*X\n",
    "#\n",
    "# P2(X) = 4368369358058645032 + 18201185361712082273*X + 14550288483659808768*X*X\n",
    "# Q2(X) = 13203382768830271704 + 10131431409256887969*X + 12017493690218971136*X*X\n",
    "#\n",
    "# P3(X) = 17188393767951940199 + 10441007794851070987*X + 8046993899073306624*X*X\n",
    "# Q3(X) = 13473451123818078059 + 3398791266673272739*X + 13243469762442297344*X*X"
   ]
  },
  {
   "cell_type": "code",
   "execution_count": null,
   "id": "b727b104-5848-41c0-a085-76590fe84ade",
   "metadata": {
    "tags": []
   },
   "outputs": [],
   "source": [
    "import ast\n",
    "from showast import show_ast\n",
    "from z3 import *\n",
    "set_option(max_lines=1, max_width=10000000, max_args=10000000, max_depth=10000000, max_visited=10000000)\n",
    "\n",
    "x, y = BitVecs('x y', 64)\n",
    "X = BitVec('X', 64)"
   ]
  },
  {
   "cell_type": "code",
   "execution_count": null,
   "id": "1beddffc-812a-4e39-9747-7801a00faa0d",
   "metadata": {
    "tags": []
   },
   "outputs": [],
   "source": [
    "original_expr = \"(x ^ y) + (x | y)\""
   ]
  },
  {
   "cell_type": "code",
   "execution_count": null,
   "id": "2e7f124b-ef78-4da1-96c4-ca381ecd1af3",
   "metadata": {
    "tags": []
   },
   "outputs": [],
   "source": [
    "\"\"\"\n",
    "Prove the semantic equivalence of the operators\n",
    "and their rewritten (more complex) form.\n",
    "In other words, prove the correctness of the\n",
    "MBA rewrite rules.\n",
    "\"\"\"\n",
    "mba_or  = \"x + (~x & y)\"\n",
    "mba_xor = \"x + y - 2*(x & y)\"\n",
    "mba_add = \"(x | y) + (~x | y) - ~x\"\n",
    "\n",
    "prove(x | y == eval(mba_or))\n",
    "prove(x ^ y == eval(mba_xor))\n",
    "prove(x + y == eval(mba_add))"
   ]
  },
  {
   "cell_type": "code",
   "execution_count": null,
   "id": "19670cf9-4ffd-4dfa-a372-a9b9bd37afd3",
   "metadata": {
    "tags": []
   },
   "outputs": [],
   "source": [
    "\"\"\"\n",
    "Prove that Pi(X) and Qi(X) define inverse mappings\n",
    "\"\"\"\n",
    "\n",
    "def P1(X): return 2155511622373988895 + 16804540376168033095*X + 17386697504552124416*X*X\n",
    "def Q1(X): return 14474691768414218647 + 7223014174769139319*X + 18246968630623338496*X*X\n",
    "\n",
    "def P2(X): return 4368369358058645032 + 18201185361712082273*X + 14550288483659808768*X*X\n",
    "def Q2(X): return 13203382768830271704 + 10131431409256887969*X + 12017493690218971136*X*X\n",
    "\n",
    "def P3(X): return 17188393767951940199 + 10441007794851070987*X + 8046993899073306624*X*X\n",
    "def Q3(X): return 13473451123818078059 + 3398791266673272739*X + 13243469762442297344*X*X\n",
    "\n",
    "prove(P1(Q1(X)) == X)\n",
    "prove(P2(Q2(X)) == X)\n",
    "prove(P3(Q3(X)) == X)"
   ]
  },
  {
   "cell_type": "code",
   "execution_count": null,
   "id": "db293c24-3576-4fa6-9d94-2c086df4c723",
   "metadata": {
    "tags": []
   },
   "outputs": [],
   "source": [
    "\"\"\"\n",
    "Insert encoding identities through permutation polynomials\n",
    "applied to the rewrite rules.\n",
    "\"\"\"\n",
    "\n",
    "mba_or_enc = str(P1(Q1(eval(mba_or))))\n",
    "mba_xor_enc = str(P2(Q2(eval(mba_xor))))\n",
    "mba_add_enc = str(P3(Q3(eval(mba_add))))\n",
    "\n",
    "print(f\"mba_or_enc\\n---\\n{mba_or_enc}\\n\")\n",
    "print(f\"mba_xor_enc\\n---\\n{mba_xor_enc}\\n\")\n",
    "print(f\"mba_add_enc\\n---\\n{mba_add_enc}\\n\")"
   ]
  },
  {
   "cell_type": "code",
   "execution_count": null,
   "id": "e91b73ac-eb4b-4a64-a6d4-55b9a1c3bda9",
   "metadata": {
    "tags": []
   },
   "outputs": [],
   "source": [
    "\"\"\"\n",
    "Prove the semantic equivalence of the operators\n",
    "and their rewriten and encoded form.\n",
    "\"\"\"\n",
    "\n",
    "prove(x | y == eval(mba_or_enc))\n",
    "# prove(x ^ y == eval(mba_xor_enc))\n",
    "# prove(x + y == eval(mba_add_enc))"
   ]
  },
  {
   "cell_type": "code",
   "execution_count": null,
   "id": "b1e9adbd-7a21-4f53-bc98-c5d18f0856ed",
   "metadata": {
    "tags": []
   },
   "outputs": [],
   "source": [
    "\"\"\"\n",
    "Define maps of rewrite rules both for the plain transforms\n",
    "and the encoded transforms.\n",
    "\"\"\"\n",
    "rw_plain = {\n",
    "    '|': mba_or,\n",
    "    '^': mba_xor,\n",
    "    '+': mba_add\n",
    "}\n",
    "\n",
    "rw_enc = {\n",
    "    '|': mba_or_enc,\n",
    "    '^': mba_xor_enc,\n",
    "    '+': mba_add_enc\n",
    "}"
   ]
  },
  {
   "cell_type": "code",
   "execution_count": null,
   "id": "8173f4e2-72eb-4ad7-9f06-19e65c34c300",
   "metadata": {
    "tags": []
   },
   "outputs": [],
   "source": [
    "\"\"\"\n",
    "Generate AST representation of the non-obfuscated (simple)\n",
    "expression we will deal with.\n",
    "\"\"\"\n",
    "original_expr_ast = ast.parse(original_expr)"
   ]
  },
  {
   "cell_type": "code",
   "execution_count": null,
   "id": "4c625724-5a68-499c-9a8b-cc5363a010ac",
   "metadata": {
    "tags": []
   },
   "outputs": [],
   "source": [
    "print(ast.dump(original_expr_ast.body[0].value, indent=4))"
   ]
  },
  {
   "cell_type": "code",
   "execution_count": null,
   "id": "553556f7-246a-4113-b9ea-a44bab671006",
   "metadata": {
    "tags": []
   },
   "outputs": [],
   "source": [
    "show_ast(original_expr_ast)"
   ]
  },
  {
   "cell_type": "code",
   "execution_count": null,
   "id": "9d1ed397-9d83-43d9-8280-dc5d0ae85c3b",
   "metadata": {
    "tags": []
   },
   "outputs": [],
   "source": [
    "\"\"\"\n",
    "Extract binary operations (i.e. operations with two operands)\n",
    "from the AST representation of the expression, from bottom to top.\n",
    "\"\"\"\n",
    "def bottomUpBFS(node):\n",
    "    q = []\n",
    "    q.append(node)\n",
    "    \n",
    "    bin_ops = []\n",
    "    \n",
    "    while q:\n",
    "        cur = q.pop()\n",
    "        \n",
    "        if hasattr(cur, 'left'):\n",
    "            q.append(cur.left)\n",
    "            \n",
    "        if hasattr(cur, 'right'):\n",
    "            q.append(cur.right)\n",
    "            \n",
    "        if isinstance(cur, ast.BinOp):\n",
    "            bin_ops.append(cur)\n",
    "            \n",
    "    return bin_ops"
   ]
  },
  {
   "cell_type": "code",
   "execution_count": null,
   "id": "d24054a4-a428-40a6-97f6-26b0e47dadb7",
   "metadata": {
    "tags": []
   },
   "outputs": [],
   "source": [
    "\"\"\"\n",
    "Apply MBA rewrite rule\n",
    "\"\"\"\n",
    "def apply_rewrite_rule(rw, L, R):\n",
    "    return rw.replace('x', 'L').replace('y', 'R').replace('L', f\"({L})\").replace('R', f\"({R})\")"
   ]
  },
  {
   "cell_type": "code",
   "execution_count": null,
   "id": "665737eb-fb44-4862-9250-8de13b487c45",
   "metadata": {
    "tags": []
   },
   "outputs": [],
   "source": [
    "\"\"\"\n",
    "Rewrite rules are applied to the whole (sub)expressions\n",
    "that conform Left and Right operands for the\n",
    "binary operations covered (OR, XOR and ADD).\n",
    "\"\"\"\n",
    "def obfuscate(expr, rw_map, show):\n",
    "    root = ast.parse(expr)\n",
    "    \n",
    "    if show:\n",
    "        print(expr)\n",
    "        show_ast(root)\n",
    "    \n",
    "    node = root.body[0].value\n",
    "    bin_ops = bottomUpBFS(node)\n",
    "    \n",
    "    while bin_ops:\n",
    "        cur = bin_ops.pop()\n",
    "        new = None\n",
    "        \n",
    "        L = ast.unparse(cur.left)\n",
    "        R = ast.unparse(cur.right)\n",
    "        \n",
    "        if isinstance(cur.op, ast.BitOr):\n",
    "            rw = rw_map['|']\n",
    "            tmp_expr = apply_rewrite_rule(rw, L, R)\n",
    "            new = ast.parse(tmp_expr).body[0].value\n",
    "            \n",
    "        if isinstance(cur.op, ast.BitXor):\n",
    "            rw = rw_map['^']\n",
    "            tmp_expr = apply_rewrite_rule(rw, L, R)\n",
    "            new = ast.parse(tmp_expr).body[0].value\n",
    "            \n",
    "        if isinstance(cur.op, ast.Add):\n",
    "            rw = rw_map['+']\n",
    "            tmp_expr = apply_rewrite_rule(rw, L, R)\n",
    "            new = ast.parse(tmp_expr).body[0].value\n",
    "            \n",
    "        if new:\n",
    "            cur.op = new.op\n",
    "            cur.left = new.left\n",
    "            cur.right = new.right\n",
    "            \n",
    "            if show:\n",
    "                print(f\"{50 * '='}\\n\")\n",
    "                print(ast.unparse(root))\n",
    "                show_ast(root)\n",
    "                \n",
    "    return root"
   ]
  },
  {
   "cell_type": "code",
   "execution_count": null,
   "id": "5322968a-ffb4-457e-a89a-4222918b3970",
   "metadata": {
    "tags": []
   },
   "outputs": [],
   "source": [
    "\"\"\"\n",
    "Apply plain rewrite rules\n",
    "\"\"\"\n",
    "expr_ast = obfuscate(original_expr, rw_plain, True)"
   ]
  },
  {
   "cell_type": "code",
   "execution_count": null,
   "id": "1d8ac1e4-0095-4557-ac5d-ec649b13ffe3",
   "metadata": {
    "tags": []
   },
   "outputs": [],
   "source": [
    "obf = ast.unparse(expr_ast)\n",
    "print(obf)"
   ]
  },
  {
   "cell_type": "code",
   "execution_count": null,
   "id": "563a2fa9-09b6-4eec-8688-ed0ac74d0473",
   "metadata": {
    "tags": []
   },
   "outputs": [],
   "source": [
    "\"\"\"\n",
    "Encode the whole rewritten expression\n",
    "\"\"\"\n",
    "obf_enc_whole = str(P1(Q1(eval(obf))))\n",
    "expr_ast = ast.parse(obf_enc_whole)\n",
    "print(obf_enc_whole)\n",
    "show_ast(expr_ast)"
   ]
  },
  {
   "cell_type": "code",
   "execution_count": null,
   "id": "72bbc862-31c9-40c3-88aa-4270ced2a01b",
   "metadata": {
    "tags": []
   },
   "outputs": [],
   "source": [
    "\"\"\"\n",
    "Apply already encoded rewrite rules\n",
    "\"\"\"\n",
    "\n",
    "expr_ast = obfuscate(original_expr, rw_enc, False)"
   ]
  },
  {
   "cell_type": "code",
   "execution_count": null,
   "id": "530cf4fd-c591-4895-b537-04feaef611e3",
   "metadata": {
    "scrolled": true,
    "tags": []
   },
   "outputs": [],
   "source": [
    "obf_enc_terms = ast.unparse(expr_ast)\n",
    "print(obf_enc_terms)"
   ]
  },
  {
   "cell_type": "markdown",
   "id": "642e0c58",
   "metadata": {
    "slideshow": {
     "slide_type": "slide"
    }
   },
   "source": [
    "# Part II\n",
    "## Analysis - Symbolic execution"
   ]
  },
  {
   "cell_type": "code",
   "execution_count": null,
   "id": "67647ee0-eb29-4bdf-8eea-b3d07e6033d1",
   "metadata": {
    "tags": []
   },
   "outputs": [],
   "source": [
    "\"\"\"\n",
    "Adapted from /opt/tools/msynth/scripts/symbolic_simplification.py\n",
    "\n",
    "Extract the symbolic expression for RAX register in a given\n",
    "basic block at start_addr.\n",
    "\"\"\"\n",
    "from miasm.analysis.binary import Container\n",
    "from miasm.analysis.machine import Machine\n",
    "from miasm.core.locationdb import LocationDB\n",
    "from miasm.ir.symbexec import SymbolicExecutionEngine\n",
    "\n",
    "def getRaxExpr(file_path, start_addr):\n",
    "    # symbol table\n",
    "    loc_db = LocationDB()\n",
    "\n",
    "    # open the binary for analysis\n",
    "    container = Container.from_stream(open(file_path, 'rb'), loc_db)\n",
    "\n",
    "    # cpu abstraction\n",
    "    machine = Machine(container.arch)\n",
    "\n",
    "    # init disassemble engine\n",
    "    mdis = machine.dis_engine(container.bin_stream, loc_db=loc_db)\n",
    "\n",
    "    # initialize intermediate representation\n",
    "    lifter = machine.lifter_model_call(mdis.loc_db)\n",
    "\n",
    "    # disassemble the function at address\n",
    "    asm_block = mdis.dis_block(start_addr)\n",
    "\n",
    "    # lift to Miasm IR\n",
    "    ira_cfg = lifter.new_ircfg()\n",
    "    lifter.add_asmblock_to_ircfg(asm_block, ira_cfg)\n",
    "\n",
    "    # init symbolic execution engine\n",
    "    sb = SymbolicExecutionEngine(lifter)\n",
    "\n",
    "    # symbolically execute basic block\n",
    "    sb.run_block_at(ira_cfg, start_addr)\n",
    "    \n",
    "    # return the expression of rax (return value)\n",
    "    return sb.eval_exprid(lifter.arch.regs.RAX)"
   ]
  },
  {
   "cell_type": "code",
   "execution_count": null,
   "id": "ace0290e-79f0-42e8-bd36-5c9d374b0a72",
   "metadata": {
    "tags": []
   },
   "outputs": [],
   "source": [
    "\"\"\"\n",
    "Extract symbolic expression for RAX, with respect to the\n",
    "input variables (registers RDI and RSI) of the scramble\n",
    "function in scramble1\n",
    "\"\"\"\n",
    "file_path = \"./bin/scramble1\"\n",
    "addr = 0x1149\n",
    "\n",
    "rax_scramble1 = getRaxExpr(file_path, addr)\n",
    "print(\"RAX from scramble1\\n---\")\n",
    "print(rax_scramble1)"
   ]
  },
  {
   "cell_type": "code",
   "execution_count": null,
   "id": "23a2796b-88f6-474a-aee4-a2918a4fee5f",
   "metadata": {
    "tags": []
   },
   "outputs": [],
   "source": [
    "\"\"\"\n",
    "Extract symbolic expression for RAX, with respect to the\n",
    "input variables (registers RDI and RSI) of the scramble\n",
    "function in scramble2\n",
    "\"\"\"\n",
    "file_path = \"./bin/scramble2\"\n",
    "addr = 0x1149\n",
    "\n",
    "rax_scramble2 = getRaxExpr(file_path, addr)\n",
    "print(\"RAX from scramble2\\n---\")\n",
    "print(rax_scramble2)"
   ]
  },
  {
   "cell_type": "code",
   "execution_count": null,
   "id": "ebc529a3-3228-4c07-a625-82dabf0487df",
   "metadata": {
    "scrolled": true,
    "tags": []
   },
   "outputs": [],
   "source": [
    "\"\"\"\n",
    "Extract symbolic expression for RAX, with respect to the\n",
    "input variables (registers RDI and RSI) of the scramble\n",
    "function in scramble3\n",
    "\"\"\"\n",
    "file_path = \"./bin/scramble3\"\n",
    "addr = 0x1149\n",
    "\n",
    "rax_scramble3 = getRaxExpr(file_path, addr)\n",
    "print(\"RAX from scramble3\\n---\")\n",
    "print(rax_scramble3)"
   ]
  },
  {
   "cell_type": "code",
   "execution_count": null,
   "id": "54ee7b14-3a2d-4a9c-913f-d1c835bc3f1b",
   "metadata": {
    "scrolled": true,
    "tags": []
   },
   "outputs": [],
   "source": [
    "\"\"\"\n",
    "Extract symbolic expression for RAX, with respect to the\n",
    "input variables (registers RDI and RSI) of the scramble\n",
    "function in scramble4\n",
    "\"\"\"\n",
    "file_path = \"./bin/scramble4\"\n",
    "addr = 0x1149\n",
    "\n",
    "rax_scramble4 = getRaxExpr(file_path, addr)\n",
    "print(\"RAX from scramble4\\n---\")\n",
    "print(rax_scramble4)"
   ]
  },
  {
   "cell_type": "code",
   "execution_count": null,
   "id": "c9a35c95-561b-4ddf-9d56-77f68f89a613",
   "metadata": {
    "tags": []
   },
   "outputs": [],
   "source": [
    "\"\"\"\n",
    "Load miasm translator to convert miasm expressions into\n",
    "z3 expressions\n",
    "\"\"\"\n",
    "from miasm.ir.translators.z3_ir import TranslatorZ3\n",
    "translator = TranslatorZ3()"
   ]
  },
  {
   "cell_type": "code",
   "execution_count": null,
   "id": "2581478c-3a4d-4a70-b4c6-46a945425ea4",
   "metadata": {
    "tags": []
   },
   "outputs": [],
   "source": [
    "\"\"\"\n",
    "Compare RAX expression from symbolic execution with\n",
    "simplified expression through basic z3's SMT simplification\n",
    "of the scramble function in scramble1\n",
    "\"\"\"\n",
    "print(f\"Original RAX scramble1:\\n---\\n{rax_scramble1}\\n\")\n",
    "\n",
    "rax_scramble1_z3 = translator.from_expr(rax_scramble1)\n",
    "print(f\"SMT simplified RAX scramble1:\\n---\\n{simplify(rax_scramble1_z3)}\\n\")"
   ]
  },
  {
   "cell_type": "code",
   "execution_count": null,
   "id": "0bad8dcb-3554-465c-b9c7-a7f3fd84b6ec",
   "metadata": {
    "tags": []
   },
   "outputs": [],
   "source": [
    "\"\"\"\n",
    "Compare RAX expression from symbolic execution with\n",
    "simplified expression through basic z3's SMT simplification\n",
    "of the scramble function in scramble2\n",
    "\"\"\"\n",
    "print(f\"Original RAX scramble2:\\n---\\n{rax_scramble2}\\n\")\n",
    "\n",
    "rax_scramble2_z3 = translator.from_expr(rax_scramble2)\n",
    "print(f\"SMT simplified RAX scramble2:\\n---\\n{simplify(rax_scramble2_z3)}\\n\")"
   ]
  },
  {
   "cell_type": "code",
   "execution_count": null,
   "id": "fc95926a-0c05-4c73-aad0-a4142fe05d9a",
   "metadata": {
    "tags": []
   },
   "outputs": [],
   "source": [
    "\"\"\"\n",
    "Compare RAX expression from symbolic execution with\n",
    "simplified expression through basic z3's SMT simplification\n",
    "of the scramble function in scramble3\n",
    "\"\"\"\n",
    "print(f\"Original RAX scramble3:\\n---\\n{rax_scramble3}\\n\")\n",
    "\n",
    "rax_scramble3_z3 = translator.from_expr(rax_scramble3)\n",
    "print(f\"SMT simplified RAX scramble3:\\n---\\n{simplify(rax_scramble3_z3)}\\n\")"
   ]
  },
  {
   "cell_type": "code",
   "execution_count": null,
   "id": "30fb8728-e82c-4ce1-9b0c-d55d99373bea",
   "metadata": {
    "scrolled": true,
    "tags": []
   },
   "outputs": [],
   "source": [
    "\"\"\"\n",
    "Compare RAX expression from symbolic execution with\n",
    "simplified expression through basic z3's SMT simplification\n",
    "of the scramble function in scramble4\n",
    "\"\"\"\n",
    "print(f\"Original RAX scramble4:\\n---\\n{rax_scramble4}\\n\")\n",
    "\n",
    "rax_scramble4_z3 = translator.from_expr(rax_scramble4)\n",
    "print(f\"SMT simplified RAX scramble4:\\n---\\n{simplify(rax_scramble4_z3)}\\n\")"
   ]
  },
  {
   "cell_type": "markdown",
   "id": "ac73ec95",
   "metadata": {
    "slideshow": {
     "slide_type": "slide"
    }
   },
   "source": [
    "# Part III\n",
    "## Analysis - Program synthesis"
   ]
  },
  {
   "cell_type": "code",
   "execution_count": null,
   "id": "02203d45-56ab-4e31-9a81-0f7df9285970",
   "metadata": {
    "tags": []
   },
   "outputs": [],
   "source": [
    "\"\"\"\n",
    "Load synthesis Simplifier from msynth tool and\n",
    "initialize it with given oracle database\n",
    "\"\"\"\n",
    "from msynth import Simplifier\n",
    "oracle_path = \"/opt/tools/msynth/oracle.pickle\"\n",
    "\n",
    "simplifier = Simplifier(oracle_path)"
   ]
  },
  {
   "cell_type": "code",
   "execution_count": null,
   "id": "4a1d4388-da89-4dc9-94bc-b01251de3819",
   "metadata": {
    "tags": []
   },
   "outputs": [],
   "source": [
    "\"\"\"\n",
    "Compare RAX expression from symbolic execution with\n",
    "synthesized expression through msynth synthesis\n",
    "simplification of the scramble function in scramble1\n",
    "\"\"\"\n",
    "rax_scramble1_synth = simplifier.simplify(rax_scramble1)\n",
    "\n",
    "print(f\"RAX SYMEX scramble1:\\n---\\n{rax_scramble1}\\n\")\n",
    "print(f\"RAX SYNTH scramble1:\\n---\\n{rax_scramble1_synth}\\n\")"
   ]
  },
  {
   "cell_type": "code",
   "execution_count": null,
   "id": "6cb64762-5e0e-48a4-8592-4bea4b555e58",
   "metadata": {
    "tags": []
   },
   "outputs": [],
   "source": [
    "\"\"\"\n",
    "Compare RAX expression from symbolic execution with\n",
    "synthesized expression through msynth synthesis\n",
    "simplification of the scramble function in scramble2\n",
    "\"\"\"\n",
    "rax_scramble2_synth = simplifier.simplify(rax_scramble2)\n",
    "\n",
    "print(f\"RAX SYMEX scramble2:\\n---\\n{rax_scramble2}\\n\")\n",
    "print(f\"RAX SYNTH scramble2:\\n---\\n{rax_scramble2_synth}\\n\")"
   ]
  },
  {
   "cell_type": "code",
   "execution_count": null,
   "id": "b4d0cb32-0804-4757-a784-4f67d2bd0180",
   "metadata": {
    "tags": []
   },
   "outputs": [],
   "source": [
    "\"\"\"\n",
    "Compare RAX expression from symbolic execution with\n",
    "synthesized expression through msynth synthesis\n",
    "simplification of the scramble function in scramble3\n",
    "\"\"\"\n",
    "rax_scramble3_synth = simplifier.simplify(rax_scramble3)\n",
    "\n",
    "print(f\"RAX SYMEX scramble3:\\n---\\n{rax_scramble3}\\n\")\n",
    "print(f\"RAX SYNTH scramble3:\\n---\\n{rax_scramble3_synth}\\n\")"
   ]
  },
  {
   "cell_type": "code",
   "execution_count": null,
   "id": "8f375c50-3edb-4dc0-914f-d516c9580791",
   "metadata": {
    "tags": []
   },
   "outputs": [],
   "source": [
    "\"\"\"\n",
    "Compare RAX expression from symbolic execution with\n",
    "synthesized expression through msynth synthesis\n",
    "simplification of the scramble function in scramble4\n",
    "\"\"\"\n",
    "rax_scramble4_synth = simplifier.simplify(rax_scramble4)\n",
    "\n",
    "print(f\"RAX SYMEX scramble4:\\n---\\n{rax_scramble4}\\n\")\n",
    "print(f\"RAX SYNTH scramble4:\\n---\\n{rax_scramble4_synth}\\n\")"
   ]
  }
 ],
 "metadata": {
  "kernelspec": {
   "display_name": "Python 3 (ipykernel)",
   "language": "python",
   "name": "python3"
  },
  "language_info": {
   "codemirror_mode": {
    "name": "ipython",
    "version": 3
   },
   "file_extension": ".py",
   "mimetype": "text/x-python",
   "name": "python",
   "nbconvert_exporter": "python",
   "pygments_lexer": "ipython3",
   "version": "3.10.12"
  },
  "toc": {
   "base_numbering": 1,
   "nav_menu": {},
   "number_sections": false,
   "sideBar": true,
   "skip_h1_title": false,
   "title_cell": "Table of Contents",
   "title_sidebar": "Contents",
   "toc_cell": false,
   "toc_position": {},
   "toc_section_display": true,
   "toc_window_display": false
  }
 },
 "nbformat": 4,
 "nbformat_minor": 5
}
